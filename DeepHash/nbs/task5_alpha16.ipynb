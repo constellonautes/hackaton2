{
  "nbformat": 4,
  "nbformat_minor": 0,
  "metadata": {
    "colab": {
      "name": "task5_alpha16.ipynb",
      "provenance": [],
      "collapsed_sections": []
    },
    "kernelspec": {
      "name": "python3",
      "display_name": "Python 3"
    },
    "accelerator": "GPU"
  },
  "cells": [
    {
      "cell_type": "code",
      "metadata": {
        "id": "Y9u5OIoawwId",
        "colab_type": "code",
        "colab": {}
      },
      "source": [
        "import torch\n",
        "import torchvision.datasets as datasets\n",
        "import torchvision.transforms as transforms\n",
        "from torchvision import models\n",
        "import torch.nn as nn\n",
        "import torch.nn.functional as F\n",
        "from torch import optim\n",
        "import numpy as np"
      ],
      "execution_count": 0,
      "outputs": []
    },
    {
      "cell_type": "code",
      "metadata": {
        "id": "ZD93VGcow0WB",
        "colab_type": "code",
        "outputId": "099c6210-eedf-4e11-ac84-1fe7cb30768c",
        "colab": {
          "base_uri": "https://localhost:8080/",
          "height": 90
        }
      },
      "source": [
        "batch_size = 64\n",
        "num_workers = 1\n",
        "\n",
        "#define transforms\n",
        "data_transforms = {\n",
        "    'train': transforms.Compose([\n",
        "        transforms.RandomResizedCrop(224),\n",
        "        transforms.RandomHorizontalFlip(),\n",
        "        transforms.ToTensor(),\n",
        "        transforms.Normalize([0.485, 0.456, 0.406], [0.229, 0.224, 0.225])\n",
        "    ]),\n",
        "    'val': transforms.Compose([\n",
        "        transforms.Resize(256),\n",
        "        transforms.CenterCrop(224),\n",
        "        transforms.ToTensor(),\n",
        "        transforms.Normalize([0.485, 0.456, 0.406], [0.229, 0.224, 0.225])\n",
        "    ]),\n",
        "}\n",
        "\n",
        "# load imagenet\n",
        "image_dataset = {\n",
        "        'train' :datasets.CIFAR10('./', train=True, download=True, transform=data_transforms['train']),\n",
        "        'test' : datasets.CIFAR10('./', train=False, download=True, transform=data_transforms['train']) \n",
        "}\n",
        "\n",
        "# Create the dataloaders\n",
        "data_loader = {\n",
        "    'train': torch.utils.data.DataLoader(image_dataset['train'], batch_size=batch_size, shuffle=True, num_workers=num_workers),\n",
        "    'test': torch.utils.data.DataLoader(image_dataset['test'], batch_size=batch_size, shuffle=False, num_workers=num_workers)\n",
        "}"
      ],
      "execution_count": 0,
      "outputs": [
        {
          "output_type": "stream",
          "text": [
            "\r0it [00:00, ?it/s]"
          ],
          "name": "stderr"
        },
        {
          "output_type": "stream",
          "text": [
            "Downloading https://www.cs.toronto.edu/~kriz/cifar-10-python.tar.gz to ./cifar-10-python.tar.gz\n"
          ],
          "name": "stdout"
        },
        {
          "output_type": "stream",
          "text": [
            "170500096it [00:07, 23085143.21it/s]                               \n"
          ],
          "name": "stderr"
        },
        {
          "output_type": "stream",
          "text": [
            "Extracting ./cifar-10-python.tar.gz to ./\n",
            "Files already downloaded and verified\n"
          ],
          "name": "stdout"
        }
      ]
    },
    {
      "cell_type": "code",
      "metadata": {
        "id": "9GOWnJuCBno7",
        "colab_type": "code",
        "outputId": "85b5d53d-eb45-4db0-ef61-01de9db4acac",
        "colab": {
          "base_uri": "https://localhost:8080/",
          "height": 145
        }
      },
      "source": [
        "!git clone https://github.com/jjmachan/DeepHash\n",
        "!mv siamese-triplet triplet\n",
        "import triplet.datasets"
      ],
      "execution_count": 0,
      "outputs": [
        {
          "output_type": "stream",
          "text": [
            "Cloning into 'siamese-triplet'...\n",
            "remote: Enumerating objects: 3, done.\u001b[K\n",
            "remote: Counting objects:  33% (1/3)\u001b[K\rremote: Counting objects:  66% (2/3)\u001b[K\rremote: Counting objects: 100% (3/3)\u001b[K\rremote: Counting objects: 100% (3/3), done.\u001b[K\n",
            "remote: Compressing objects: 100% (3/3), done.\u001b[K\n",
            "remote: Total 146 (delta 0), reused 0 (delta 0), pack-reused 143\u001b[K\n",
            "Receiving objects: 100% (146/146), 12.61 MiB | 32.12 MiB/s, done.\n",
            "Resolving deltas: 100% (42/42), done.\n"
          ],
          "name": "stdout"
        }
      ]
    },
    {
      "cell_type": "code",
      "metadata": {
        "id": "jHv-sl5Qy9g-",
        "colab_type": "code",
        "colab": {}
      },
      "source": [
        "import torch\n",
        "from torch.optim import lr_scheduler\n",
        "import torch.optim as optim\n",
        "from torch.autograd import Variable\n",
        "\n",
        "from triplet.trainer import fit\n",
        "import numpy as np\n",
        "cuda = torch.cuda.is_available()\n",
        "\n",
        "%matplotlib inline\n",
        "import matplotlib\n",
        "import matplotlib.pyplot as plt\n"
      ],
      "execution_count": 0,
      "outputs": []
    },
    {
      "cell_type": "code",
      "metadata": {
        "id": "H5yr_XVCBwrB",
        "colab_type": "code",
        "colab": {}
      },
      "source": [
        "from torch.utils.data import Dataset\n",
        "import numpy as np\n",
        "from PIL import Image\n",
        "\n",
        "class TripletCifar1(Dataset):\n",
        "    \"\"\"\n",
        "    Train: For each sample (anchor) randomly chooses a positive and negative samples\n",
        "    Test: Creates fixed triplets for testing\n",
        "    \"\"\"\n",
        "\n",
        "    def __init__(self, dataset):\n",
        "        self.dataset = dataset\n",
        "        self.train = self.dataset.train\n",
        "        self.transform = self.dataset.transform\n",
        "\n",
        "        if self.train:\n",
        "            self.train_labels = np.array(self.dataset.targets,dtype=np.float32)\n",
        "            self.train_data = self.dataset.data\n",
        "            #self.train_data = self.train_data.reshape(-1, 3, 32, 32)\n",
        "            #self.train_data = self.train_data.transpose((0, 2, 3, 1))  # convert to HWC\n",
        "            self.labels_set = set(self.train_labels)\n",
        "            self.label_to_indices = {label: np.where(self.train_labels == label)[0]\n",
        "                                     for label in self.labels_set}\n",
        "        else:\n",
        "            self.test_labels = np.array(self.dataset.targets)\n",
        "            self.test_data = self.dataset.data\n",
        "            # generate fixed triplets for testing\n",
        "            self.labels_set = set(self.test_labels)\n",
        "            self.label_to_indices = {label: np.where(self.test_labels == label)[0]\n",
        "                                     for label in self.labels_set}\n",
        "\n",
        "            random_state = np.random.RandomState(9)\n",
        "\n",
        "            triplets = [[i,\n",
        "                         random_state.choice(self.label_to_indices[self.test_labels[i].item()]),\n",
        "                         random_state.choice(self.label_to_indices[\n",
        "                                                 np.random.choice(\n",
        "                                                     list(self.labels_set - set([self.test_labels[i].item()]))\n",
        "                                                 )\n",
        "                                             ])\n",
        "                         ]\n",
        "                        for i in range(len(self.test_data))]\n",
        "            self.test_triplets = triplets\n",
        "\n",
        "    def __getitem__(self, index):\n",
        "        if self.train:\n",
        "            img1, label1 = self.train_data[index], self.train_labels[index].item()\n",
        "            positive_index = index\n",
        "            while positive_index == index:\n",
        "                positive_index = np.random.choice(self.label_to_indices[label1])\n",
        "            negative_label = np.random.choice(list(self.labels_set - set([label1])))\n",
        "            negative_index = np.random.choice(self.label_to_indices[negative_label])\n",
        "            img2 = self.train_data[positive_index]\n",
        "            img3 = self.train_data[negative_index]\n",
        "        else:\n",
        "            img1 = self.test_data[self.test_triplets[index][0]]\n",
        "            img2 = self.test_data[self.test_triplets[index][1]]\n",
        "            img3 = self.test_data[self.test_triplets[index][2]]\n",
        "\n",
        "        img1 = Image.fromarray(img1)\n",
        "        img2 = Image.fromarray(img2)\n",
        "        img3 = Image.fromarray(img3)\n",
        "        if self.transform is not None:\n",
        "            img1 = self.transform(img1)\n",
        "            img2 = self.transform(img2)\n",
        "            img3 = self.transform(img3)\n",
        "        return (img1, img2, img3), []\n",
        "\n",
        "    def __len__(self):\n",
        "        return len(self.dataset)"
      ],
      "execution_count": 0,
      "outputs": []
    },
    {
      "cell_type": "code",
      "metadata": {
        "id": "ieaDXrLeImS8",
        "colab_type": "code",
        "colab": {}
      },
      "source": [
        "from torch.utils.data.sampler import BatchSampler\n",
        "\n",
        "class BalancedBatchSampler1(BatchSampler):\n",
        "    \"\"\"\n",
        "    BatchSampler - from a MNIST-like dataset, samples n_classes and within these classes samples n_samples.\n",
        "    Returns batches of size n_classes * n_samples\n",
        "    \"\"\"\n",
        "\n",
        "    def __init__(self, labels, n_classes, n_samples):\n",
        "        self.labels = np.array(labels, dtype=np.float32)\n",
        "        self.labels_set = list(set(self.labels))\n",
        "        self.label_to_indices = {label: np.where(self.labels == label)[0]\n",
        "                                 for label in self.labels_set}\n",
        "        for l in self.labels_set:\n",
        "            np.random.shuffle(self.label_to_indices[l])\n",
        "        self.used_label_indices_count = {label: 0 for label in self.labels_set}\n",
        "        self.count = 0\n",
        "        self.n_classes = n_classes\n",
        "        self.n_samples = n_samples\n",
        "        self.n_dataset = len(self.labels)\n",
        "        self.batch_size = self.n_samples * self.n_classes\n",
        "\n",
        "    def __iter__(self):\n",
        "        self.count = 0\n",
        "        while self.count + self.batch_size < self.n_dataset:\n",
        "            classes = np.random.choice(self.labels_set, self.n_classes, replace=False)\n",
        "            indices = []\n",
        "            for class_ in classes:\n",
        "                indices.extend(self.label_to_indices[class_][\n",
        "                               self.used_label_indices_count[class_]:self.used_label_indices_count[\n",
        "                                                                         class_] + self.n_samples])\n",
        "                self.used_label_indices_count[class_] += self.n_samples\n",
        "                if self.used_label_indices_count[class_] + self.n_samples > len(self.label_to_indices[class_]):\n",
        "                    np.random.shuffle(self.label_to_indices[class_])\n",
        "                    self.used_label_indices_count[class_] = 0\n",
        "            yield indices\n",
        "            self.count += self.n_classes * self.n_samples\n",
        "\n",
        "    def __len__(self):\n",
        "        return self.n_dataset // self.batch_size"
      ],
      "execution_count": 0,
      "outputs": []
    },
    {
      "cell_type": "code",
      "metadata": {
        "id": "8xnXFaWMlxnP",
        "colab_type": "code",
        "colab": {}
      },
      "source": [
        "# Set up data loaders\n",
        "from triplet.datasets import BalancedBatchSampler\n",
        "\n",
        "cuda = torch.cuda.is_available()\n",
        "train_batch_sampler = BalancedBatchSampler1(image_dataset['train'].targets, n_classes=10, n_samples=25)\n",
        "test_batch_sampler = BalancedBatchSampler1(image_dataset['test'].targets, n_classes=10, n_samples=25)\n"
      ],
      "execution_count": 0,
      "outputs": []
    },
    {
      "cell_type": "code",
      "metadata": {
        "id": "gwJ14bMDOhDr",
        "colab_type": "code",
        "colab": {}
      },
      "source": [
        "class BinaryLayer(nn.Module):\n",
        "    def __init__(self):\n",
        "        super(BinaryLayer, self).__init__()\n",
        "        self.binaryLayer = nn.Sequential(\n",
        "            nn.Linear(512, 256),\n",
        "            nn.ReLU(),\n",
        "            nn.Linear(256, 128),\n",
        "            nn.ReLU(),\n",
        "            nn.Linear(128,32)\n",
        "        )\n",
        "        \n",
        "    def forward(self, x):\n",
        "      return self.binaryLayer(x) "
      ],
      "execution_count": 0,
      "outputs": []
    },
    {
      "cell_type": "code",
      "metadata": {
        "id": "-j7_JBDlw6zg",
        "colab_type": "code",
        "outputId": "66d916d8-e472-4285-c2c6-40a644c5951e",
        "colab": {
          "base_uri": "https://localhost:8080/",
          "height": 54
        }
      },
      "source": [
        "# An identity layer to pass the fc layer in resnet\n",
        "class Identity(nn.Module):\n",
        "    def __init__(self):\n",
        "        super(Identity, self).__init__()\n",
        "        \n",
        "    def forward(self, x):\n",
        "        return x\n",
        " \n",
        "# Define model\n",
        "resnet18  = models.resnet18(pretrained=True)\n",
        "resnet18.fc = BinaryLayer()\n",
        "\n",
        "# Freeze all the parameters in the model\n",
        "def freeze_model(model):\n",
        "  for params in model.parameters():\n",
        "    params.requires_grad=False\n"
      ],
      "execution_count": 0,
      "outputs": [
        {
          "output_type": "stream",
          "text": [
            "Downloading: \"https://download.pytorch.org/models/resnet18-5c106cde.pth\" to /root/.cache/torch/checkpoints/resnet18-5c106cde.pth\n",
            "100%|██████████| 44.7M/44.7M [00:00<00:00, 72.9MB/s]\n"
          ],
          "name": "stderr"
        }
      ]
    },
    {
      "cell_type": "code",
      "metadata": {
        "id": "Zg0n98HUJMp6",
        "colab_type": "code",
        "colab": {}
      },
      "source": [
        "kwargs = {'num_workers': 1, 'pin_memory': True} if cuda else {}\n",
        "online_train_loader = torch.utils.data.DataLoader(image_dataset['train'], batch_sampler=train_batch_sampler, **kwargs)\n",
        "online_test_loader = torch.utils.data.DataLoader(image_dataset['test'], batch_sampler=test_batch_sampler, **kwargs)"
      ],
      "execution_count": 0,
      "outputs": []
    },
    {
      "cell_type": "code",
      "metadata": {
        "id": "QR3nVDnvMdLU",
        "colab_type": "code",
        "outputId": "beb481bd-8010-4ab9-aa31-32304919f39b",
        "colab": {
          "base_uri": "https://localhost:8080/",
          "height": 244
        }
      },
      "source": [
        "loader = iter(online_train_loader)\n",
        "images, labels = next(loader)\n",
        "print(images.shape)\n",
        "out = model(images.cuda())\n",
        "print(out)\n",
        "print(torch.sign(out))"
      ],
      "execution_count": 0,
      "outputs": [
        {
          "output_type": "error",
          "ename": "NameError",
          "evalue": "ignored",
          "traceback": [
            "\u001b[0;31m---------------------------------------------------------------------------\u001b[0m",
            "\u001b[0;31mNameError\u001b[0m                                 Traceback (most recent call last)",
            "\u001b[0;32m<ipython-input-10-a2855c289047>\u001b[0m in \u001b[0;36m<module>\u001b[0;34m()\u001b[0m\n\u001b[0;32m----> 1\u001b[0;31m \u001b[0mloader\u001b[0m \u001b[0;34m=\u001b[0m \u001b[0miter\u001b[0m\u001b[0;34m(\u001b[0m\u001b[0monline_train_loader\u001b[0m\u001b[0;34m)\u001b[0m\u001b[0;34m\u001b[0m\u001b[0;34m\u001b[0m\u001b[0m\n\u001b[0m\u001b[1;32m      2\u001b[0m \u001b[0mimages\u001b[0m\u001b[0;34m,\u001b[0m \u001b[0mlabels\u001b[0m \u001b[0;34m=\u001b[0m \u001b[0mnext\u001b[0m\u001b[0;34m(\u001b[0m\u001b[0mloader\u001b[0m\u001b[0;34m)\u001b[0m\u001b[0;34m\u001b[0m\u001b[0;34m\u001b[0m\u001b[0m\n\u001b[1;32m      3\u001b[0m \u001b[0mprint\u001b[0m\u001b[0;34m(\u001b[0m\u001b[0mimages\u001b[0m\u001b[0;34m.\u001b[0m\u001b[0mshape\u001b[0m\u001b[0;34m)\u001b[0m\u001b[0;34m\u001b[0m\u001b[0;34m\u001b[0m\u001b[0m\n\u001b[1;32m      4\u001b[0m \u001b[0mout\u001b[0m \u001b[0;34m=\u001b[0m \u001b[0mmodel\u001b[0m\u001b[0;34m(\u001b[0m\u001b[0mimages\u001b[0m\u001b[0;34m.\u001b[0m\u001b[0mcuda\u001b[0m\u001b[0;34m(\u001b[0m\u001b[0;34m)\u001b[0m\u001b[0;34m)\u001b[0m\u001b[0;34m\u001b[0m\u001b[0;34m\u001b[0m\u001b[0m\n\u001b[1;32m      5\u001b[0m \u001b[0mprint\u001b[0m\u001b[0;34m(\u001b[0m\u001b[0mout\u001b[0m\u001b[0;34m)\u001b[0m\u001b[0;34m\u001b[0m\u001b[0;34m\u001b[0m\u001b[0m\n",
            "\u001b[0;31mNameError\u001b[0m: name 'online_train_loader' is not defined"
          ]
        }
      ]
    },
    {
      "cell_type": "code",
      "metadata": {
        "id": "ygM9xKIXPk7q",
        "colab_type": "code",
        "colab": {}
      },
      "source": [
        "class OnlineBinaryTripletLoss(nn.Module):\n",
        "    \"\"\"\n",
        "    Online Triplets loss\n",
        "    Takes a batch of embeddings and corresponding labels.\n",
        "    Triplets are generated using triplet_selector object that take embeddings and targets and return indices of\n",
        "    triplets\n",
        "    \"\"\"\n",
        "\n",
        "    def __init__(self, margin, lam, triplet_selector):\n",
        "        super(OnlineBinaryTripletLoss, self).__init__()\n",
        "        self.lam = lam\n",
        "        self.margin = margin\n",
        "        self.triplet_selector = triplet_selector\n",
        "\n",
        "    def forward(self, embeddings, target):\n",
        "\n",
        "        triplets = self.triplet_selector.get_triplets(embeddings, target)\n",
        "\n",
        "        if embeddings.is_cuda:\n",
        "            triplets = triplets.cuda()\n",
        "        a = embeddings[triplets[:, 0]].unsqueeze(-1)\n",
        "        p = embeddings[triplets[:, 1]].unsqueeze(-2)\n",
        "        n = embeddings[triplets[:, 2]].unsqueeze(-2)\n",
        "\n",
        "        theta_ap = torch.bmm(p, a)/2\n",
        "        theta_an = torch.bmm(n, a)/2\n",
        "\n",
        "        b = torch.sign(embeddings)\n",
        "        reg = (b-embeddings).pow(2).sum(1).sum()\n",
        "\n",
        "        p = theta_ap - theta_an - self.margin \n",
        "        losses = -(p - torch.log(1 + torch.exp(p))).sum() +(self.lam*reg).sum()\n",
        "        return losses, len(triplets)"
      ],
      "execution_count": 0,
      "outputs": []
    },
    {
      "cell_type": "code",
      "metadata": {
        "id": "F8ULoJOhRDjO",
        "colab_type": "code",
        "outputId": "ac13dc7d-e30f-43e6-97fc-bfeec260f4f0",
        "colab": {
          "base_uri": "https://localhost:8080/",
          "height": 54
        }
      },
      "source": [
        "a = torch.FloatTensor(4,1,32).uniform_(-1,1)\n",
        "p = torch.FloatTensor(4,1,32).uniform_(-1,1)\n",
        "n = torch.FloatTensor(4,1,32).uniform_(-1,1)\n",
        "\n",
        "u = torch.FloatTensor(100, 32).uniform_(-1,1)\n",
        "a.transpose_(2,1)\n",
        "theta_ap = torch.bmm(p, a)/2\n",
        "theta_an = torch.bmm(n, a)/2\n",
        "print(theta_ap.shape)\n",
        "alpha = 16\n",
        "lamdha = 100\n",
        "\n",
        "p = theta_ap - theta_an -alpha\n",
        "loss = p - torch.log(1 + torch.exp(p))\n",
        "loss.mean()"
      ],
      "execution_count": 0,
      "outputs": [
        {
          "output_type": "stream",
          "text": [
            "torch.Size([4, 1, 1])\n"
          ],
          "name": "stdout"
        },
        {
          "output_type": "execute_result",
          "data": {
            "text/plain": [
              "tensor(-14.6922)"
            ]
          },
          "metadata": {
            "tags": []
          },
          "execution_count": 12
        }
      ]
    },
    {
      "cell_type": "code",
      "metadata": {
        "id": "QkwIJEY2tkZD",
        "colab_type": "code",
        "colab": {}
      },
      "source": [
        "from itertools import combinations\n",
        "\n",
        "def pdist(vectors):\n",
        "  theta_dist = torch.mm(vectors, vectors.T)/2\n",
        "  return theta_dist\n",
        "\n",
        "\n",
        "class TripletSelector:\n",
        "    \"\"\"\n",
        "    Implementation should return indices of anchors, positive and negative samples\n",
        "    return np array of shape [N_triplets x 3]\n",
        "    \"\"\"\n",
        "\n",
        "    def __init__(self):\n",
        "        pass\n",
        "\n",
        "    def get_triplets(self, embeddings, labels):\n",
        "        raise NotImplementedError\n",
        "\n",
        "class AllTripletSelector(TripletSelector):\n",
        "    \"\"\"\n",
        "    Returns all possible triplets\n",
        "    May be impractical in most cases\n",
        "    \"\"\"\n",
        "\n",
        "    def __init__(self):\n",
        "        super(AllTripletSelector, self).__init__()\n",
        "\n",
        "    def get_triplets(self, embeddings, labels):\n",
        "        labels = labels.cpu().data.numpy()\n",
        "        triplets = []\n",
        "        for label in set(labels):\n",
        "            label_mask = (labels == label)\n",
        "            label_indices = np.where(label_mask)[0]\n",
        "            if len(label_indices) < 2:\n",
        "                continue\n",
        "            negative_indices = np.where(np.logical_not(label_mask))[0]\n",
        "            anchor_positives = list(combinations(label_indices, 2))  # All anchor-positive pairs\n",
        "\n",
        "            # Add all negatives for all positive pairs\n",
        "            temp_triplets = [[anchor_positive[0], anchor_positive[1], neg_ind] for anchor_positive in anchor_positives\n",
        "                             for neg_ind in negative_indices]\n",
        "            triplets += temp_triplets\n",
        "\n",
        "        return torch.LongTensor(np.array(triplets))\n",
        "\n",
        "\n",
        "def hardest_negative(loss_values):\n",
        "    hard_negative = np.argmax(loss_values)\n",
        "    return hard_negative if loss_values[hard_negative] > 0 else None\n",
        "\n",
        "\n",
        "def random_hard_negative(loss_values):\n",
        "    hard_negatives = np.where(loss_values > 0)[0]\n",
        "    return np.random.choice(hard_negatives) if len(hard_negatives) > 0 else None\n",
        "\n",
        "\n",
        "def semihard_negative(loss_values, margin):\n",
        "    semihard_negatives = np.where(np.logical_and(loss_values < margin, loss_values > 0))[0]\n",
        "    return np.random.choice(semihard_negatives) if len(semihard_negatives) > 0 else None\n",
        "\n",
        "class FunctionNegativeTripletSelector(TripletSelector):\n",
        "    \"\"\"\n",
        "    For each positive pair, takes the hardest negative sample (with the greatest triplet loss value) to create a triplet\n",
        "    Margin should match the margin used in triplet loss.\n",
        "    negative_selection_fn should take array of loss_values for a given anchor-positive pair and all negative samples\n",
        "    and return a negative index for that pair\n",
        "    \"\"\"\n",
        "\n",
        "    def __init__(self, margin, negative_selection_fn, cpu=True):\n",
        "        super(FunctionNegativeTripletSelector, self).__init__()\n",
        "        self.cpu = cpu\n",
        "        self.margin = margin\n",
        "        self.negative_selection_fn = negative_selection_fn\n",
        "\n",
        "    def get_triplets(self, embeddings, labels):\n",
        "        if self.cpu:\n",
        "            embeddings = embeddings.cpu()\n",
        "        distance_matrix = pdist(embeddings)\n",
        "        distance_matrix = distance_matrix.cpu()\n",
        "\n",
        "        labels = labels.cpu().data.numpy()\n",
        "        triplets = []\n",
        "\n",
        "        for label in set(labels):\n",
        "            label_mask = (labels == label)\n",
        "            label_indices = np.where(label_mask)[0]\n",
        "            if len(label_indices) < 2:\n",
        "                continue\n",
        "            negative_indices = np.where(np.logical_not(label_mask))[0]\n",
        "            anchor_positives = list(combinations(label_indices, 2))  # All anchor-positive pairs\n",
        "            anchor_positives = np.array(anchor_positives)\n",
        "\n",
        "            ap_distances = distance_matrix[anchor_positives[:, 0], anchor_positives[:, 1]]\n",
        "            for anchor_positive, ap_distance in zip(anchor_positives, ap_distances):\n",
        "                loss_values = ap_distance - distance_matrix[torch.LongTensor(np.array([anchor_positive[0]])), torch.LongTensor(negative_indices)] - self.margin\n",
        "                loss_values = -(loss_values)\n",
        "                loss_values = loss_values.data.cpu().numpy()\n",
        "                hard_negative = self.negative_selection_fn(loss_values)\n",
        "                if hard_negative is not None:\n",
        "                    hard_negative = negative_indices[hard_negative]\n",
        "                    triplets.append([anchor_positive[0], anchor_positive[1], hard_negative])\n",
        "\n",
        "        if len(triplets) == 0:\n",
        "            triplets.append([anchor_positive[0], anchor_positive[1], negative_indices[0]])\n",
        "\n",
        "        triplets = np.array(triplets)\n",
        "\n",
        "        return torch.LongTensor(triplets)\n",
        "\n",
        "\n",
        "def HardestNegativeTripletSelector1(margin, cpu=False): return FunctionNegativeTripletSelector(margin=margin,\n",
        "                                                                                 negative_selection_fn=hardest_negative,\n",
        "                                                                                 cpu=cpu)\n",
        "\n",
        "\n",
        "def RandomNegativeTripletSelector1(margin, cpu=False): return FunctionNegativeTripletSelector(margin=margin,\n",
        "                                                                                negative_selection_fn=random_hard_negative,\n",
        "                                                                                cpu=cpu)\n",
        "\n",
        "\n",
        "def SemihardNegativeTripletSelector1(margin, cpu=False): return FunctionNegativeTripletSelector(margin=margin,\n",
        "                                                                                  negative_selection_fn=lambda x: semihard_negative(x, margin),\n",
        "                                                                                  cpu=cpu)"
      ],
      "execution_count": 0,
      "outputs": []
    },
    {
      "cell_type": "code",
      "metadata": {
        "id": "InBCTR7sLvrg",
        "colab_type": "code",
        "colab": {}
      },
      "source": [
        "# Set up the network and training parameters\n",
        "from triplet.networks import EmbeddingNet\n",
        "from triplet.losses import OnlineTripletLoss\n",
        "from triplet.utils import AllTripletSelector,HardestNegativeTripletSelector, RandomNegativeTripletSelector, SemihardNegativeTripletSelector # Strategies for selecting triplets within a minibatch\n",
        "from triplet.metrics import AverageNonzeroTripletsMetric\n",
        "\n",
        "margin = 16\n",
        "embedding_net = resnet18\n",
        "model = embedding_net\n",
        "if cuda:\n",
        "    model.cuda()\n",
        "loss_fn = OnlineBinaryTripletLoss(margin, 0, RandomNegativeTripletSelector1(margin))\n",
        "lr = 1e-3\n",
        "optimizer = optim.Adam(model.parameters(), lr=lr, weight_decay=1e-4)\n",
        "scheduler = lr_scheduler.StepLR(optimizer, 7, gamma=0.8, last_epoch=-1)\n",
        "n_epochs = 15\n",
        "log_interval = 15"
      ],
      "execution_count": 0,
      "outputs": []
    },
    {
      "cell_type": "code",
      "metadata": {
        "id": "kUkHpGiVl1JX",
        "colab_type": "code",
        "outputId": "002004df-0f8d-42b3-f2f4-6bf580cbfba0",
        "colab": {
          "base_uri": "https://localhost:8080/",
          "height": 1000
        }
      },
      "source": [
        "loss_fn = OnlineBinaryTripletLoss(margin, 10, RandomNegativeTripletSelector1(margin))\n",
        "fit(online_train_loader, online_test_loader, model, loss_fn, optimizer, scheduler, n_epochs, cuda, log_interval, metrics=[AverageNonzeroTripletsMetric()])"
      ],
      "execution_count": 0,
      "outputs": [
        {
          "output_type": "stream",
          "text": [
            "Train: [0/50000 (0%)]\tLoss: 284145.500000\tAverage nonzero triplets: 1582.0\n",
            "Train: [3750/50000 (8%)]\tLoss: 85692.217708\tAverage nonzero triplets: 2750.125\n",
            "Train: [7500/50000 (15%)]\tLoss: 48880.400260\tAverage nonzero triplets: 2776.483870967742\n",
            "Train: [11250/50000 (22%)]\tLoss: 35478.528646\tAverage nonzero triplets: 2793.1521739130435\n",
            "Train: [15000/50000 (30%)]\tLoss: 32577.138542\tAverage nonzero triplets: 2802.311475409836\n",
            "Train: [18750/50000 (38%)]\tLoss: 31958.411458\tAverage nonzero triplets: 2799.0526315789475\n",
            "Train: [22500/50000 (45%)]\tLoss: 29575.233724\tAverage nonzero triplets: 2780.3186813186812\n",
            "Train: [26250/50000 (52%)]\tLoss: 30778.987630\tAverage nonzero triplets: 2778.801886792453\n",
            "Train: [30000/50000 (60%)]\tLoss: 31252.439453\tAverage nonzero triplets: 2774.96694214876\n",
            "Train: [33750/50000 (68%)]\tLoss: 30223.067969\tAverage nonzero triplets: 2772.044117647059\n",
            "Train: [37500/50000 (75%)]\tLoss: 30537.585026\tAverage nonzero triplets: 2773.139072847682\n",
            "Train: [41250/50000 (82%)]\tLoss: 30614.372135\tAverage nonzero triplets: 2772.590361445783\n",
            "Train: [45000/50000 (90%)]\tLoss: 29812.108984\tAverage nonzero triplets: 2770.5303867403313\n",
            "Train: [48750/50000 (98%)]\tLoss: 30178.725911\tAverage nonzero triplets: 2765.6632653061224\n",
            "Epoch: 1/15. Train set: Average loss: 37903.9868\tAverage nonzero triplets: 2766.467336683417\n",
            "Epoch: 1/15. Validation set: Average loss: 31941.8865\tAverage nonzero triplets: 2904.051282051282\n",
            "Train: [0/50000 (0%)]\tLoss: 30707.455078\tAverage nonzero triplets: 2898.0\n",
            "Train: [3750/50000 (8%)]\tLoss: 29039.732031\tAverage nonzero triplets: 2700.625\n",
            "Train: [7500/50000 (15%)]\tLoss: 30204.633984\tAverage nonzero triplets: 2729.032258064516\n",
            "Train: [11250/50000 (22%)]\tLoss: 30013.194922\tAverage nonzero triplets: 2727.8695652173915\n",
            "Train: [15000/50000 (30%)]\tLoss: 29248.606250\tAverage nonzero triplets: 2719.344262295082\n",
            "Train: [18750/50000 (38%)]\tLoss: 29235.035677\tAverage nonzero triplets: 2717.2763157894738\n",
            "Train: [22500/50000 (45%)]\tLoss: 31116.275911\tAverage nonzero triplets: 2724.131868131868\n",
            "Train: [26250/50000 (52%)]\tLoss: 29337.618099\tAverage nonzero triplets: 2719.443396226415\n",
            "Train: [30000/50000 (60%)]\tLoss: 30343.647266\tAverage nonzero triplets: 2721.7355371900826\n",
            "Train: [33750/50000 (68%)]\tLoss: 30284.936979\tAverage nonzero triplets: 2727.301470588235\n",
            "Train: [37500/50000 (75%)]\tLoss: 29566.642578\tAverage nonzero triplets: 2725.860927152318\n",
            "Train: [41250/50000 (82%)]\tLoss: 30470.149870\tAverage nonzero triplets: 2729.9578313253014\n",
            "Train: [45000/50000 (90%)]\tLoss: 30829.653255\tAverage nonzero triplets: 2733.7624309392263\n",
            "Train: [48750/50000 (98%)]\tLoss: 29072.497526\tAverage nonzero triplets: 2729.2551020408164\n",
            "Epoch: 2/15. Train set: Average loss: 29918.2487\tAverage nonzero triplets: 2730.3718592964824\n",
            "Epoch: 2/15. Validation set: Average loss: 32528.8925\tAverage nonzero triplets: 2903.641025641026\n",
            "Train: [0/50000 (0%)]\tLoss: 29455.140625\tAverage nonzero triplets: 2724.0\n",
            "Train: [3750/50000 (8%)]\tLoss: 28341.122656\tAverage nonzero triplets: 2672.0625\n",
            "Train: [7500/50000 (15%)]\tLoss: 28055.382422\tAverage nonzero triplets: 2658.3225806451615\n",
            "Train: [11250/50000 (22%)]\tLoss: 28064.145052\tAverage nonzero triplets: 2654.9347826086955\n",
            "Train: [15000/50000 (30%)]\tLoss: 30105.727214\tAverage nonzero triplets: 2670.2622950819673\n",
            "Train: [18750/50000 (38%)]\tLoss: 29298.912500\tAverage nonzero triplets: 2677.5526315789475\n",
            "Train: [22500/50000 (45%)]\tLoss: 29910.725260\tAverage nonzero triplets: 2686.076923076923\n",
            "Train: [26250/50000 (52%)]\tLoss: 29544.573307\tAverage nonzero triplets: 2694.490566037736\n",
            "Train: [30000/50000 (60%)]\tLoss: 29189.841276\tAverage nonzero triplets: 2695.7520661157023\n",
            "Train: [33750/50000 (68%)]\tLoss: 29566.121354\tAverage nonzero triplets: 2696.1176470588234\n",
            "Train: [37500/50000 (75%)]\tLoss: 30187.219661\tAverage nonzero triplets: 2700.17880794702\n",
            "Train: [41250/50000 (82%)]\tLoss: 28499.600260\tAverage nonzero triplets: 2699.578313253012\n",
            "Train: [45000/50000 (90%)]\tLoss: 29449.454818\tAverage nonzero triplets: 2699.839779005525\n",
            "Train: [48750/50000 (98%)]\tLoss: 29924.092708\tAverage nonzero triplets: 2701.6530612244896\n",
            "Epoch: 3/15. Train set: Average loss: 29230.6765\tAverage nonzero triplets: 2702.251256281407\n",
            "Epoch: 3/15. Validation set: Average loss: 32118.3177\tAverage nonzero triplets: 2897.897435897436\n",
            "Train: [0/50000 (0%)]\tLoss: 33592.664062\tAverage nonzero triplets: 2964.0\n",
            "Train: [3750/50000 (8%)]\tLoss: 30251.131641\tAverage nonzero triplets: 2750.8125\n",
            "Train: [7500/50000 (15%)]\tLoss: 29859.426953\tAverage nonzero triplets: 2743.0\n",
            "Train: [11250/50000 (22%)]\tLoss: 28795.341016\tAverage nonzero triplets: 2720.0\n",
            "Train: [15000/50000 (30%)]\tLoss: 29218.215625\tAverage nonzero triplets: 2716.9836065573772\n",
            "Train: [18750/50000 (38%)]\tLoss: 29172.791927\tAverage nonzero triplets: 2714.0526315789475\n",
            "Train: [22500/50000 (45%)]\tLoss: 28858.863151\tAverage nonzero triplets: 2710.956043956044\n",
            "Train: [26250/50000 (52%)]\tLoss: 29734.712109\tAverage nonzero triplets: 2715.566037735849\n",
            "Train: [30000/50000 (60%)]\tLoss: 29348.316927\tAverage nonzero triplets: 2713.7355371900826\n",
            "Train: [33750/50000 (68%)]\tLoss: 29060.175391\tAverage nonzero triplets: 2711.7132352941176\n",
            "Train: [37500/50000 (75%)]\tLoss: 29053.954297\tAverage nonzero triplets: 2714.8344370860927\n",
            "Train: [41250/50000 (82%)]\tLoss: 28299.848307\tAverage nonzero triplets: 2710.602409638554\n",
            "Train: [45000/50000 (90%)]\tLoss: 29283.058854\tAverage nonzero triplets: 2709.8121546961324\n",
            "Train: [48750/50000 (98%)]\tLoss: 28336.273177\tAverage nonzero triplets: 2708.872448979592\n",
            "Epoch: 4/15. Train set: Average loss: 29175.1712\tAverage nonzero triplets: 2706.5879396984924\n",
            "Epoch: 4/15. Validation set: Average loss: 31918.4650\tAverage nonzero triplets: 2799.4358974358975\n",
            "Train: [0/50000 (0%)]\tLoss: 27110.812500\tAverage nonzero triplets: 2546.0\n",
            "Train: [3750/50000 (8%)]\tLoss: 29692.898568\tAverage nonzero triplets: 2724.4375\n",
            "Train: [7500/50000 (15%)]\tLoss: 28750.486719\tAverage nonzero triplets: 2719.1290322580644\n",
            "Train: [11250/50000 (22%)]\tLoss: 29074.659505\tAverage nonzero triplets: 2708.1304347826085\n",
            "Train: [15000/50000 (30%)]\tLoss: 27485.533073\tAverage nonzero triplets: 2689.098360655738\n",
            "Train: [18750/50000 (38%)]\tLoss: 29483.748177\tAverage nonzero triplets: 2696.7631578947367\n",
            "Train: [22500/50000 (45%)]\tLoss: 27981.590104\tAverage nonzero triplets: 2684.3516483516482\n",
            "Train: [26250/50000 (52%)]\tLoss: 28537.140234\tAverage nonzero triplets: 2687.4716981132074\n",
            "Train: [30000/50000 (60%)]\tLoss: 28180.044531\tAverage nonzero triplets: 2687.4462809917354\n",
            "Train: [33750/50000 (68%)]\tLoss: 28078.413411\tAverage nonzero triplets: 2683.448529411765\n",
            "Train: [37500/50000 (75%)]\tLoss: 28393.376953\tAverage nonzero triplets: 2680.099337748344\n",
            "Train: [41250/50000 (82%)]\tLoss: 28384.708203\tAverage nonzero triplets: 2679.1746987951806\n",
            "Train: [45000/50000 (90%)]\tLoss: 28860.227734\tAverage nonzero triplets: 2680.7734806629833\n",
            "Train: [48750/50000 (98%)]\tLoss: 27854.560547\tAverage nonzero triplets: 2681.438775510204\n",
            "Epoch: 5/15. Train set: Average loss: 28513.0298\tAverage nonzero triplets: 2680.311557788945\n",
            "Epoch: 5/15. Validation set: Average loss: 31325.5835\tAverage nonzero triplets: 2810.128205128205\n",
            "Train: [0/50000 (0%)]\tLoss: 29239.335938\tAverage nonzero triplets: 2828.0\n",
            "Train: [3750/50000 (8%)]\tLoss: 28744.376563\tAverage nonzero triplets: 2714.1875\n",
            "Train: [7500/50000 (15%)]\tLoss: 27893.535938\tAverage nonzero triplets: 2700.548387096774\n",
            "Train: [11250/50000 (22%)]\tLoss: 28143.874609\tAverage nonzero triplets: 2678.8478260869565\n",
            "Train: [15000/50000 (30%)]\tLoss: 27757.740104\tAverage nonzero triplets: 2669.1311475409834\n",
            "Train: [18750/50000 (38%)]\tLoss: 28014.196354\tAverage nonzero triplets: 2667.8026315789475\n",
            "Train: [22500/50000 (45%)]\tLoss: 28609.885417\tAverage nonzero triplets: 2667.065934065934\n",
            "Train: [26250/50000 (52%)]\tLoss: 26668.190625\tAverage nonzero triplets: 2659.943396226415\n",
            "Train: [30000/50000 (60%)]\tLoss: 28101.159635\tAverage nonzero triplets: 2662.0\n",
            "Train: [33750/50000 (68%)]\tLoss: 27532.542578\tAverage nonzero triplets: 2658.573529411765\n",
            "Train: [37500/50000 (75%)]\tLoss: 27607.374089\tAverage nonzero triplets: 2655.9470198675494\n",
            "Train: [41250/50000 (82%)]\tLoss: 27431.117318\tAverage nonzero triplets: 2652.777108433735\n",
            "Train: [45000/50000 (90%)]\tLoss: 28060.396615\tAverage nonzero triplets: 2654.0939226519336\n",
            "Train: [48750/50000 (98%)]\tLoss: 27119.511458\tAverage nonzero triplets: 2653.530612244898\n",
            "Epoch: 6/15. Train set: Average loss: 27791.8200\tAverage nonzero triplets: 2651.753768844221\n",
            "Epoch: 6/15. Validation set: Average loss: 31224.7848\tAverage nonzero triplets: 2850.5384615384614\n",
            "Train: [0/50000 (0%)]\tLoss: 26264.300781\tAverage nonzero triplets: 2455.0\n",
            "Train: [3750/50000 (8%)]\tLoss: 27448.869922\tAverage nonzero triplets: 2627.125\n",
            "Train: [7500/50000 (15%)]\tLoss: 25982.757943\tAverage nonzero triplets: 2616.032258064516\n",
            "Train: [11250/50000 (22%)]\tLoss: 27392.397917\tAverage nonzero triplets: 2606.6304347826085\n",
            "Train: [15000/50000 (30%)]\tLoss: 26903.540625\tAverage nonzero triplets: 2614.4262295081967\n",
            "Train: [18750/50000 (38%)]\tLoss: 28311.051953\tAverage nonzero triplets: 2629.0\n",
            "Train: [22500/50000 (45%)]\tLoss: 27129.014974\tAverage nonzero triplets: 2633.4175824175823\n",
            "Train: [26250/50000 (52%)]\tLoss: 28757.700911\tAverage nonzero triplets: 2642.1603773584907\n",
            "Train: [30000/50000 (60%)]\tLoss: 27492.960547\tAverage nonzero triplets: 2641.619834710744\n",
            "Train: [33750/50000 (68%)]\tLoss: 28919.089583\tAverage nonzero triplets: 2650.639705882353\n",
            "Train: [37500/50000 (75%)]\tLoss: 26514.026562\tAverage nonzero triplets: 2644.0066225165565\n",
            "Train: [41250/50000 (82%)]\tLoss: 27675.742448\tAverage nonzero triplets: 2642.909638554217\n",
            "Train: [45000/50000 (90%)]\tLoss: 26392.417969\tAverage nonzero triplets: 2642.033149171271\n",
            "Train: [48750/50000 (98%)]\tLoss: 27846.384375\tAverage nonzero triplets: 2643.5255102040815\n",
            "Epoch: 7/15. Train set: Average loss: 27406.3990\tAverage nonzero triplets: 2644.361809045226\n",
            "Epoch: 7/15. Validation set: Average loss: 30107.8991\tAverage nonzero triplets: 2850.846153846154\n",
            "Train: [0/50000 (0%)]\tLoss: 23898.738281\tAverage nonzero triplets: 2255.0\n",
            "Train: [3750/50000 (8%)]\tLoss: 27357.619141\tAverage nonzero triplets: 2608.25\n",
            "Train: [7500/50000 (15%)]\tLoss: 28047.631771\tAverage nonzero triplets: 2646.8709677419356\n",
            "Train: [11250/50000 (22%)]\tLoss: 26661.860026\tAverage nonzero triplets: 2631.913043478261\n",
            "Train: [15000/50000 (30%)]\tLoss: 28398.268229\tAverage nonzero triplets: 2644.3278688524592\n",
            "Train: [18750/50000 (38%)]\tLoss: 26024.094792\tAverage nonzero triplets: 2632.25\n",
            "Train: [22500/50000 (45%)]\tLoss: 26763.092708\tAverage nonzero triplets: 2630.120879120879\n",
            "Train: [26250/50000 (52%)]\tLoss: 27427.008984\tAverage nonzero triplets: 2632.5471698113206\n",
            "Train: [30000/50000 (60%)]\tLoss: 26832.145443\tAverage nonzero triplets: 2634.6446280991736\n",
            "Train: [33750/50000 (68%)]\tLoss: 28046.398177\tAverage nonzero triplets: 2636.904411764706\n",
            "Train: [37500/50000 (75%)]\tLoss: 26684.289844\tAverage nonzero triplets: 2635.5761589403974\n",
            "Train: [41250/50000 (82%)]\tLoss: 28508.255599\tAverage nonzero triplets: 2639.734939759036\n",
            "Train: [45000/50000 (90%)]\tLoss: 26538.826693\tAverage nonzero triplets: 2638.729281767956\n",
            "Train: [48750/50000 (98%)]\tLoss: 26950.847786\tAverage nonzero triplets: 2637.408163265306\n",
            "Epoch: 8/15. Train set: Average loss: 27246.2939\tAverage nonzero triplets: 2640.396984924623\n",
            "Epoch: 8/15. Validation set: Average loss: 30299.7655\tAverage nonzero triplets: 2768.230769230769\n",
            "Train: [0/50000 (0%)]\tLoss: 24558.552734\tAverage nonzero triplets: 2055.0\n",
            "Train: [3750/50000 (8%)]\tLoss: 26510.971615\tAverage nonzero triplets: 2576.5\n",
            "Train: [7500/50000 (15%)]\tLoss: 27619.452865\tAverage nonzero triplets: 2622.6451612903224\n",
            "Train: [11250/50000 (22%)]\tLoss: 26528.169922\tAverage nonzero triplets: 2611.782608695652\n",
            "Train: [15000/50000 (30%)]\tLoss: 25445.235026\tAverage nonzero triplets: 2589.590163934426\n",
            "Train: [18750/50000 (38%)]\tLoss: 27427.818750\tAverage nonzero triplets: 2598.5263157894738\n",
            "Train: [22500/50000 (45%)]\tLoss: 26173.576432\tAverage nonzero triplets: 2600.021978021978\n",
            "Train: [26250/50000 (52%)]\tLoss: 27043.338151\tAverage nonzero triplets: 2606.1603773584907\n",
            "Train: [30000/50000 (60%)]\tLoss: 26439.007161\tAverage nonzero triplets: 2604.396694214876\n",
            "Train: [33750/50000 (68%)]\tLoss: 27355.883984\tAverage nonzero triplets: 2608.75\n",
            "Train: [37500/50000 (75%)]\tLoss: 25931.055859\tAverage nonzero triplets: 2604.5033112582782\n",
            "Train: [41250/50000 (82%)]\tLoss: 27423.908203\tAverage nonzero triplets: 2608.9277108433735\n",
            "Train: [45000/50000 (90%)]\tLoss: 27223.874609\tAverage nonzero triplets: 2610.961325966851\n",
            "Train: [48750/50000 (98%)]\tLoss: 27209.364193\tAverage nonzero triplets: 2613.091836734694\n",
            "Epoch: 9/15. Train set: Average loss: 26758.2975\tAverage nonzero triplets: 2612.78391959799\n",
            "Epoch: 9/15. Validation set: Average loss: 29120.8208\tAverage nonzero triplets: 2891.3846153846152\n",
            "Train: [0/50000 (0%)]\tLoss: 25538.582031\tAverage nonzero triplets: 2636.0\n",
            "Train: [3750/50000 (8%)]\tLoss: 27842.367318\tAverage nonzero triplets: 2654.0\n",
            "Train: [7500/50000 (15%)]\tLoss: 26779.303906\tAverage nonzero triplets: 2647.483870967742\n",
            "Train: [11250/50000 (22%)]\tLoss: 26955.021224\tAverage nonzero triplets: 2626.913043478261\n",
            "Train: [15000/50000 (30%)]\tLoss: 26702.759245\tAverage nonzero triplets: 2627.098360655738\n",
            "Train: [18750/50000 (38%)]\tLoss: 26639.677083\tAverage nonzero triplets: 2626.5263157894738\n",
            "Train: [22500/50000 (45%)]\tLoss: 26096.694141\tAverage nonzero triplets: 2625.4945054945056\n",
            "Train: [26250/50000 (52%)]\tLoss: 25866.907161\tAverage nonzero triplets: 2617.3490566037735\n",
            "Train: [30000/50000 (60%)]\tLoss: 27439.179948\tAverage nonzero triplets: 2628.809917355372\n",
            "Train: [33750/50000 (68%)]\tLoss: 26624.822917\tAverage nonzero triplets: 2625.9779411764707\n",
            "Train: [37500/50000 (75%)]\tLoss: 27081.418229\tAverage nonzero triplets: 2627.562913907285\n",
            "Train: [41250/50000 (82%)]\tLoss: 25482.947266\tAverage nonzero triplets: 2623.5542168674697\n",
            "Train: [45000/50000 (90%)]\tLoss: 26123.766016\tAverage nonzero triplets: 2621.182320441989\n",
            "Train: [48750/50000 (98%)]\tLoss: 26814.431120\tAverage nonzero triplets: 2622.3571428571427\n",
            "Epoch: 10/15. Train set: Average loss: 26686.5054\tAverage nonzero triplets: 2624.251256281407\n",
            "Epoch: 10/15. Validation set: Average loss: 30512.9612\tAverage nonzero triplets: 2788.4615384615386\n",
            "Train: [0/50000 (0%)]\tLoss: 30107.685547\tAverage nonzero triplets: 2665.0\n"
          ],
          "name": "stdout"
        }
      ]
    },
    {
      "cell_type": "code",
      "metadata": {
        "id": "mzxfPC3avk-D",
        "colab_type": "code",
        "colab": {}
      },
      "source": [
        "torch.save(model, './triplet_resnet18_epoche10_alpha16_lamdha0.mdl')"
      ],
      "execution_count": 0,
      "outputs": []
    },
    {
      "cell_type": "code",
      "metadata": {
        "id": "bkkp90-Ar_UX",
        "colab_type": "code",
        "colab": {}
      },
      "source": [
        "model = torch.load('./triplet_resnet18_epoche10_alpha16_lamdha0.mdl')"
      ],
      "execution_count": 0,
      "outputs": []
    },
    {
      "cell_type": "code",
      "metadata": {
        "id": "DtqvO2WPKUnG",
        "colab_type": "code",
        "colab": {}
      },
      "source": [
        "for i in range(10):\n",
        "  print('Starting: ',i)\n",
        "  fit(online_train_loader, online_test_loader, model, loss_fn, optimizer, scheduler, n_epochs, cuda, log_interval, metrics=[AverageNonzeroTripletsMetric()])\n",
        "  torch.save(model, './triplet_resnet18_binary%d.mdl'%(i))\n",
        "  print(\"checkpoint saved\")"
      ],
      "execution_count": 0,
      "outputs": []
    },
    {
      "cell_type": "code",
      "metadata": {
        "id": "AD21WqXCHlqc",
        "colab_type": "code",
        "colab": {}
      },
      "source": [
        "torch.save(model, './triplet_vgg20_2.mdl')"
      ],
      "execution_count": 0,
      "outputs": []
    },
    {
      "cell_type": "code",
      "metadata": {
        "id": "ddYXN5naIdXp",
        "colab_type": "code",
        "colab": {}
      },
      "source": [
        ""
      ],
      "execution_count": 0,
      "outputs": []
    },
    {
      "cell_type": "code",
      "metadata": {
        "id": "kodDsXoMwF6-",
        "colab_type": "code",
        "colab": {}
      },
      "source": [
        "# save to google drive \n",
        "\n",
        "from google.colab import drive\n",
        "drive.mount('/gdrive')\n",
        "\n",
        "!cp *.mdl /gdrive/My\\ Drive/tooploox"
      ],
      "execution_count": 0,
      "outputs": []
    },
    {
      "cell_type": "code",
      "metadata": {
        "id": "kP3tTynrwS_I",
        "colab_type": "code",
        "colab": {}
      },
      "source": [
        "# load data\n",
        "from google.colab import drive\n",
        "drive.mount('/gdrive')\n",
        "!cp /gdrive/My\\ Drive/tooploox/*.mdl ./ "
      ],
      "execution_count": 0,
      "outputs": []
    },
    {
      "cell_type": "code",
      "metadata": {
        "id": "Hj5dM0U2v4f9",
        "colab_type": "code",
        "colab": {}
      },
      "source": [
        "model_test = torch.load('./triplet_vgg19.mdl')\n",
        "model.eval()"
      ],
      "execution_count": 0,
      "outputs": []
    },
    {
      "cell_type": "code",
      "metadata": {
        "id": "YOw-fCVY_sGx",
        "colab_type": "code",
        "colab": {}
      },
      "source": [
        "# Freeze all the parameters in the model\n",
        "def freeze_model(model):\n",
        "  for params in model.parameters():\n",
        "    params.requires_grad=False\n",
        "\n",
        "def unfreeze_model(model):\n",
        "  for params in model.parameters():\n",
        "    params.requires_grad= True\n",
        "\n",
        "# check if all the parameters have been freezed\n",
        "def list_trainable(model):\n",
        "  for params in model.parameters():\n",
        "    print(params.requires_grad)\n",
        "  \n",
        "# delete the last layers\n",
        "def del_last_layers(model_class, num_layers):\n",
        "  model_class = nn.Sequential(*list(model_class.children())[:-num_layers])\n",
        "  return model_class"
      ],
      "execution_count": 0,
      "outputs": []
    },
    {
      "cell_type": "code",
      "metadata": {
        "id": "y6-64Pswx7GH",
        "colab_type": "code",
        "colab": {}
      },
      "source": [
        "def create_embeddings(model, embedding_size):\n",
        "  device = torch.device('cuda' if torch.cuda.is_available() else 'cpu')\n",
        "  print(device)\n",
        "  model.eval()\n",
        "  features = {}\n",
        "  targets = {}\n",
        "  model.to(device)\n",
        "  features['train'] = np.empty([0, embedding_size])\n",
        "  targets['train'] = np.empty([0, ])\n",
        "\n",
        "  features['test'] = np.empty([0, embedding_size])\n",
        "  targets['test'] = np.empty([0,])\n",
        "\n",
        "  for i, (images,target) in enumerate(data_loader['train']):\n",
        "    images = images.to(device)\n",
        "    target = target.to(device)\n",
        "\n",
        "    try:\n",
        "      output = model(images).cpu().detach().numpy()\n",
        "      features['train'] = np.append(features['train'],output, axis=0)\n",
        "      targets['train'] = np.append(targets['train'],target.cpu(), axis=0)\n",
        "    except:\n",
        "      print(output.shape)\n",
        "      print('error occured: ', e)\n",
        "      return (None, None)\n",
        "    \n",
        "    if i%100 == 0:\n",
        "      print(i)\n",
        "\n",
        "  for i, (images,target) in enumerate(data_loader['test']):\n",
        "    images = images.to(device)\n",
        "    target = target.to(device)\n",
        "\n",
        "    output = model(images).cpu().detach().numpy()\n",
        "    features['test'] = np.append(features['test'],output, axis=0)\n",
        "    targets['test'] = np.append(targets['test'],target.cpu(), axis=0)\n",
        "\n",
        "    if i%100 == 0:\n",
        "      print(i)\n",
        "  return (features, targets)"
      ],
      "execution_count": 0,
      "outputs": []
    },
    {
      "cell_type": "code",
      "metadata": {
        "id": "M8_GyOjMylBx",
        "colab_type": "code",
        "outputId": "29053df8-d046-4dee-888f-de1ddc613c01",
        "colab": {
          "base_uri": "https://localhost:8080/",
          "height": 217
        }
      },
      "source": [
        "features, targets = create_embeddings(model, 32)"
      ],
      "execution_count": 0,
      "outputs": [
        {
          "output_type": "stream",
          "text": [
            "cuda\n",
            "0\n",
            "100\n",
            "200\n",
            "300\n",
            "400\n",
            "500\n",
            "600\n",
            "700\n",
            "0\n",
            "100\n"
          ],
          "name": "stdout"
        }
      ]
    },
    {
      "cell_type": "code",
      "metadata": {
        "id": "bLRudmT87Mak",
        "colab_type": "code",
        "outputId": "eeef625d-048a-4b15-e589-9336d8bcb4be",
        "colab": {
          "base_uri": "https://localhost:8080/",
          "height": 35
        }
      },
      "source": [
        "features['train'].shape"
      ],
      "execution_count": 0,
      "outputs": [
        {
          "output_type": "execute_result",
          "data": {
            "text/plain": [
              "(50000, 32)"
            ]
          },
          "metadata": {
            "tags": []
          },
          "execution_count": 24
        }
      ]
    },
    {
      "cell_type": "code",
      "metadata": {
        "id": "1qBOJMUob0QM",
        "colab_type": "code",
        "colab": {}
      },
      "source": [
        "model.fc = Identity()"
      ],
      "execution_count": 0,
      "outputs": []
    },
    {
      "cell_type": "code",
      "metadata": {
        "id": "NGjNaMPZyvWA",
        "colab_type": "code",
        "outputId": "929033c0-af78-4105-a76a-b118ebe51f19",
        "colab": {
          "base_uri": "https://localhost:8080/",
          "height": 1000
        }
      },
      "source": [
        "model_emb = model\n",
        "freeze_model(model_emb)\n",
        "print(model_emb)"
      ],
      "execution_count": 0,
      "outputs": [
        {
          "output_type": "stream",
          "text": [
            "ResNet(\n",
            "  (conv1): Conv2d(3, 64, kernel_size=(7, 7), stride=(2, 2), padding=(3, 3), bias=False)\n",
            "  (bn1): BatchNorm2d(64, eps=1e-05, momentum=0.1, affine=True, track_running_stats=True)\n",
            "  (relu): ReLU(inplace=True)\n",
            "  (maxpool): MaxPool2d(kernel_size=3, stride=2, padding=1, dilation=1, ceil_mode=False)\n",
            "  (layer1): Sequential(\n",
            "    (0): BasicBlock(\n",
            "      (conv1): Conv2d(64, 64, kernel_size=(3, 3), stride=(1, 1), padding=(1, 1), bias=False)\n",
            "      (bn1): BatchNorm2d(64, eps=1e-05, momentum=0.1, affine=True, track_running_stats=True)\n",
            "      (relu): ReLU(inplace=True)\n",
            "      (conv2): Conv2d(64, 64, kernel_size=(3, 3), stride=(1, 1), padding=(1, 1), bias=False)\n",
            "      (bn2): BatchNorm2d(64, eps=1e-05, momentum=0.1, affine=True, track_running_stats=True)\n",
            "    )\n",
            "    (1): BasicBlock(\n",
            "      (conv1): Conv2d(64, 64, kernel_size=(3, 3), stride=(1, 1), padding=(1, 1), bias=False)\n",
            "      (bn1): BatchNorm2d(64, eps=1e-05, momentum=0.1, affine=True, track_running_stats=True)\n",
            "      (relu): ReLU(inplace=True)\n",
            "      (conv2): Conv2d(64, 64, kernel_size=(3, 3), stride=(1, 1), padding=(1, 1), bias=False)\n",
            "      (bn2): BatchNorm2d(64, eps=1e-05, momentum=0.1, affine=True, track_running_stats=True)\n",
            "    )\n",
            "  )\n",
            "  (layer2): Sequential(\n",
            "    (0): BasicBlock(\n",
            "      (conv1): Conv2d(64, 128, kernel_size=(3, 3), stride=(2, 2), padding=(1, 1), bias=False)\n",
            "      (bn1): BatchNorm2d(128, eps=1e-05, momentum=0.1, affine=True, track_running_stats=True)\n",
            "      (relu): ReLU(inplace=True)\n",
            "      (conv2): Conv2d(128, 128, kernel_size=(3, 3), stride=(1, 1), padding=(1, 1), bias=False)\n",
            "      (bn2): BatchNorm2d(128, eps=1e-05, momentum=0.1, affine=True, track_running_stats=True)\n",
            "      (downsample): Sequential(\n",
            "        (0): Conv2d(64, 128, kernel_size=(1, 1), stride=(2, 2), bias=False)\n",
            "        (1): BatchNorm2d(128, eps=1e-05, momentum=0.1, affine=True, track_running_stats=True)\n",
            "      )\n",
            "    )\n",
            "    (1): BasicBlock(\n",
            "      (conv1): Conv2d(128, 128, kernel_size=(3, 3), stride=(1, 1), padding=(1, 1), bias=False)\n",
            "      (bn1): BatchNorm2d(128, eps=1e-05, momentum=0.1, affine=True, track_running_stats=True)\n",
            "      (relu): ReLU(inplace=True)\n",
            "      (conv2): Conv2d(128, 128, kernel_size=(3, 3), stride=(1, 1), padding=(1, 1), bias=False)\n",
            "      (bn2): BatchNorm2d(128, eps=1e-05, momentum=0.1, affine=True, track_running_stats=True)\n",
            "    )\n",
            "  )\n",
            "  (layer3): Sequential(\n",
            "    (0): BasicBlock(\n",
            "      (conv1): Conv2d(128, 256, kernel_size=(3, 3), stride=(2, 2), padding=(1, 1), bias=False)\n",
            "      (bn1): BatchNorm2d(256, eps=1e-05, momentum=0.1, affine=True, track_running_stats=True)\n",
            "      (relu): ReLU(inplace=True)\n",
            "      (conv2): Conv2d(256, 256, kernel_size=(3, 3), stride=(1, 1), padding=(1, 1), bias=False)\n",
            "      (bn2): BatchNorm2d(256, eps=1e-05, momentum=0.1, affine=True, track_running_stats=True)\n",
            "      (downsample): Sequential(\n",
            "        (0): Conv2d(128, 256, kernel_size=(1, 1), stride=(2, 2), bias=False)\n",
            "        (1): BatchNorm2d(256, eps=1e-05, momentum=0.1, affine=True, track_running_stats=True)\n",
            "      )\n",
            "    )\n",
            "    (1): BasicBlock(\n",
            "      (conv1): Conv2d(256, 256, kernel_size=(3, 3), stride=(1, 1), padding=(1, 1), bias=False)\n",
            "      (bn1): BatchNorm2d(256, eps=1e-05, momentum=0.1, affine=True, track_running_stats=True)\n",
            "      (relu): ReLU(inplace=True)\n",
            "      (conv2): Conv2d(256, 256, kernel_size=(3, 3), stride=(1, 1), padding=(1, 1), bias=False)\n",
            "      (bn2): BatchNorm2d(256, eps=1e-05, momentum=0.1, affine=True, track_running_stats=True)\n",
            "    )\n",
            "  )\n",
            "  (layer4): Sequential(\n",
            "    (0): BasicBlock(\n",
            "      (conv1): Conv2d(256, 512, kernel_size=(3, 3), stride=(2, 2), padding=(1, 1), bias=False)\n",
            "      (bn1): BatchNorm2d(512, eps=1e-05, momentum=0.1, affine=True, track_running_stats=True)\n",
            "      (relu): ReLU(inplace=True)\n",
            "      (conv2): Conv2d(512, 512, kernel_size=(3, 3), stride=(1, 1), padding=(1, 1), bias=False)\n",
            "      (bn2): BatchNorm2d(512, eps=1e-05, momentum=0.1, affine=True, track_running_stats=True)\n",
            "      (downsample): Sequential(\n",
            "        (0): Conv2d(256, 512, kernel_size=(1, 1), stride=(2, 2), bias=False)\n",
            "        (1): BatchNorm2d(512, eps=1e-05, momentum=0.1, affine=True, track_running_stats=True)\n",
            "      )\n",
            "    )\n",
            "    (1): BasicBlock(\n",
            "      (conv1): Conv2d(512, 512, kernel_size=(3, 3), stride=(1, 1), padding=(1, 1), bias=False)\n",
            "      (bn1): BatchNorm2d(512, eps=1e-05, momentum=0.1, affine=True, track_running_stats=True)\n",
            "      (relu): ReLU(inplace=True)\n",
            "      (conv2): Conv2d(512, 512, kernel_size=(3, 3), stride=(1, 1), padding=(1, 1), bias=False)\n",
            "      (bn2): BatchNorm2d(512, eps=1e-05, momentum=0.1, affine=True, track_running_stats=True)\n",
            "    )\n",
            "  )\n",
            "  (avgpool): AdaptiveAvgPool2d(output_size=(1, 1))\n",
            "  (fc): Identity()\n",
            ")\n"
          ],
          "name": "stdout"
        }
      ]
    },
    {
      "cell_type": "code",
      "metadata": {
        "id": "MgGvI0PR_hlm",
        "colab_type": "code",
        "colab": {}
      },
      "source": [
        "# Save and load\n",
        "import pickle\n",
        "\n",
        "def save(features, targets, model_name):\n",
        "  with open(model_name+'.embs', 'wb') as file:\n",
        "    pickle.dump((features,targets), file)\n",
        "    print('file saved in ', model_name)\n",
        "\n",
        "def load(model_name):\n",
        "  with open(model_name+'.embs', 'rb') as file:\n",
        "    features, targets = pickle.load(file)\n",
        "    return (features, targets)\n"
      ],
      "execution_count": 0,
      "outputs": []
    },
    {
      "cell_type": "code",
      "metadata": {
        "id": "Miqi61eqAIvx",
        "colab_type": "code",
        "outputId": "6da7ec93-7eec-4a39-e542-91e2b6a5641e",
        "colab": {
          "base_uri": "https://localhost:8080/",
          "height": 35
        }
      },
      "source": [
        "# save the computed embeddings\n",
        "save(features_sign, targets, 'binary_epoch15_alpha16_sign')"
      ],
      "execution_count": 0,
      "outputs": [
        {
          "output_type": "stream",
          "text": [
            "file saved in  binary_epoch15_alpha16_sign\n"
          ],
          "name": "stdout"
        }
      ]
    },
    {
      "cell_type": "code",
      "metadata": {
        "id": "c6waqp5oATjE",
        "colab_type": "code",
        "outputId": "7617906d-977c-416e-e242-6c981d16bb13",
        "colab": {
          "base_uri": "https://localhost:8080/",
          "height": 128
        }
      },
      "source": [
        "# save to google drive \n",
        "\n",
        "from google.colab import drive\n",
        "drive.mount('/gdrive')\n",
        "\n",
        "!cp *embs /gdrive/My\\ Drive/tooploox"
      ],
      "execution_count": 0,
      "outputs": [
        {
          "output_type": "stream",
          "text": [
            "Go to this URL in a browser: https://accounts.google.com/o/oauth2/auth?client_id=947318989803-6bn6qk8qdgf4n4g3pfee6491hc0brc4i.apps.googleusercontent.com&redirect_uri=urn%3Aietf%3Awg%3Aoauth%3A2.0%3Aoob&scope=email%20https%3A%2F%2Fwww.googleapis.com%2Fauth%2Fdocs.test%20https%3A%2F%2Fwww.googleapis.com%2Fauth%2Fdrive%20https%3A%2F%2Fwww.googleapis.com%2Fauth%2Fdrive.photos.readonly%20https%3A%2F%2Fwww.googleapis.com%2Fauth%2Fpeopleapi.readonly&response_type=code\n",
            "\n",
            "Enter your authorization code:\n",
            "··········\n",
            "Mounted at /gdrive\n"
          ],
          "name": "stdout"
        }
      ]
    },
    {
      "cell_type": "code",
      "metadata": {
        "id": "UP891c-sYuQf",
        "colab_type": "code",
        "colab": {}
      },
      "source": [
        "!ls /gdrive/My\\ Drive/tooploox"
      ],
      "execution_count": 0,
      "outputs": []
    },
    {
      "cell_type": "code",
      "metadata": {
        "id": "LlzlH3aR7Wnb",
        "colab_type": "code",
        "outputId": "29b6431f-bdf1-4378-b9c0-e532683633c5",
        "colab": {
          "base_uri": "https://localhost:8080/",
          "height": 72
        }
      },
      "source": [
        "features_sign = {}\n",
        "features_sign['train'] = np.sign(features['train'])\n",
        "features_sign['test'] = np.sign(features['test'])\n",
        "features_sign['test'][0]"
      ],
      "execution_count": 0,
      "outputs": [
        {
          "output_type": "execute_result",
          "data": {
            "text/plain": [
              "array([ 1., -1.,  1.,  1.,  1.,  1., -1., -1.,  1.,  1.,  1., -1., -1.,\n",
              "       -1., -1., -1., -1., -1.,  1.,  1.,  1., -1.,  1.,  1.,  1., -1.,\n",
              "       -1.,  1., -1.,  1.,  1., -1.])"
            ]
          },
          "metadata": {
            "tags": []
          },
          "execution_count": 19
        }
      ]
    },
    {
      "cell_type": "code",
      "metadata": {
        "id": "lpDtuaMfAUms",
        "colab_type": "code",
        "outputId": "0af5dc4d-e3a9-4b58-990e-332e2ef4ae4d",
        "colab": {
          "base_uri": "https://localhost:8080/",
          "height": 126
        }
      },
      "source": [
        "from sklearn.neighbors import KNeighborsClassifier\n",
        "from sklearn import metrics\n",
        "\n",
        "k_range = range(25,30)\n",
        "\n",
        "def search_knn_accuracies(k_range, features, targets):\n",
        "  acc = []\n",
        "  for k in k_range:\n",
        "    knn = KNeighborsClassifier(n_neighbors=k)\n",
        "    knn.fit(features['train'], targets['train'])\n",
        "    #print('finished fitting')\n",
        "    predict = knn.predict(features['test'][:300,:])\n",
        "    #print('predicted')\n",
        "    score = metrics.accuracy_score(targets['test'][:300], predict)\n",
        "    print('K value: %d, accuracy: %0.7f' %(k, score))\n",
        "    acc.append(score)\n",
        "  print('Mean accuracy ',sum(acc)/len(acc))\n",
        "\n",
        "# the best score was obtained when k = 20:24\n",
        "search_knn_accuracies(k_range, features, targets)"
      ],
      "execution_count": 0,
      "outputs": [
        {
          "output_type": "stream",
          "text": [
            "K value: 25, accuracy: 0.8100000\n",
            "K value: 26, accuracy: 0.8033333\n",
            "K value: 27, accuracy: 0.8100000\n",
            "K value: 28, accuracy: 0.8133333\n",
            "K value: 29, accuracy: 0.8133333\n",
            "Mean accuracy  0.8099999999999999\n"
          ],
          "name": "stdout"
        }
      ]
    },
    {
      "cell_type": "code",
      "metadata": {
        "id": "OFy1JSKSAZU8",
        "colab_type": "code",
        "outputId": "89c4b556-e6c1-4b32-fc6a-13872dec879d",
        "colab": {
          "base_uri": "https://localhost:8080/",
          "height": 35
        }
      },
      "source": [
        "import time\n",
        "import pandas as pd\n",
        "import numpy as np\n",
        "import matplotlib.pyplot as plt\n",
        "import matplotlib.patheffects as PathEffects\n",
        "from sklearn.manifold import TSNE\n",
        "%matplotlib inline\n",
        "\n",
        "from sklearn.decomposition import PCA\n",
        "from sklearn.manifold import TSNE\n",
        "\n",
        "import seaborn as sns\n",
        "sns.set_style('darkgrid')\n",
        "sns.set_palette('muted')\n",
        "sns.set_context(\"notebook\", font_scale=1.5,\n",
        "                rc={\"lines.linewidth\": 2.5})\n",
        "RS = 123\n",
        "# need to create a subset of the data, too much time to process otherwise\n",
        "x_subset = features['train'][:5000]\n",
        "y_subset = targets['train'][:5000]\n",
        "\n",
        "print(np.unique(y_subset))\n",
        "labels = {\n",
        "     0: 'airplane',  \n",
        "     1: 'automobile',\n",
        "     2: 'bird',\n",
        "     3: 'cat',\n",
        "     4: 'deer',\n",
        "     5: 'dog',\n",
        "     6: 'frog',\n",
        "     7: 'horse',\n",
        "     8: 'ship',\n",
        "     9: 'truck',\n",
        "}\n",
        "# Utility function to visualize the outputs of PCA and t-SNE\n",
        "\n",
        "def fashion_scatter(x, colors):\n",
        "    # choose a color palette with seaborn.\n",
        "    num_classes = len(np.unique(colors))\n",
        "    palette = np.array(sns.color_palette(\"hls\", num_classes))\n",
        "\n",
        "    # create a scatter plot.\n",
        "    f = plt.figure(figsize=(8, 8))\n",
        "    ax = plt.subplot(aspect='equal')\n",
        "    sc = ax.scatter(x[:,0], x[:,1], lw=0, s=40, c=palette[colors.astype(np.int)])\n",
        "    plt.xlim(-25, 25)\n",
        "    plt.ylim(-25, 25)\n",
        "    ax.axis('off')\n",
        "    ax.axis('tight')\n",
        "\n",
        "    # add the labels for each digit corresponding to the label\n",
        "    txts = []\n",
        "\n",
        "    for i in range(num_classes):\n",
        "\n",
        "        # Position of each label at median of data points.\n",
        "\n",
        "        xtext, ytext = np.median(x[colors == i, :], axis=0)\n",
        "        txt = ax.text(xtext, ytext, str(labels[i]), fontsize=24)\n",
        "        txt.set_path_effects([\n",
        "            PathEffects.Stroke(linewidth=5, foreground=\"w\"),\n",
        "            PathEffects.Normal()])\n",
        "        txts.append(txt)\n",
        "\n",
        "    return f, ax, sc, txts"
      ],
      "execution_count": 0,
      "outputs": [
        {
          "output_type": "stream",
          "text": [
            "[0. 1. 2. 3. 4. 5. 6. 7. 8. 9.]\n"
          ],
          "name": "stdout"
        }
      ]
    },
    {
      "cell_type": "code",
      "metadata": {
        "id": "rD-BsELyA6BR",
        "colab_type": "code",
        "outputId": "80032ace-be53-4646-89ab-6a262b7f47e3",
        "colab": {
          "base_uri": "https://localhost:8080/",
          "height": 72
        }
      },
      "source": [
        "# do pca before passing to tsne to reduce noice and fast performance\n",
        "time_start = time.time()\n",
        "\n",
        "pca_50 = PCA(n_components=32)\n",
        "pca_result_50 = pca_50.fit_transform(x_subset)\n",
        "\n",
        "print('PCA with 50 components done! Time elapsed: {} seconds'.format(time.time()-time_start))\n",
        "\n",
        "print('Cumulative variance explained by 50 principal components: {}'.format(np.sum(pca_50.explained_variance_ratio_)))\n",
        "# perform tsne on 50 components\n",
        "time_start = time.time()\n",
        "\n",
        "\n",
        "fashion_pca_tsne = TSNE(random_state=RS).fit_transform(pca_result_50)\n",
        "\n",
        "print('t-SNE done! Time elapsed: {} seconds'.format(time.time()-time_start))"
      ],
      "execution_count": 0,
      "outputs": [
        {
          "output_type": "stream",
          "text": [
            "PCA with 50 components done! Time elapsed: 0.013384819030761719 seconds\n",
            "Cumulative variance explained by 50 principal components: 1.0\n",
            "t-SNE done! Time elapsed: 37.46543502807617 seconds\n"
          ],
          "name": "stdout"
        }
      ]
    },
    {
      "cell_type": "code",
      "metadata": {
        "id": "G2HvhLmEA-ah",
        "colab_type": "code",
        "outputId": "01c74acb-9f9e-4fc9-ef45-7c17cbc1a64f",
        "colab": {
          "base_uri": "https://localhost:8080/",
          "height": 703
        }
      },
      "source": [
        "fashion_scatter(fashion_pca_tsne, y_subset)"
      ],
      "execution_count": 0,
      "outputs": [
        {
          "output_type": "execute_result",
          "data": {
            "text/plain": [
              "(<Figure size 576x576 with 1 Axes>,\n",
              " <matplotlib.axes._subplots.AxesSubplot at 0x7f7dbf53a2b0>,\n",
              " <matplotlib.collections.PathCollection at 0x7f7dbe512390>,\n",
              " [Text(-29.87027, -24.568775, 'airplane'),\n",
              "  Text(-71.17509, -0.44621837, 'automobile'),\n",
              "  Text(5.141738, -22.821735, 'bird'),\n",
              "  Text(15.812429, 40.410366, 'cat'),\n",
              "  Text(35.659733, -22.13056, 'deer'),\n",
              "  Text(57.13344, -1.5746105, 'dog'),\n",
              "  Text(-11.7645855, 40.210827, 'frog'),\n",
              "  Text(45.08953, 21.392338, 'horse'),\n",
              "  Text(-39.422935, 21.45201, 'ship'),\n",
              "  Text(-2.4064803, -57.642292, 'truck')])"
            ]
          },
          "metadata": {
            "tags": []
          },
          "execution_count": 27
        },
        {
          "output_type": "display_data",
          "data": {
            "image/png": "[encoded data removed]",
            "text/plain": [
              "<Figure size 576x576 with 1 Axes>"
            ]
          },
          "metadata": {
            "tags": []
          }
        }
      ]
    },
    {
      "cell_type": "code",
      "metadata": {
        "id": "fqfk3460dGYa",
        "colab_type": "code",
        "outputId": "c674b10a-05b5-4740-a213-6b7e9c716830",
        "colab": {
          "base_uri": "https://localhost:8080/",
          "height": 35
        }
      },
      "source": [
        "def average_precision(vector):\n",
        "  assert vector.ndim == 1\n",
        "  sum_precision = 0\n",
        "  num_true_values = 0\n",
        "  for i, value in enumerate(vector):\n",
        "    if value:\n",
        "      num_true_values += 1\n",
        "    sum_precision += value*num_true_values/(i+1)\n",
        "  return sum_precision/(sum(vector)+ 0.00000001)\n",
        "def mAP(features, targets):\n",
        "\n",
        "  num_elements_to_retrieve = 50\n",
        "  num_test_queries = 36\n",
        "\n",
        "  knn = KNeighborsClassifier(n_neighbors=29)\n",
        "  knn.fit(features['train'], targets['train'])\n",
        "  indexes = knn.kneighbors(features['test'][:num_test_queries],num_elements_to_retrieve, return_distance=False)\n",
        "  results = targets['train'][indexes] == targets['test'][:num_test_queries].reshape(-1, 1)\n",
        "  APs = []\n",
        "  for vector in results:\n",
        "    APs.append(average_precision(vector))\n",
        "  print('mAP is: ',sum(APs)/len(APs))\n",
        "mAP(features, targets)"
      ],
      "execution_count": 0,
      "outputs": [
        {
          "output_type": "stream",
          "text": [
            "mAP is:  0.8600498241690964\n"
          ],
          "name": "stdout"
        }
      ]
    },
    {
      "cell_type": "code",
      "metadata": {
        "id": "PL1QyRAe6g81",
        "colab_type": "code",
        "colab": {}
      },
      "source": [
        ""
      ],
      "execution_count": 0,
      "outputs": []
    }
  ]
}