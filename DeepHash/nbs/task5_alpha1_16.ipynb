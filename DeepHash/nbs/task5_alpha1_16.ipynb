{
  "nbformat": 4,
  "nbformat_minor": 0,
  "metadata": {
    "colab": {
      "name": "task5_alpha1-16.ipynb",
      "provenance": [],
      "collapsed_sections": []
    },
    "kernelspec": {
      "name": "python3",
      "display_name": "Python 3"
    },
    "accelerator": "GPU"
  },
  "cells": [
    {
      "cell_type": "code",
      "metadata": {
        "id": "Y9u5OIoawwId",
        "colab_type": "code",
        "colab": {}
      },
      "source": [
        "import torch\n",
        "import torchvision.datasets as datasets\n",
        "import torchvision.transforms as transforms\n",
        "from torchvision import models\n",
        "import torch.nn as nn\n",
        "import torch.nn.functional as F\n",
        "from torch import optim\n",
        "import numpy as np"
      ],
      "execution_count": 0,
      "outputs": []
    },
    {
      "cell_type": "code",
      "metadata": {
        "id": "ZD93VGcow0WB",
        "colab_type": "code",
        "outputId": "96f8c7d4-4e92-48d5-c5c5-316dd404a1c6",
        "colab": {
          "base_uri": "https://localhost:8080/",
          "height": 90
        }
      },
      "source": [
        "batch_size = 64\n",
        "num_workers = 1\n",
        "\n",
        "#define transforms\n",
        "data_transforms = {\n",
        "    'train': transforms.Compose([\n",
        "        transforms.RandomResizedCrop(224),\n",
        "        transforms.RandomHorizontalFlip(),\n",
        "        transforms.ToTensor(),\n",
        "        transforms.Normalize([0.485, 0.456, 0.406], [0.229, 0.224, 0.225])\n",
        "    ]),\n",
        "    'val': transforms.Compose([\n",
        "        transforms.Resize(256),\n",
        "        transforms.CenterCrop(224),\n",
        "        transforms.ToTensor(),\n",
        "        transforms.Normalize([0.485, 0.456, 0.406], [0.229, 0.224, 0.225])\n",
        "    ]),\n",
        "}\n",
        "\n",
        "# load imagenet\n",
        "image_dataset = {\n",
        "        'train' :datasets.CIFAR10('./', train=True, download=True, transform=data_transforms['train']),\n",
        "        'test' : datasets.CIFAR10('./', train=False, download=True, transform=data_transforms['train']) \n",
        "}\n",
        "\n",
        "# Create the dataloaders\n",
        "data_loader = {\n",
        "    'train': torch.utils.data.DataLoader(image_dataset['train'], batch_size=batch_size, shuffle=True, num_workers=num_workers),\n",
        "    'test': torch.utils.data.DataLoader(image_dataset['test'], batch_size=batch_size, shuffle=False, num_workers=num_workers)\n",
        "}"
      ],
      "execution_count": 0,
      "outputs": [
        {
          "output_type": "stream",
          "text": [
            "\r0it [00:00, ?it/s]"
          ],
          "name": "stderr"
        },
        {
          "output_type": "stream",
          "text": [
            "Downloading https://www.cs.toronto.edu/~kriz/cifar-10-python.tar.gz to ./cifar-10-python.tar.gz\n"
          ],
          "name": "stdout"
        },
        {
          "output_type": "stream",
          "text": [
            "170500096it [00:04, 41612450.86it/s]                               \n"
          ],
          "name": "stderr"
        },
        {
          "output_type": "stream",
          "text": [
            "Extracting ./cifar-10-python.tar.gz to ./\n",
            "Files already downloaded and verified\n"
          ],
          "name": "stdout"
        }
      ]
    },
    {
      "cell_type": "code",
      "metadata": {
        "id": "9GOWnJuCBno7",
        "colab_type": "code",
        "outputId": "9a40e425-3d89-4126-f05a-927485e36bf3",
        "colab": {
          "base_uri": "https://localhost:8080/",
          "height": 145
        }
      },
      "source": [
        "!git clone https://github.com/jjmachan/DeepHash\n",
        "!mv siamese-triplet triplet\n",
        "import triplet.datasets"
      ],
      "execution_count": 0,
      "outputs": [
        {
          "output_type": "stream",
          "text": [
            "Cloning into 'siamese-triplet'...\n",
            "remote: Enumerating objects: 3, done.\u001b[K\n",
            "remote: Counting objects:  33% (1/3)\u001b[K\rremote: Counting objects:  66% (2/3)\u001b[K\rremote: Counting objects: 100% (3/3)\u001b[K\rremote: Counting objects: 100% (3/3), done.\u001b[K\n",
            "remote: Compressing objects: 100% (3/3), done.\u001b[K\n",
            "remote: Total 146 (delta 0), reused 0 (delta 0), pack-reused 143\u001b[K\n",
            "Receiving objects: 100% (146/146), 12.61 MiB | 32.86 MiB/s, done.\n",
            "Resolving deltas: 100% (42/42), done.\n"
          ],
          "name": "stdout"
        }
      ]
    },
    {
      "cell_type": "code",
      "metadata": {
        "id": "jHv-sl5Qy9g-",
        "colab_type": "code",
        "colab": {}
      },
      "source": [
        "import torch\n",
        "from torch.optim import lr_scheduler\n",
        "import torch.optim as optim\n",
        "from torch.autograd import Variable\n",
        "\n",
        "from triplet.trainer import fit\n",
        "import numpy as np\n",
        "cuda = torch.cuda.is_available()\n",
        "\n",
        "%matplotlib inline\n",
        "import matplotlib\n",
        "import matplotlib.pyplot as plt\n"
      ],
      "execution_count": 0,
      "outputs": []
    },
    {
      "cell_type": "code",
      "metadata": {
        "id": "H5yr_XVCBwrB",
        "colab_type": "code",
        "colab": {}
      },
      "source": [
        "from torch.utils.data import Dataset\n",
        "import numpy as np\n",
        "from PIL import Image\n",
        "\n",
        "class TripletCifar1(Dataset):\n",
        "    \"\"\"\n",
        "    Train: For each sample (anchor) randomly chooses a positive and negative samples\n",
        "    Test: Creates fixed triplets for testing\n",
        "    \"\"\"\n",
        "\n",
        "    def __init__(self, dataset):\n",
        "        self.dataset = dataset\n",
        "        self.train = self.dataset.train\n",
        "        self.transform = self.dataset.transform\n",
        "\n",
        "        if self.train:\n",
        "            self.train_labels = np.array(self.dataset.targets,dtype=np.float32)\n",
        "            self.train_data = self.dataset.data\n",
        "            #self.train_data = self.train_data.reshape(-1, 3, 32, 32)\n",
        "            #self.train_data = self.train_data.transpose((0, 2, 3, 1))  # convert to HWC\n",
        "            self.labels_set = set(self.train_labels)\n",
        "            self.label_to_indices = {label: np.where(self.train_labels == label)[0]\n",
        "                                     for label in self.labels_set}\n",
        "        else:\n",
        "            self.test_labels = np.array(self.dataset.targets)\n",
        "            self.test_data = self.dataset.data\n",
        "            # generate fixed triplets for testing\n",
        "            self.labels_set = set(self.test_labels)\n",
        "            self.label_to_indices = {label: np.where(self.test_labels == label)[0]\n",
        "                                     for label in self.labels_set}\n",
        "\n",
        "            random_state = np.random.RandomState(9)\n",
        "\n",
        "            triplets = [[i,\n",
        "                         random_state.choice(self.label_to_indices[self.test_labels[i].item()]),\n",
        "                         random_state.choice(self.label_to_indices[\n",
        "                                                 np.random.choice(\n",
        "                                                     list(self.labels_set - set([self.test_labels[i].item()]))\n",
        "                                                 )\n",
        "                                             ])\n",
        "                         ]\n",
        "                        for i in range(len(self.test_data))]\n",
        "            self.test_triplets = triplets\n",
        "\n",
        "    def __getitem__(self, index):\n",
        "        if self.train:\n",
        "            img1, label1 = self.train_data[index], self.train_labels[index].item()\n",
        "            positive_index = index\n",
        "            while positive_index == index:\n",
        "                positive_index = np.random.choice(self.label_to_indices[label1])\n",
        "            negative_label = np.random.choice(list(self.labels_set - set([label1])))\n",
        "            negative_index = np.random.choice(self.label_to_indices[negative_label])\n",
        "            img2 = self.train_data[positive_index]\n",
        "            img3 = self.train_data[negative_index]\n",
        "        else:\n",
        "            img1 = self.test_data[self.test_triplets[index][0]]\n",
        "            img2 = self.test_data[self.test_triplets[index][1]]\n",
        "            img3 = self.test_data[self.test_triplets[index][2]]\n",
        "\n",
        "        img1 = Image.fromarray(img1)\n",
        "        img2 = Image.fromarray(img2)\n",
        "        img3 = Image.fromarray(img3)\n",
        "        if self.transform is not None:\n",
        "            img1 = self.transform(img1)\n",
        "            img2 = self.transform(img2)\n",
        "            img3 = self.transform(img3)\n",
        "        return (img1, img2, img3), []\n",
        "\n",
        "    def __len__(self):\n",
        "        return len(self.dataset)"
      ],
      "execution_count": 0,
      "outputs": []
    },
    {
      "cell_type": "code",
      "metadata": {
        "id": "ieaDXrLeImS8",
        "colab_type": "code",
        "colab": {}
      },
      "source": [
        "from torch.utils.data.sampler import BatchSampler\n",
        "\n",
        "class BalancedBatchSampler1(BatchSampler):\n",
        "    \"\"\"\n",
        "    BatchSampler - from a MNIST-like dataset, samples n_classes and within these classes samples n_samples.\n",
        "    Returns batches of size n_classes * n_samples\n",
        "    \"\"\"\n",
        "\n",
        "    def __init__(self, labels, n_classes, n_samples):\n",
        "        self.labels = np.array(labels, dtype=np.float32)\n",
        "        self.labels_set = list(set(self.labels))\n",
        "        self.label_to_indices = {label: np.where(self.labels == label)[0]\n",
        "                                 for label in self.labels_set}\n",
        "        for l in self.labels_set:\n",
        "            np.random.shuffle(self.label_to_indices[l])\n",
        "        self.used_label_indices_count = {label: 0 for label in self.labels_set}\n",
        "        self.count = 0\n",
        "        self.n_classes = n_classes\n",
        "        self.n_samples = n_samples\n",
        "        self.n_dataset = len(self.labels)\n",
        "        self.batch_size = self.n_samples * self.n_classes\n",
        "\n",
        "    def __iter__(self):\n",
        "        self.count = 0\n",
        "        while self.count + self.batch_size < self.n_dataset:\n",
        "            classes = np.random.choice(self.labels_set, self.n_classes, replace=False)\n",
        "            indices = []\n",
        "            for class_ in classes:\n",
        "                indices.extend(self.label_to_indices[class_][\n",
        "                               self.used_label_indices_count[class_]:self.used_label_indices_count[\n",
        "                                                                         class_] + self.n_samples])\n",
        "                self.used_label_indices_count[class_] += self.n_samples\n",
        "                if self.used_label_indices_count[class_] + self.n_samples > len(self.label_to_indices[class_]):\n",
        "                    np.random.shuffle(self.label_to_indices[class_])\n",
        "                    self.used_label_indices_count[class_] = 0\n",
        "            yield indices\n",
        "            self.count += self.n_classes * self.n_samples\n",
        "\n",
        "    def __len__(self):\n",
        "        return self.n_dataset // self.batch_size"
      ],
      "execution_count": 0,
      "outputs": []
    },
    {
      "cell_type": "code",
      "metadata": {
        "id": "8xnXFaWMlxnP",
        "colab_type": "code",
        "colab": {}
      },
      "source": [
        "# Set up data loaders\n",
        "from triplet.datasets import BalancedBatchSampler\n",
        "\n",
        "cuda = torch.cuda.is_available()\n",
        "train_batch_sampler = BalancedBatchSampler1(image_dataset['train'].targets, n_classes=10, n_samples=25)\n",
        "test_batch_sampler = BalancedBatchSampler1(image_dataset['test'].targets, n_classes=10, n_samples=25)\n"
      ],
      "execution_count": 0,
      "outputs": []
    },
    {
      "cell_type": "code",
      "metadata": {
        "id": "gwJ14bMDOhDr",
        "colab_type": "code",
        "colab": {}
      },
      "source": [
        "class BinaryLayer(nn.Module):\n",
        "    def __init__(self):\n",
        "        super(BinaryLayer, self).__init__()\n",
        "        self.binaryLayer = nn.Sequential(\n",
        "            nn.Linear(512, 256),\n",
        "            nn.ReLU(),\n",
        "            nn.Linear(256, 128),\n",
        "            nn.ReLU(),\n",
        "            nn.Linear(128,32)\n",
        "        )\n",
        "        \n",
        "    def forward(self, x):\n",
        "      return self.binaryLayer(x) "
      ],
      "execution_count": 0,
      "outputs": []
    },
    {
      "cell_type": "code",
      "metadata": {
        "id": "-j7_JBDlw6zg",
        "colab_type": "code",
        "outputId": "c2ca91c8-92a6-46ef-e726-09fe48886e6c",
        "colab": {
          "base_uri": "https://localhost:8080/",
          "height": 244
        }
      },
      "source": [
        "# An identity layer to pass the fc layer in resnet\n",
        "class Identity(nn.Module):\n",
        "    def __init__(self):\n",
        "        super(Identity, self).__init__()\n",
        "        \n",
        "    def forward(self, x):\n",
        "        return x\n",
        " \n",
        "# Define model\n",
        "resnet18  = models.resnet18(pretrained=True)\n",
        "resnet18.fc = BinaryLayer()\n",
        "\n",
        "# Freeze all the parameters in the model\n",
        "def freeze_model(model):\n",
        "  for params in model.parameters():\n",
        "    params.requires_grad=False\n",
        "\n",
        "list_trainable(resnet18)"
      ],
      "execution_count": 0,
      "outputs": [
        {
          "output_type": "stream",
          "text": [
            "Downloading: \"https://download.pytorch.org/models/resnet18-5c106cde.pth\" to /root/.cache/torch/checkpoints/resnet18-5c106cde.pth\n",
            "100%|██████████| 44.7M/44.7M [00:01<00:00, 38.1MB/s]\n"
          ],
          "name": "stderr"
        },
        {
          "output_type": "error",
          "ename": "NameError",
          "evalue": "ignored",
          "traceback": [
            "\u001b[0;31m---------------------------------------------------------------------------\u001b[0m",
            "\u001b[0;31mNameError\u001b[0m                                 Traceback (most recent call last)",
            "\u001b[0;32m<ipython-input-9-793902a42eb3>\u001b[0m in \u001b[0;36m<module>\u001b[0;34m()\u001b[0m\n\u001b[1;32m     15\u001b[0m     \u001b[0mparams\u001b[0m\u001b[0;34m.\u001b[0m\u001b[0mrequires_grad\u001b[0m\u001b[0;34m=\u001b[0m\u001b[0;32mFalse\u001b[0m\u001b[0;34m\u001b[0m\u001b[0;34m\u001b[0m\u001b[0m\n\u001b[1;32m     16\u001b[0m \u001b[0;34m\u001b[0m\u001b[0m\n\u001b[0;32m---> 17\u001b[0;31m \u001b[0mlist_trainable\u001b[0m\u001b[0;34m(\u001b[0m\u001b[0mresnet18\u001b[0m\u001b[0;34m)\u001b[0m\u001b[0;34m\u001b[0m\u001b[0;34m\u001b[0m\u001b[0m\n\u001b[0m",
            "\u001b[0;31mNameError\u001b[0m: name 'list_trainable' is not defined"
          ]
        }
      ]
    },
    {
      "cell_type": "code",
      "metadata": {
        "id": "Zg0n98HUJMp6",
        "colab_type": "code",
        "colab": {}
      },
      "source": [
        "kwargs = {'num_workers': 1, 'pin_memory': True} if cuda else {}\n",
        "online_train_loader = torch.utils.data.DataLoader(image_dataset['train'], batch_sampler=train_batch_sampler, **kwargs)\n",
        "online_test_loader = torch.utils.data.DataLoader(image_dataset['test'], batch_sampler=test_batch_sampler, **kwargs)"
      ],
      "execution_count": 0,
      "outputs": []
    },
    {
      "cell_type": "code",
      "metadata": {
        "id": "QR3nVDnvMdLU",
        "colab_type": "code",
        "colab": {}
      },
      "source": [
        "loader = iter(online_train_loader)\n",
        "images, labels = next(loader)\n",
        "print(images.shape)\n",
        "out = resnet18(images.cuda())\n",
        "print(out[0])\n",
        "print(torch.sign(out)[0])"
      ],
      "execution_count": 0,
      "outputs": []
    },
    {
      "cell_type": "code",
      "metadata": {
        "id": "ygM9xKIXPk7q",
        "colab_type": "code",
        "colab": {}
      },
      "source": [
        "class OnlineBinaryTripletLoss(nn.Module):\n",
        "    \"\"\"\n",
        "    Online Triplets loss\n",
        "    Takes a batch of embeddings and corresponding labels.\n",
        "    Triplets are generated using triplet_selector object that take embeddings and targets and return indices of\n",
        "    triplets\n",
        "    \"\"\"\n",
        "\n",
        "    def __init__(self, margin, lam, triplet_selector):\n",
        "        super(OnlineBinaryTripletLoss, self).__init__()\n",
        "        self.lam = lam\n",
        "        self.margin = margin\n",
        "        self.triplet_selector = triplet_selector\n",
        "\n",
        "    def forward(self, embeddings, target):\n",
        "\n",
        "        triplets = self.triplet_selector.get_triplets(embeddings, target)\n",
        "\n",
        "        if embeddings.is_cuda:\n",
        "            triplets = triplets.cuda()\n",
        "        a = embeddings[triplets[:, 0]].unsqueeze(-1)\n",
        "        p = embeddings[triplets[:, 1]].unsqueeze(-2)\n",
        "        n = embeddings[triplets[:, 2]].unsqueeze(-2)\n",
        "\n",
        "        theta_ap = torch.bmm(p, a)/2\n",
        "        theta_an = torch.bmm(n, a)/2\n",
        "\n",
        "        b = torch.sign(embeddings)\n",
        "        reg = (b-embeddings).pow(2).sum(1).sum()\n",
        "\n",
        "        p = theta_ap - theta_an - self.margin \n",
        "        losses = -(p - torch.log(1 + torch.exp(p))).sum() +(self.lam*reg).sum()\n",
        "        return losses, len(triplets)"
      ],
      "execution_count": 0,
      "outputs": []
    },
    {
      "cell_type": "code",
      "metadata": {
        "id": "F8ULoJOhRDjO",
        "colab_type": "code",
        "outputId": "5753c1c9-0c21-492d-ac95-0678d68c0762",
        "colab": {
          "base_uri": "https://localhost:8080/",
          "height": 54
        }
      },
      "source": [
        "a = torch.FloatTensor(4,1,32).uniform_(-1,1)\n",
        "p = torch.FloatTensor(4,1,32).uniform_(-1,1)\n",
        "n = torch.FloatTensor(4,1,32).uniform_(-1,1)\n",
        "\n",
        "u = torch.FloatTensor(100, 32).uniform_(-1,1)\n",
        "a.transpose_(2,1)\n",
        "theta_ap = torch.bmm(p, a)/2\n",
        "theta_an = torch.bmm(n, a)/2\n",
        "print(theta_ap.shape)\n",
        "alpha = 16\n",
        "lamdha = 100\n",
        "\n",
        "p = theta_ap - theta_an - alpha \n",
        "p - torch.log(1 + torch.exp(p))\n",
        "\n",
        "b = torch.sign(u)\n",
        "(b-u).pow(2).sum(1).sum()"
      ],
      "execution_count": 0,
      "outputs": [
        {
          "output_type": "stream",
          "text": [
            "torch.Size([4, 1, 1])\n"
          ],
          "name": "stdout"
        },
        {
          "output_type": "execute_result",
          "data": {
            "text/plain": [
              "tensor(1059.8356)"
            ]
          },
          "metadata": {
            "tags": []
          },
          "execution_count": 17
        }
      ]
    },
    {
      "cell_type": "code",
      "metadata": {
        "id": "S7J_yDZDVKr8",
        "colab_type": "code",
        "colab": {}
      },
      "source": [
        "from itertools import combinations\n",
        "\n",
        "def pdist(vectors):\n",
        "  theta_dist = torch.mm(vectors, vectors.T)/2\n",
        "  return theta_dist\n",
        "\n",
        "\n",
        "class TripletSelector:\n",
        "    \"\"\"\n",
        "    Implementation should return indices of anchors, positive and negative samples\n",
        "    return np array of shape [N_triplets x 3]\n",
        "    \"\"\"\n",
        "\n",
        "    def __init__(self):\n",
        "        pass\n",
        "\n",
        "    def get_triplets(self, embeddings, labels):\n",
        "        raise NotImplementedError\n",
        "\n",
        "class AllTripletSelector(TripletSelector):\n",
        "    \"\"\"\n",
        "    Returns all possible triplets\n",
        "    May be impractical in most cases\n",
        "    \"\"\"\n",
        "\n",
        "    def __init__(self):\n",
        "        super(AllTripletSelector, self).__init__()\n",
        "\n",
        "    def get_triplets(self, embeddings, labels):\n",
        "        labels = labels.cpu().data.numpy()\n",
        "        triplets = []\n",
        "        for label in set(labels):\n",
        "            label_mask = (labels == label)\n",
        "            label_indices = np.where(label_mask)[0]\n",
        "            if len(label_indices) < 2:\n",
        "                continue\n",
        "            negative_indices = np.where(np.logical_not(label_mask))[0]\n",
        "            anchor_positives = list(combinations(label_indices, 2))  # All anchor-positive pairs\n",
        "\n",
        "            # Add all negatives for all positive pairs\n",
        "            temp_triplets = [[anchor_positive[0], anchor_positive[1], neg_ind] for anchor_positive in anchor_positives\n",
        "                             for neg_ind in negative_indices]\n",
        "            triplets += temp_triplets\n",
        "\n",
        "        return torch.LongTensor(np.array(triplets))\n",
        "\n",
        "\n",
        "def hardest_negative(loss_values):\n",
        "    hard_negative = np.argmax(loss_values)\n",
        "    return hard_negative if loss_values[hard_negative] > 0 else None\n",
        "\n",
        "\n",
        "def random_hard_negative(loss_values):\n",
        "    hard_negatives = np.where(loss_values > 0)[0]\n",
        "    return np.random.choice(hard_negatives) if len(hard_negatives) > 0 else None\n",
        "\n",
        "\n",
        "def semihard_negative(loss_values, margin):\n",
        "    semihard_negatives = np.where(np.logical_and(loss_values < margin, loss_values > 0))[0]\n",
        "    return np.random.choice(semihard_negatives) if len(semihard_negatives) > 0 else None\n",
        "\n",
        "class FunctionNegativeTripletSelector(TripletSelector):\n",
        "    \"\"\"\n",
        "    For each positive pair, takes the hardest negative sample (with the greatest triplet loss value) to create a triplet\n",
        "    Margin should match the margin used in triplet loss.\n",
        "    negative_selection_fn should take array of loss_values for a given anchor-positive pair and all negative samples\n",
        "    and return a negative index for that pair\n",
        "    \"\"\"\n",
        "\n",
        "    def __init__(self, margin, negative_selection_fn, cpu=True):\n",
        "        super(FunctionNegativeTripletSelector, self).__init__()\n",
        "        self.cpu = cpu\n",
        "        self.margin = margin\n",
        "        self.negative_selection_fn = negative_selection_fn\n",
        "\n",
        "    def get_triplets(self, embeddings, labels):\n",
        "        if self.cpu:\n",
        "            embeddings = embeddings.cpu()\n",
        "        distance_matrix = pdist(embeddings)\n",
        "        distance_matrix = distance_matrix.cpu()\n",
        "\n",
        "        labels = labels.cpu().data.numpy()\n",
        "        triplets = []\n",
        "\n",
        "        for label in set(labels):\n",
        "            label_mask = (labels == label)\n",
        "            label_indices = np.where(label_mask)[0]\n",
        "            if len(label_indices) < 2:\n",
        "                continue\n",
        "            negative_indices = np.where(np.logical_not(label_mask))[0]\n",
        "            anchor_positives = list(combinations(label_indices, 2))  # All anchor-positive pairs\n",
        "            anchor_positives = np.array(anchor_positives)\n",
        "\n",
        "            ap_distances = distance_matrix[anchor_positives[:, 0], anchor_positives[:, 1]]\n",
        "            for anchor_positive, ap_distance in zip(anchor_positives, ap_distances):\n",
        "                loss_values = ap_distance - distance_matrix[torch.LongTensor(np.array([anchor_positive[0]])), torch.LongTensor(negative_indices)] - self.margin\n",
        "                loss_values = -(loss_values)\n",
        "                loss_values = loss_values.data.cpu().numpy()\n",
        "                hard_negative = self.negative_selection_fn(loss_values)\n",
        "                if hard_negative is not None:\n",
        "                    hard_negative = negative_indices[hard_negative]\n",
        "                    triplets.append([anchor_positive[0], anchor_positive[1], hard_negative])\n",
        "\n",
        "        if len(triplets) == 0:\n",
        "            triplets.append([anchor_positive[0], anchor_positive[1], negative_indices[0]])\n",
        "\n",
        "        triplets = np.array(triplets)\n",
        "\n",
        "        return torch.LongTensor(triplets)\n",
        "\n",
        "\n",
        "def HardestNegativeTripletSelector1(margin, cpu=False): return FunctionNegativeTripletSelector(margin=margin,\n",
        "                                                                                 negative_selection_fn=hardest_negative,\n",
        "                                                                                 cpu=cpu)\n",
        "\n",
        "\n",
        "def RandomNegativeTripletSelector1(margin, cpu=False): return FunctionNegativeTripletSelector(margin=margin,\n",
        "                                                                                negative_selection_fn=random_hard_negative,\n",
        "                                                                                cpu=cpu)\n",
        "\n",
        "\n",
        "def SemihardNegativeTripletSelector1(margin, cpu=False): return FunctionNegativeTripletSelector(margin=margin,\n",
        "                                                                                  negative_selection_fn=lambda x: semihard_negative(x, margin),\n",
        "                                                                                  cpu=cpu)"
      ],
      "execution_count": 0,
      "outputs": []
    },
    {
      "cell_type": "code",
      "metadata": {
        "id": "InBCTR7sLvrg",
        "colab_type": "code",
        "colab": {}
      },
      "source": [
        "# Set up the network and training parameters\n",
        "from triplet.networks import EmbeddingNet\n",
        "from triplet.losses import OnlineTripletLoss\n",
        "from triplet.utils import AllTripletSelector,HardestNegativeTripletSelector, RandomNegativeTripletSelector, SemihardNegativeTripletSelector # Strategies for selecting triplets within a minibatch\n",
        "from triplet.metrics import AverageNonzeroTripletsMetric\n",
        "\n",
        "margin = 16\n",
        "embedding_net = resnet18\n",
        "model = embedding_net\n",
        "if cuda:\n",
        "    model.cuda()\n",
        "loss_fn = OnlineBinaryTripletLoss(margin, 0, RandomNegativeTripletSelector1(margin))\n",
        "lr = 1e-3\n",
        "optimizer = optim.Adam(model.parameters(), lr=lr, weight_decay=1e-4)\n",
        "scheduler = lr_scheduler.StepLR(optimizer, 9, gamma=0.1, last_epoch=-1)\n",
        "n_epochs = 10\n",
        "log_interval = 15"
      ],
      "execution_count": 0,
      "outputs": []
    },
    {
      "cell_type": "code",
      "metadata": {
        "id": "kUkHpGiVl1JX",
        "colab_type": "code",
        "outputId": "ed04edf6-7297-4260-cf32-4a29f94a9395",
        "colab": {
          "base_uri": "https://localhost:8080/",
          "height": 1000
        }
      },
      "source": [
        "fit(online_train_loader, online_test_loader, model, loss_fn, optimizer, scheduler, n_epochs, cuda, log_interval, metrics=[AverageNonzeroTripletsMetric()])"
      ],
      "execution_count": 0,
      "outputs": [
        {
          "output_type": "stream",
          "text": [
            "/usr/local/lib/python3.6/dist-packages/torch/optim/lr_scheduler.py:100: UserWarning: Detected call of `lr_scheduler.step()` before `optimizer.step()`. In PyTorch 1.1.0 and later, you should call them in the opposite order: `optimizer.step()` before `lr_scheduler.step()`.  Failure to do this will result in PyTorch skipping the first value of the learning rate schedule.See more details at https://pytorch.org/docs/stable/optim.html#how-to-adjust-learning-rate\n",
            "  \"https://pytorch.org/docs/stable/optim.html#how-to-adjust-learning-rate\", UserWarning)\n"
          ],
          "name": "stderr"
        },
        {
          "output_type": "stream",
          "text": [
            "Train: [0/50000 (0%)]\tLoss: 47989.289062\tAverage nonzero triplets: 3000.0\n",
            "Train: [3750/50000 (8%)]\tLoss: 48236.169792\tAverage nonzero triplets: 3000.0\n",
            "Train: [7500/50000 (15%)]\tLoss: 47074.406771\tAverage nonzero triplets: 2999.7741935483873\n",
            "Train: [11250/50000 (22%)]\tLoss: 46678.495833\tAverage nonzero triplets: 2999.7608695652175\n",
            "Train: [15000/50000 (30%)]\tLoss: 47087.048438\tAverage nonzero triplets: 2999.7868852459014\n",
            "Train: [18750/50000 (38%)]\tLoss: 46760.564583\tAverage nonzero triplets: 2999.7894736842104\n",
            "Train: [22500/50000 (45%)]\tLoss: 45870.322656\tAverage nonzero triplets: 2999.8241758241757\n",
            "Train: [26250/50000 (52%)]\tLoss: 47415.926042\tAverage nonzero triplets: 2999.4056603773583\n",
            "Train: [30000/50000 (60%)]\tLoss: 46242.028385\tAverage nonzero triplets: 2999.206611570248\n",
            "Train: [33750/50000 (68%)]\tLoss: 45842.552604\tAverage nonzero triplets: 2998.9632352941176\n",
            "Train: [37500/50000 (75%)]\tLoss: 46656.527604\tAverage nonzero triplets: 2998.980132450331\n",
            "Train: [41250/50000 (82%)]\tLoss: 45785.935156\tAverage nonzero triplets: 2998.4939759036147\n",
            "Train: [45000/50000 (90%)]\tLoss: 46696.309896\tAverage nonzero triplets: 2997.977900552486\n",
            "Train: [48750/50000 (98%)]\tLoss: 46321.754948\tAverage nonzero triplets: 2997.5102040816328\n",
            "Epoch: 1/10. Train set: Average loss: 46639.1883\tAverage nonzero triplets: 2997.4170854271356\n",
            "Epoch: 1/10. Validation set: Average loss: 46639.1437\tAverage nonzero triplets: 2989.897435897436\n",
            "Train: [0/50000 (0%)]\tLoss: 46468.859375\tAverage nonzero triplets: 2989.0\n",
            "Train: [3750/50000 (8%)]\tLoss: 46231.880729\tAverage nonzero triplets: 2988.6875\n",
            "Train: [7500/50000 (15%)]\tLoss: 46191.659115\tAverage nonzero triplets: 2987.0967741935483\n",
            "Train: [11250/50000 (22%)]\tLoss: 45981.925781\tAverage nonzero triplets: 2985.7608695652175\n",
            "Train: [15000/50000 (30%)]\tLoss: 45905.682292\tAverage nonzero triplets: 2983.44262295082\n",
            "Train: [18750/50000 (38%)]\tLoss: 45947.869792\tAverage nonzero triplets: 2979.9736842105262\n",
            "Train: [22500/50000 (45%)]\tLoss: 46591.068229\tAverage nonzero triplets: 2978.769230769231\n",
            "Train: [26250/50000 (52%)]\tLoss: 45725.573698\tAverage nonzero triplets: 2976.4716981132074\n",
            "Train: [30000/50000 (60%)]\tLoss: 45978.273958\tAverage nonzero triplets: 2976.6363636363635\n",
            "Train: [33750/50000 (68%)]\tLoss: 45110.029687\tAverage nonzero triplets: 2974.860294117647\n",
            "Train: [37500/50000 (75%)]\tLoss: 45381.852604\tAverage nonzero triplets: 2972.3973509933776\n",
            "Train: [41250/50000 (82%)]\tLoss: 45349.150781\tAverage nonzero triplets: 2969.6506024096384\n",
            "Train: [45000/50000 (90%)]\tLoss: 44853.982292\tAverage nonzero triplets: 2967.8121546961324\n",
            "Train: [48750/50000 (98%)]\tLoss: 45314.783073\tAverage nonzero triplets: 2965.2244897959185\n",
            "Epoch: 2/10. Train set: Average loss: 45745.2518\tAverage nonzero triplets: 2964.758793969849\n",
            "Epoch: 2/10. Validation set: Average loss: 43984.8406\tAverage nonzero triplets: 2941.6923076923076\n",
            "Train: [0/50000 (0%)]\tLoss: 44184.242188\tAverage nonzero triplets: 2897.0\n",
            "Train: [3750/50000 (8%)]\tLoss: 44808.650260\tAverage nonzero triplets: 2930.3125\n",
            "Train: [7500/50000 (15%)]\tLoss: 44475.895052\tAverage nonzero triplets: 2930.8387096774195\n",
            "Train: [11250/50000 (22%)]\tLoss: 44667.444792\tAverage nonzero triplets: 2929.413043478261\n",
            "Train: [15000/50000 (30%)]\tLoss: 43847.160417\tAverage nonzero triplets: 2920.44262295082\n",
            "Train: [18750/50000 (38%)]\tLoss: 43538.409375\tAverage nonzero triplets: 2911.1052631578946\n",
            "Train: [22500/50000 (45%)]\tLoss: 44718.848958\tAverage nonzero triplets: 2905.989010989011\n",
            "Train: [26250/50000 (52%)]\tLoss: 43899.173958\tAverage nonzero triplets: 2900.1792452830186\n",
            "Train: [30000/50000 (60%)]\tLoss: 43928.302865\tAverage nonzero triplets: 2898.00826446281\n",
            "Train: [33750/50000 (68%)]\tLoss: 43769.929427\tAverage nonzero triplets: 2892.2132352941176\n",
            "Train: [37500/50000 (75%)]\tLoss: 43939.909115\tAverage nonzero triplets: 2888.973509933775\n",
            "Train: [41250/50000 (82%)]\tLoss: 43621.902604\tAverage nonzero triplets: 2887.4156626506024\n",
            "Train: [45000/50000 (90%)]\tLoss: 43829.359375\tAverage nonzero triplets: 2885.1160220994475\n",
            "Train: [48750/50000 (98%)]\tLoss: 43847.663281\tAverage nonzero triplets: 2882.316326530612\n",
            "Epoch: 3/10. Train set: Average loss: 44070.7421\tAverage nonzero triplets: 2882.35175879397\n",
            "Epoch: 3/10. Validation set: Average loss: 42639.4293\tAverage nonzero triplets: 2845.051282051282\n",
            "Train: [0/50000 (0%)]\tLoss: 40117.367188\tAverage nonzero triplets: 2739.0\n",
            "Train: [3750/50000 (8%)]\tLoss: 44241.248958\tAverage nonzero triplets: 2849.875\n",
            "Train: [7500/50000 (15%)]\tLoss: 43926.437500\tAverage nonzero triplets: 2852.8064516129034\n",
            "Train: [11250/50000 (22%)]\tLoss: 44211.977083\tAverage nonzero triplets: 2848.1304347826085\n",
            "Train: [15000/50000 (30%)]\tLoss: 42350.767969\tAverage nonzero triplets: 2841.4754098360654\n",
            "Train: [18750/50000 (38%)]\tLoss: 42604.435937\tAverage nonzero triplets: 2832.592105263158\n",
            "Train: [22500/50000 (45%)]\tLoss: 43313.478906\tAverage nonzero triplets: 2829.813186813187\n",
            "Train: [26250/50000 (52%)]\tLoss: 42269.167188\tAverage nonzero triplets: 2827.0\n",
            "Train: [30000/50000 (60%)]\tLoss: 43667.334115\tAverage nonzero triplets: 2828.438016528926\n",
            "Train: [33750/50000 (68%)]\tLoss: 43672.705990\tAverage nonzero triplets: 2828.426470588235\n",
            "Train: [37500/50000 (75%)]\tLoss: 43684.785156\tAverage nonzero triplets: 2829.1258278145697\n",
            "Train: [41250/50000 (82%)]\tLoss: 42775.569531\tAverage nonzero triplets: 2826.1807228915663\n",
            "Train: [45000/50000 (90%)]\tLoss: 43322.745052\tAverage nonzero triplets: 2825.2375690607737\n",
            "Train: [48750/50000 (98%)]\tLoss: 43590.829427\tAverage nonzero triplets: 2825.2704081632655\n",
            "Epoch: 4/10. Train set: Average loss: 43418.8219\tAverage nonzero triplets: 2825.281407035176\n",
            "Epoch: 4/10. Validation set: Average loss: 44011.4185\tAverage nonzero triplets: 2817.102564102564\n",
            "Train: [0/50000 (0%)]\tLoss: 47586.292969\tAverage nonzero triplets: 2847.0\n",
            "Train: [3750/50000 (8%)]\tLoss: 42136.911458\tAverage nonzero triplets: 2813.5625\n",
            "Train: [7500/50000 (15%)]\tLoss: 43686.568490\tAverage nonzero triplets: 2812.3548387096776\n",
            "Train: [11250/50000 (22%)]\tLoss: 43473.086719\tAverage nonzero triplets: 2810.217391304348\n",
            "Train: [15000/50000 (30%)]\tLoss: 43882.740885\tAverage nonzero triplets: 2812.1803278688526\n",
            "Train: [18750/50000 (38%)]\tLoss: 42718.208333\tAverage nonzero triplets: 2811.4605263157896\n",
            "Train: [22500/50000 (45%)]\tLoss: 42330.934635\tAverage nonzero triplets: 2806.879120879121\n",
            "Train: [26250/50000 (52%)]\tLoss: 43249.238542\tAverage nonzero triplets: 2803.5471698113206\n",
            "Train: [30000/50000 (60%)]\tLoss: 43354.491406\tAverage nonzero triplets: 2805.0661157024792\n",
            "Train: [33750/50000 (68%)]\tLoss: 43149.140885\tAverage nonzero triplets: 2803.764705882353\n",
            "Train: [37500/50000 (75%)]\tLoss: 42708.133073\tAverage nonzero triplets: 2801.384105960265\n",
            "Train: [41250/50000 (82%)]\tLoss: 42862.820833\tAverage nonzero triplets: 2803.6867469879517\n",
            "Train: [45000/50000 (90%)]\tLoss: 43093.464844\tAverage nonzero triplets: 2806.1381215469614\n",
            "Train: [48750/50000 (98%)]\tLoss: 42279.965885\tAverage nonzero triplets: 2803.2244897959185\n"
          ],
          "name": "stdout"
        },
        {
          "output_type": "error",
          "ename": "KeyboardInterrupt",
          "evalue": "ignored",
          "traceback": [
            "\u001b[0;31m---------------------------------------------------------------------------\u001b[0m",
            "\u001b[0;31mKeyboardInterrupt\u001b[0m                         Traceback (most recent call last)",
            "\u001b[0;32m<ipython-input-50-aba445036be0>\u001b[0m in \u001b[0;36m<module>\u001b[0;34m()\u001b[0m\n\u001b[0;32m----> 1\u001b[0;31m \u001b[0mfit\u001b[0m\u001b[0;34m(\u001b[0m\u001b[0monline_train_loader\u001b[0m\u001b[0;34m,\u001b[0m \u001b[0monline_test_loader\u001b[0m\u001b[0;34m,\u001b[0m \u001b[0mmodel\u001b[0m\u001b[0;34m,\u001b[0m \u001b[0mloss_fn\u001b[0m\u001b[0;34m,\u001b[0m \u001b[0moptimizer\u001b[0m\u001b[0;34m,\u001b[0m \u001b[0mscheduler\u001b[0m\u001b[0;34m,\u001b[0m \u001b[0mn_epochs\u001b[0m\u001b[0;34m,\u001b[0m \u001b[0mcuda\u001b[0m\u001b[0;34m,\u001b[0m \u001b[0mlog_interval\u001b[0m\u001b[0;34m,\u001b[0m \u001b[0mmetrics\u001b[0m\u001b[0;34m=\u001b[0m\u001b[0;34m[\u001b[0m\u001b[0mAverageNonzeroTripletsMetric\u001b[0m\u001b[0;34m(\u001b[0m\u001b[0;34m)\u001b[0m\u001b[0;34m]\u001b[0m\u001b[0;34m)\u001b[0m\u001b[0;34m\u001b[0m\u001b[0;34m\u001b[0m\u001b[0m\n\u001b[0m",
            "\u001b[0;32m/content/triplet/trainer.py\u001b[0m in \u001b[0;36mfit\u001b[0;34m(train_loader, val_loader, model, loss_fn, optimizer, scheduler, n_epochs, cuda, log_interval, metrics, start_epoch)\u001b[0m\n\u001b[1;32m     27\u001b[0m             \u001b[0mmessage\u001b[0m \u001b[0;34m+=\u001b[0m \u001b[0;34m'\\t{}: {}'\u001b[0m\u001b[0;34m.\u001b[0m\u001b[0mformat\u001b[0m\u001b[0;34m(\u001b[0m\u001b[0mmetric\u001b[0m\u001b[0;34m.\u001b[0m\u001b[0mname\u001b[0m\u001b[0;34m(\u001b[0m\u001b[0;34m)\u001b[0m\u001b[0;34m,\u001b[0m \u001b[0mmetric\u001b[0m\u001b[0;34m.\u001b[0m\u001b[0mvalue\u001b[0m\u001b[0;34m(\u001b[0m\u001b[0;34m)\u001b[0m\u001b[0;34m)\u001b[0m\u001b[0;34m\u001b[0m\u001b[0;34m\u001b[0m\u001b[0m\n\u001b[1;32m     28\u001b[0m \u001b[0;34m\u001b[0m\u001b[0m\n\u001b[0;32m---> 29\u001b[0;31m         \u001b[0mval_loss\u001b[0m\u001b[0;34m,\u001b[0m \u001b[0mmetrics\u001b[0m \u001b[0;34m=\u001b[0m \u001b[0mtest_epoch\u001b[0m\u001b[0;34m(\u001b[0m\u001b[0mval_loader\u001b[0m\u001b[0;34m,\u001b[0m \u001b[0mmodel\u001b[0m\u001b[0;34m,\u001b[0m \u001b[0mloss_fn\u001b[0m\u001b[0;34m,\u001b[0m \u001b[0mcuda\u001b[0m\u001b[0;34m,\u001b[0m \u001b[0mmetrics\u001b[0m\u001b[0;34m)\u001b[0m\u001b[0;34m\u001b[0m\u001b[0;34m\u001b[0m\u001b[0m\n\u001b[0m\u001b[1;32m     30\u001b[0m         \u001b[0mval_loss\u001b[0m \u001b[0;34m/=\u001b[0m \u001b[0mlen\u001b[0m\u001b[0;34m(\u001b[0m\u001b[0mval_loader\u001b[0m\u001b[0;34m)\u001b[0m\u001b[0;34m\u001b[0m\u001b[0;34m\u001b[0m\u001b[0m\n\u001b[1;32m     31\u001b[0m \u001b[0;34m\u001b[0m\u001b[0m\n",
            "\u001b[0;32m/content/triplet/trainer.py\u001b[0m in \u001b[0;36mtest_epoch\u001b[0;34m(val_loader, model, loss_fn, cuda, metrics)\u001b[0m\n\u001b[1;32m    115\u001b[0m                 \u001b[0mloss_inputs\u001b[0m \u001b[0;34m+=\u001b[0m \u001b[0mtarget\u001b[0m\u001b[0;34m\u001b[0m\u001b[0;34m\u001b[0m\u001b[0m\n\u001b[1;32m    116\u001b[0m \u001b[0;34m\u001b[0m\u001b[0m\n\u001b[0;32m--> 117\u001b[0;31m             \u001b[0mloss_outputs\u001b[0m \u001b[0;34m=\u001b[0m \u001b[0mloss_fn\u001b[0m\u001b[0;34m(\u001b[0m\u001b[0;34m*\u001b[0m\u001b[0mloss_inputs\u001b[0m\u001b[0;34m)\u001b[0m\u001b[0;34m\u001b[0m\u001b[0;34m\u001b[0m\u001b[0m\n\u001b[0m\u001b[1;32m    118\u001b[0m             \u001b[0mloss\u001b[0m \u001b[0;34m=\u001b[0m \u001b[0mloss_outputs\u001b[0m\u001b[0;34m[\u001b[0m\u001b[0;36m0\u001b[0m\u001b[0;34m]\u001b[0m \u001b[0;32mif\u001b[0m \u001b[0mtype\u001b[0m\u001b[0;34m(\u001b[0m\u001b[0mloss_outputs\u001b[0m\u001b[0;34m)\u001b[0m \u001b[0;32min\u001b[0m \u001b[0;34m(\u001b[0m\u001b[0mtuple\u001b[0m\u001b[0;34m,\u001b[0m \u001b[0mlist\u001b[0m\u001b[0;34m)\u001b[0m \u001b[0;32melse\u001b[0m \u001b[0mloss_outputs\u001b[0m\u001b[0;34m\u001b[0m\u001b[0;34m\u001b[0m\u001b[0m\n\u001b[1;32m    119\u001b[0m             \u001b[0mval_loss\u001b[0m \u001b[0;34m+=\u001b[0m \u001b[0mloss\u001b[0m\u001b[0;34m.\u001b[0m\u001b[0mitem\u001b[0m\u001b[0;34m(\u001b[0m\u001b[0;34m)\u001b[0m\u001b[0;34m\u001b[0m\u001b[0;34m\u001b[0m\u001b[0m\n",
            "\u001b[0;32m/usr/local/lib/python3.6/dist-packages/torch/nn/modules/module.py\u001b[0m in \u001b[0;36m__call__\u001b[0;34m(self, *input, **kwargs)\u001b[0m\n\u001b[1;32m    539\u001b[0m             \u001b[0mresult\u001b[0m \u001b[0;34m=\u001b[0m \u001b[0mself\u001b[0m\u001b[0;34m.\u001b[0m\u001b[0m_slow_forward\u001b[0m\u001b[0;34m(\u001b[0m\u001b[0;34m*\u001b[0m\u001b[0minput\u001b[0m\u001b[0;34m,\u001b[0m \u001b[0;34m**\u001b[0m\u001b[0mkwargs\u001b[0m\u001b[0;34m)\u001b[0m\u001b[0;34m\u001b[0m\u001b[0;34m\u001b[0m\u001b[0m\n\u001b[1;32m    540\u001b[0m         \u001b[0;32melse\u001b[0m\u001b[0;34m:\u001b[0m\u001b[0;34m\u001b[0m\u001b[0;34m\u001b[0m\u001b[0m\n\u001b[0;32m--> 541\u001b[0;31m             \u001b[0mresult\u001b[0m \u001b[0;34m=\u001b[0m \u001b[0mself\u001b[0m\u001b[0;34m.\u001b[0m\u001b[0mforward\u001b[0m\u001b[0;34m(\u001b[0m\u001b[0;34m*\u001b[0m\u001b[0minput\u001b[0m\u001b[0;34m,\u001b[0m \u001b[0;34m**\u001b[0m\u001b[0mkwargs\u001b[0m\u001b[0;34m)\u001b[0m\u001b[0;34m\u001b[0m\u001b[0;34m\u001b[0m\u001b[0m\n\u001b[0m\u001b[1;32m    542\u001b[0m         \u001b[0;32mfor\u001b[0m \u001b[0mhook\u001b[0m \u001b[0;32min\u001b[0m \u001b[0mself\u001b[0m\u001b[0;34m.\u001b[0m\u001b[0m_forward_hooks\u001b[0m\u001b[0;34m.\u001b[0m\u001b[0mvalues\u001b[0m\u001b[0;34m(\u001b[0m\u001b[0;34m)\u001b[0m\u001b[0;34m:\u001b[0m\u001b[0;34m\u001b[0m\u001b[0;34m\u001b[0m\u001b[0m\n\u001b[1;32m    543\u001b[0m             \u001b[0mhook_result\u001b[0m \u001b[0;34m=\u001b[0m \u001b[0mhook\u001b[0m\u001b[0;34m(\u001b[0m\u001b[0mself\u001b[0m\u001b[0;34m,\u001b[0m \u001b[0minput\u001b[0m\u001b[0;34m,\u001b[0m \u001b[0mresult\u001b[0m\u001b[0;34m)\u001b[0m\u001b[0;34m\u001b[0m\u001b[0;34m\u001b[0m\u001b[0m\n",
            "\u001b[0;32m<ipython-input-36-42f09b24c91a>\u001b[0m in \u001b[0;36mforward\u001b[0;34m(self, embeddings, target)\u001b[0m\n\u001b[1;32m     15\u001b[0m     \u001b[0;32mdef\u001b[0m \u001b[0mforward\u001b[0m\u001b[0;34m(\u001b[0m\u001b[0mself\u001b[0m\u001b[0;34m,\u001b[0m \u001b[0membeddings\u001b[0m\u001b[0;34m,\u001b[0m \u001b[0mtarget\u001b[0m\u001b[0;34m)\u001b[0m\u001b[0;34m:\u001b[0m\u001b[0;34m\u001b[0m\u001b[0;34m\u001b[0m\u001b[0m\n\u001b[1;32m     16\u001b[0m \u001b[0;34m\u001b[0m\u001b[0m\n\u001b[0;32m---> 17\u001b[0;31m         \u001b[0mtriplets\u001b[0m \u001b[0;34m=\u001b[0m \u001b[0mself\u001b[0m\u001b[0;34m.\u001b[0m\u001b[0mtriplet_selector\u001b[0m\u001b[0;34m.\u001b[0m\u001b[0mget_triplets\u001b[0m\u001b[0;34m(\u001b[0m\u001b[0membeddings\u001b[0m\u001b[0;34m,\u001b[0m \u001b[0mtarget\u001b[0m\u001b[0;34m)\u001b[0m\u001b[0;34m\u001b[0m\u001b[0;34m\u001b[0m\u001b[0m\n\u001b[0m\u001b[1;32m     18\u001b[0m \u001b[0;34m\u001b[0m\u001b[0m\n\u001b[1;32m     19\u001b[0m         \u001b[0;32mif\u001b[0m \u001b[0membeddings\u001b[0m\u001b[0;34m.\u001b[0m\u001b[0mis_cuda\u001b[0m\u001b[0;34m:\u001b[0m\u001b[0;34m\u001b[0m\u001b[0;34m\u001b[0m\u001b[0m\n",
            "\u001b[0;32m<ipython-input-14-e8dbaad14f37>\u001b[0m in \u001b[0;36mget_triplets\u001b[0;34m(self, embeddings, labels)\u001b[0m\n\u001b[1;32m     97\u001b[0m                 \u001b[0mloss_values\u001b[0m \u001b[0;34m=\u001b[0m \u001b[0;34m-\u001b[0m\u001b[0;34m(\u001b[0m\u001b[0mloss_values\u001b[0m\u001b[0;34m)\u001b[0m\u001b[0;34m\u001b[0m\u001b[0;34m\u001b[0m\u001b[0m\n\u001b[1;32m     98\u001b[0m                 \u001b[0mloss_values\u001b[0m \u001b[0;34m=\u001b[0m \u001b[0mloss_values\u001b[0m\u001b[0;34m.\u001b[0m\u001b[0mdata\u001b[0m\u001b[0;34m.\u001b[0m\u001b[0mcpu\u001b[0m\u001b[0;34m(\u001b[0m\u001b[0;34m)\u001b[0m\u001b[0;34m.\u001b[0m\u001b[0mnumpy\u001b[0m\u001b[0;34m(\u001b[0m\u001b[0;34m)\u001b[0m\u001b[0;34m\u001b[0m\u001b[0;34m\u001b[0m\u001b[0m\n\u001b[0;32m---> 99\u001b[0;31m                 \u001b[0mhard_negative\u001b[0m \u001b[0;34m=\u001b[0m \u001b[0mself\u001b[0m\u001b[0;34m.\u001b[0m\u001b[0mnegative_selection_fn\u001b[0m\u001b[0;34m(\u001b[0m\u001b[0mloss_values\u001b[0m\u001b[0;34m)\u001b[0m\u001b[0;34m\u001b[0m\u001b[0;34m\u001b[0m\u001b[0m\n\u001b[0m\u001b[1;32m    100\u001b[0m                 \u001b[0;32mif\u001b[0m \u001b[0mhard_negative\u001b[0m \u001b[0;32mis\u001b[0m \u001b[0;32mnot\u001b[0m \u001b[0;32mNone\u001b[0m\u001b[0;34m:\u001b[0m\u001b[0;34m\u001b[0m\u001b[0;34m\u001b[0m\u001b[0m\n\u001b[1;32m    101\u001b[0m                     \u001b[0mhard_negative\u001b[0m \u001b[0;34m=\u001b[0m \u001b[0mnegative_indices\u001b[0m\u001b[0;34m[\u001b[0m\u001b[0mhard_negative\u001b[0m\u001b[0;34m]\u001b[0m\u001b[0;34m\u001b[0m\u001b[0;34m\u001b[0m\u001b[0m\n",
            "\u001b[0;32m<ipython-input-14-e8dbaad14f37>\u001b[0m in \u001b[0;36mrandom_hard_negative\u001b[0;34m(loss_values)\u001b[0m\n\u001b[1;32m     53\u001b[0m \u001b[0;32mdef\u001b[0m \u001b[0mrandom_hard_negative\u001b[0m\u001b[0;34m(\u001b[0m\u001b[0mloss_values\u001b[0m\u001b[0;34m)\u001b[0m\u001b[0;34m:\u001b[0m\u001b[0;34m\u001b[0m\u001b[0;34m\u001b[0m\u001b[0m\n\u001b[1;32m     54\u001b[0m     \u001b[0mhard_negatives\u001b[0m \u001b[0;34m=\u001b[0m \u001b[0mnp\u001b[0m\u001b[0;34m.\u001b[0m\u001b[0mwhere\u001b[0m\u001b[0;34m(\u001b[0m\u001b[0mloss_values\u001b[0m \u001b[0;34m>\u001b[0m \u001b[0;36m0\u001b[0m\u001b[0;34m)\u001b[0m\u001b[0;34m[\u001b[0m\u001b[0;36m0\u001b[0m\u001b[0;34m]\u001b[0m\u001b[0;34m\u001b[0m\u001b[0;34m\u001b[0m\u001b[0m\n\u001b[0;32m---> 55\u001b[0;31m     \u001b[0;32mreturn\u001b[0m \u001b[0mnp\u001b[0m\u001b[0;34m.\u001b[0m\u001b[0mrandom\u001b[0m\u001b[0;34m.\u001b[0m\u001b[0mchoice\u001b[0m\u001b[0;34m(\u001b[0m\u001b[0mhard_negatives\u001b[0m\u001b[0;34m)\u001b[0m \u001b[0;32mif\u001b[0m \u001b[0mlen\u001b[0m\u001b[0;34m(\u001b[0m\u001b[0mhard_negatives\u001b[0m\u001b[0;34m)\u001b[0m \u001b[0;34m>\u001b[0m \u001b[0;36m0\u001b[0m \u001b[0;32melse\u001b[0m \u001b[0;32mNone\u001b[0m\u001b[0;34m\u001b[0m\u001b[0;34m\u001b[0m\u001b[0m\n\u001b[0m\u001b[1;32m     56\u001b[0m \u001b[0;34m\u001b[0m\u001b[0m\n\u001b[1;32m     57\u001b[0m \u001b[0;34m\u001b[0m\u001b[0m\n",
            "\u001b[0;31mKeyboardInterrupt\u001b[0m: "
          ]
        }
      ]
    },
    {
      "cell_type": "code",
      "metadata": {
        "id": "mzxfPC3avk-D",
        "colab_type": "code",
        "colab": {}
      },
      "source": [
        "\n",
        "torch.save(model, './triplet_resnet18_SemihardNegetiveTripletSelector.mdl')"
      ],
      "execution_count": 0,
      "outputs": []
    },
    {
      "cell_type": "code",
      "metadata": {
        "id": "DtqvO2WPKUnG",
        "colab_type": "code",
        "outputId": "adb96e96-9177-4596-f5b9-416ae9909697",
        "colab": {
          "base_uri": "https://localhost:8080/",
          "height": 1000
        }
      },
      "source": [
        "for i in range(5):\n",
        "  margin = 1*2**i\n",
        "  print('Margin: ',margin)\n",
        "  n_epochs = 3\n",
        "  scheduler = lr_scheduler.StepLR(optimizer, 9, gamma=0.9, last_epoch=-1)\n",
        "  loss_fn = OnlineBinaryTripletLoss(margin, 10, RandomNegativeTripletSelector1(margin))\n",
        "  fit(online_train_loader, online_test_loader, model, loss_fn, optimizer, scheduler, n_epochs, cuda, log_interval, metrics=[AverageNonzeroTripletsMetric()])\n"
      ],
      "execution_count": 0,
      "outputs": [
        {
          "output_type": "stream",
          "text": [
            "Margin:  1\n"
          ],
          "name": "stdout"
        },
        {
          "output_type": "stream",
          "text": [
            "/usr/local/lib/python3.6/dist-packages/torch/optim/lr_scheduler.py:100: UserWarning: Detected call of `lr_scheduler.step()` before `optimizer.step()`. In PyTorch 1.1.0 and later, you should call them in the opposite order: `optimizer.step()` before `lr_scheduler.step()`.  Failure to do this will result in PyTorch skipping the first value of the learning rate schedule.See more details at https://pytorch.org/docs/stable/optim.html#how-to-adjust-learning-rate\n",
            "  \"https://pytorch.org/docs/stable/optim.html#how-to-adjust-learning-rate\", UserWarning)\n"
          ],
          "name": "stderr"
        },
        {
          "output_type": "stream",
          "text": [
            "Train: [0/50000 (0%)]\tLoss: 281312.375000\tAverage nonzero triplets: 1246.0\n",
            "Train: [3750/50000 (8%)]\tLoss: 51932.361849\tAverage nonzero triplets: 2374.5625\n",
            "Train: [7500/50000 (15%)]\tLoss: 17085.672852\tAverage nonzero triplets: 2577.2903225806454\n",
            "Train: [11250/50000 (22%)]\tLoss: 10781.381836\tAverage nonzero triplets: 2616.5\n",
            "Train: [15000/50000 (30%)]\tLoss: 8574.778385\tAverage nonzero triplets: 2623.1639344262294\n",
            "Train: [18750/50000 (38%)]\tLoss: 7776.135059\tAverage nonzero triplets: 2612.592105263158\n",
            "Train: [22500/50000 (45%)]\tLoss: 7023.832943\tAverage nonzero triplets: 2597.2747252747254\n",
            "Train: [26250/50000 (52%)]\tLoss: 6689.179948\tAverage nonzero triplets: 2578.5283018867926\n",
            "Train: [30000/50000 (60%)]\tLoss: 6551.675423\tAverage nonzero triplets: 2561.00826446281\n",
            "Train: [33750/50000 (68%)]\tLoss: 6334.857975\tAverage nonzero triplets: 2547.073529411765\n",
            "Train: [37500/50000 (75%)]\tLoss: 6308.678743\tAverage nonzero triplets: 2537.4966887417218\n",
            "Train: [41250/50000 (82%)]\tLoss: 6096.252181\tAverage nonzero triplets: 2527.253012048193\n",
            "Train: [45000/50000 (90%)]\tLoss: 5939.370898\tAverage nonzero triplets: 2521.4198895027625\n",
            "Train: [48750/50000 (98%)]\tLoss: 5783.758594\tAverage nonzero triplets: 2507.5408163265306\n",
            "Epoch: 1/3. Train set: Average loss: 12579.0719\tAverage nonzero triplets: 2505.788944723618\n",
            "Epoch: 1/3. Validation set: Average loss: 6031.2156\tAverage nonzero triplets: 2512.358974358974\n",
            "Train: [0/50000 (0%)]\tLoss: 5575.230469\tAverage nonzero triplets: 2209.0\n",
            "Train: [3750/50000 (8%)]\tLoss: 5662.599642\tAverage nonzero triplets: 2275.6875\n",
            "Train: [7500/50000 (15%)]\tLoss: 5707.559896\tAverage nonzero triplets: 2323.4193548387098\n",
            "Train: [11250/50000 (22%)]\tLoss: 5624.065592\tAverage nonzero triplets: 2326.717391304348\n",
            "Train: [15000/50000 (30%)]\tLoss: 5407.663086\tAverage nonzero triplets: 2318.5081967213114\n",
            "Train: [18750/50000 (38%)]\tLoss: 5279.709635\tAverage nonzero triplets: 2305.9210526315787\n",
            "Train: [22500/50000 (45%)]\tLoss: 5320.848145\tAverage nonzero triplets: 2297.4505494505493\n",
            "Train: [26250/50000 (52%)]\tLoss: 5349.210645\tAverage nonzero triplets: 2291.490566037736\n",
            "Train: [30000/50000 (60%)]\tLoss: 5266.841895\tAverage nonzero triplets: 2290.8925619834713\n",
            "Train: [33750/50000 (68%)]\tLoss: 5279.624805\tAverage nonzero triplets: 2293.4632352941176\n",
            "Train: [37500/50000 (75%)]\tLoss: 5112.934505\tAverage nonzero triplets: 2288.476821192053\n",
            "Train: [41250/50000 (82%)]\tLoss: 5239.763102\tAverage nonzero triplets: 2288.873493975904\n",
            "Train: [45000/50000 (90%)]\tLoss: 5102.358333\tAverage nonzero triplets: 2288.8895027624308\n",
            "Train: [48750/50000 (98%)]\tLoss: 4969.376009\tAverage nonzero triplets: 2286.75\n",
            "Epoch: 2/3. Train set: Average loss: 5326.8150\tAverage nonzero triplets: 2285.532663316583\n",
            "Epoch: 2/3. Validation set: Average loss: 5363.4182\tAverage nonzero triplets: 2434.076923076923\n",
            "Train: [0/50000 (0%)]\tLoss: 4747.935547\tAverage nonzero triplets: 2149.0\n",
            "Train: [3750/50000 (8%)]\tLoss: 5028.461556\tAverage nonzero triplets: 2260.8125\n",
            "Train: [7500/50000 (15%)]\tLoss: 5225.323177\tAverage nonzero triplets: 2286.032258064516\n",
            "Train: [11250/50000 (22%)]\tLoss: 5105.044124\tAverage nonzero triplets: 2290.5\n",
            "Train: [15000/50000 (30%)]\tLoss: 5017.050846\tAverage nonzero triplets: 2285.72131147541\n",
            "Train: [18750/50000 (38%)]\tLoss: 4898.235579\tAverage nonzero triplets: 2280.6184210526317\n",
            "Train: [22500/50000 (45%)]\tLoss: 4944.963997\tAverage nonzero triplets: 2276.5824175824177\n",
            "Train: [26250/50000 (52%)]\tLoss: 5001.766960\tAverage nonzero triplets: 2278.0188679245284\n",
            "Train: [30000/50000 (60%)]\tLoss: 4828.020605\tAverage nonzero triplets: 2282.603305785124\n",
            "Train: [33750/50000 (68%)]\tLoss: 4999.617611\tAverage nonzero triplets: 2282.669117647059\n",
            "Train: [37500/50000 (75%)]\tLoss: 4991.590039\tAverage nonzero triplets: 2285.523178807947\n",
            "Train: [41250/50000 (82%)]\tLoss: 4776.325846\tAverage nonzero triplets: 2276.710843373494\n",
            "Train: [45000/50000 (90%)]\tLoss: 4823.211100\tAverage nonzero triplets: 2275.033149171271\n",
            "Train: [48750/50000 (98%)]\tLoss: 4692.733887\tAverage nonzero triplets: 2269.0\n",
            "Epoch: 3/3. Train set: Average loss: 4948.3681\tAverage nonzero triplets: 2270.502512562814\n",
            "Epoch: 3/3. Validation set: Average loss: 5183.9505\tAverage nonzero triplets: 2422.948717948718\n",
            "Margin:  2\n",
            "Train: [0/50000 (0%)]\tLoss: 6207.899414\tAverage nonzero triplets: 2490.0\n",
            "Train: [3750/50000 (8%)]\tLoss: 6613.444987\tAverage nonzero triplets: 2571.75\n",
            "Train: [7500/50000 (15%)]\tLoss: 6282.349219\tAverage nonzero triplets: 2520.7741935483873\n",
            "Train: [11250/50000 (22%)]\tLoss: 6337.813704\tAverage nonzero triplets: 2509.6739130434785\n",
            "Train: [15000/50000 (30%)]\tLoss: 6254.096647\tAverage nonzero triplets: 2503.1475409836066\n",
            "Train: [18750/50000 (38%)]\tLoss: 6315.894727\tAverage nonzero triplets: 2497.8684210526317\n",
            "Train: [22500/50000 (45%)]\tLoss: 6296.035872\tAverage nonzero triplets: 2494.164835164835\n",
            "Train: [26250/50000 (52%)]\tLoss: 6106.012858\tAverage nonzero triplets: 2485.066037735849\n",
            "Train: [30000/50000 (60%)]\tLoss: 6137.722363\tAverage nonzero triplets: 2482.1652892561983\n",
            "Train: [33750/50000 (68%)]\tLoss: 6297.351497\tAverage nonzero triplets: 2483.029411764706\n",
            "Train: [37500/50000 (75%)]\tLoss: 6087.485840\tAverage nonzero triplets: 2476.271523178808\n",
            "Train: [41250/50000 (82%)]\tLoss: 6004.360905\tAverage nonzero triplets: 2469.5\n",
            "Train: [45000/50000 (90%)]\tLoss: 6266.884147\tAverage nonzero triplets: 2468.5524861878453\n",
            "Train: [48750/50000 (98%)]\tLoss: 6205.513477\tAverage nonzero triplets: 2470.0867346938776\n",
            "Epoch: 1/3. Train set: Average loss: 6247.5945\tAverage nonzero triplets: 2472.035175879397\n",
            "Epoch: 1/3. Validation set: Average loss: 6711.0961\tAverage nonzero triplets: 2632.7948717948716\n",
            "Train: [0/50000 (0%)]\tLoss: 5655.103516\tAverage nonzero triplets: 2442.0\n",
            "Train: [3750/50000 (8%)]\tLoss: 6301.040072\tAverage nonzero triplets: 2493.625\n",
            "Train: [7500/50000 (15%)]\tLoss: 6123.757324\tAverage nonzero triplets: 2481.3870967741937\n",
            "Train: [11250/50000 (22%)]\tLoss: 6062.052507\tAverage nonzero triplets: 2458.282608695652\n",
            "Train: [15000/50000 (30%)]\tLoss: 6044.274512\tAverage nonzero triplets: 2459.1147540983607\n",
            "Train: [18750/50000 (38%)]\tLoss: 6090.089486\tAverage nonzero triplets: 2459.0\n",
            "Train: [22500/50000 (45%)]\tLoss: 6065.947624\tAverage nonzero triplets: 2454.285714285714\n",
            "Train: [26250/50000 (52%)]\tLoss: 6086.202572\tAverage nonzero triplets: 2456.056603773585\n",
            "Train: [30000/50000 (60%)]\tLoss: 6271.918880\tAverage nonzero triplets: 2456.4545454545455\n",
            "Train: [33750/50000 (68%)]\tLoss: 6180.467643\tAverage nonzero triplets: 2454.845588235294\n",
            "Train: [37500/50000 (75%)]\tLoss: 6371.814030\tAverage nonzero triplets: 2461.0596026490066\n",
            "Train: [41250/50000 (82%)]\tLoss: 6132.961523\tAverage nonzero triplets: 2460.343373493976\n",
            "Train: [45000/50000 (90%)]\tLoss: 6030.842350\tAverage nonzero triplets: 2459.6408839779006\n",
            "Train: [48750/50000 (98%)]\tLoss: 6169.769694\tAverage nonzero triplets: 2464.3061224489797\n",
            "Epoch: 2/3. Train set: Average loss: 6152.2371\tAverage nonzero triplets: 2466.0552763819096\n",
            "Epoch: 2/3. Validation set: Average loss: 6467.1450\tAverage nonzero triplets: 2503.3846153846152\n",
            "Train: [0/50000 (0%)]\tLoss: 6663.981445\tAverage nonzero triplets: 2508.0\n",
            "Train: [3750/50000 (8%)]\tLoss: 5955.417904\tAverage nonzero triplets: 2411.25\n",
            "Train: [7500/50000 (15%)]\tLoss: 5900.917936\tAverage nonzero triplets: 2410.8064516129034\n",
            "Train: [11250/50000 (22%)]\tLoss: 6042.260775\tAverage nonzero triplets: 2431.7608695652175\n",
            "Train: [15000/50000 (30%)]\tLoss: 6019.300195\tAverage nonzero triplets: 2431.1147540983607\n",
            "Train: [18750/50000 (38%)]\tLoss: 6071.848079\tAverage nonzero triplets: 2434.8289473684213\n",
            "Train: [22500/50000 (45%)]\tLoss: 5809.269499\tAverage nonzero triplets: 2423.813186813187\n",
            "Train: [26250/50000 (52%)]\tLoss: 5864.470866\tAverage nonzero triplets: 2414.8867924528304\n",
            "Train: [30000/50000 (60%)]\tLoss: 6013.425195\tAverage nonzero triplets: 2418.3305785123966\n",
            "Train: [33750/50000 (68%)]\tLoss: 6163.093359\tAverage nonzero triplets: 2430.595588235294\n",
            "Train: [37500/50000 (75%)]\tLoss: 5893.468880\tAverage nonzero triplets: 2430.437086092715\n",
            "Train: [41250/50000 (82%)]\tLoss: 6000.468490\tAverage nonzero triplets: 2430.578313253012\n",
            "Train: [45000/50000 (90%)]\tLoss: 6220.465137\tAverage nonzero triplets: 2436.828729281768\n",
            "Train: [48750/50000 (98%)]\tLoss: 6110.781283\tAverage nonzero triplets: 2439.045918367347\n",
            "Epoch: 3/3. Train set: Average loss: 6011.4270\tAverage nonzero triplets: 2442.356783919598\n",
            "Epoch: 3/3. Validation set: Average loss: 6447.7771\tAverage nonzero triplets: 2557.153846153846\n",
            "Margin:  4\n",
            "Train: [0/50000 (0%)]\tLoss: 9525.335938\tAverage nonzero triplets: 2829.0\n",
            "Train: [3750/50000 (8%)]\tLoss: 9456.283398\tAverage nonzero triplets: 2742.1875\n",
            "Train: [7500/50000 (15%)]\tLoss: 9138.222461\tAverage nonzero triplets: 2727.2580645161293\n",
            "Train: [11250/50000 (22%)]\tLoss: 9261.997852\tAverage nonzero triplets: 2724.9565217391305\n",
            "Train: [15000/50000 (30%)]\tLoss: 9090.924056\tAverage nonzero triplets: 2712.065573770492\n",
            "Train: [18750/50000 (38%)]\tLoss: 9186.305078\tAverage nonzero triplets: 2700.8289473684213\n",
            "Train: [22500/50000 (45%)]\tLoss: 8877.000781\tAverage nonzero triplets: 2692.8901098901097\n",
            "Train: [26250/50000 (52%)]\tLoss: 9047.423242\tAverage nonzero triplets: 2688.6792452830186\n",
            "Train: [30000/50000 (60%)]\tLoss: 9030.474609\tAverage nonzero triplets: 2688.1322314049585\n",
            "Train: [33750/50000 (68%)]\tLoss: 9172.354948\tAverage nonzero triplets: 2686.764705882353\n",
            "Train: [37500/50000 (75%)]\tLoss: 8989.448730\tAverage nonzero triplets: 2684.880794701987\n",
            "Train: [41250/50000 (82%)]\tLoss: 9285.295833\tAverage nonzero triplets: 2686.3313253012047\n",
            "Train: [45000/50000 (90%)]\tLoss: 9370.906673\tAverage nonzero triplets: 2688.6077348066297\n",
            "Train: [48750/50000 (98%)]\tLoss: 9375.679427\tAverage nonzero triplets: 2690.780612244898\n",
            "Epoch: 1/3. Train set: Average loss: 9174.2844\tAverage nonzero triplets: 2692.2713567839196\n",
            "Epoch: 1/3. Validation set: Average loss: 9343.7252\tAverage nonzero triplets: 2805.358974358974\n",
            "Train: [0/50000 (0%)]\tLoss: 8440.549805\tAverage nonzero triplets: 2487.0\n",
            "Train: [3750/50000 (8%)]\tLoss: 8928.438509\tAverage nonzero triplets: 2631.4375\n",
            "Train: [7500/50000 (15%)]\tLoss: 9226.563867\tAverage nonzero triplets: 2660.7741935483873\n",
            "Train: [11250/50000 (22%)]\tLoss: 9024.371940\tAverage nonzero triplets: 2663.2608695652175\n",
            "Train: [15000/50000 (30%)]\tLoss: 9083.502539\tAverage nonzero triplets: 2659.5081967213114\n",
            "Train: [18750/50000 (38%)]\tLoss: 9066.017155\tAverage nonzero triplets: 2665.5131578947367\n",
            "Train: [22500/50000 (45%)]\tLoss: 9354.317480\tAverage nonzero triplets: 2668.5604395604396\n",
            "Train: [26250/50000 (52%)]\tLoss: 9188.992773\tAverage nonzero triplets: 2672.6509433962265\n",
            "Train: [30000/50000 (60%)]\tLoss: 9496.824349\tAverage nonzero triplets: 2682.776859504132\n",
            "Train: [33750/50000 (68%)]\tLoss: 9070.014909\tAverage nonzero triplets: 2681.823529411765\n",
            "Train: [37500/50000 (75%)]\tLoss: 9262.219987\tAverage nonzero triplets: 2688.3509933774835\n",
            "Train: [41250/50000 (82%)]\tLoss: 8927.627344\tAverage nonzero triplets: 2687.9036144578313\n",
            "Train: [45000/50000 (90%)]\tLoss: 9228.605469\tAverage nonzero triplets: 2688.2872928176794\n",
            "Train: [48750/50000 (98%)]\tLoss: 9215.428353\tAverage nonzero triplets: 2690.066326530612\n",
            "Epoch: 2/3. Train set: Average loss: 9152.4907\tAverage nonzero triplets: 2690.115577889447\n",
            "Epoch: 2/3. Validation set: Average loss: 9572.5360\tAverage nonzero triplets: 2886.4102564102564\n",
            "Train: [0/50000 (0%)]\tLoss: 8542.390625\tAverage nonzero triplets: 2564.0\n",
            "Train: [3750/50000 (8%)]\tLoss: 9366.651172\tAverage nonzero triplets: 2761.0625\n",
            "Train: [7500/50000 (15%)]\tLoss: 9147.363932\tAverage nonzero triplets: 2739.064516129032\n",
            "Train: [11250/50000 (22%)]\tLoss: 9261.161654\tAverage nonzero triplets: 2734.5652173913045\n",
            "Train: [15000/50000 (30%)]\tLoss: 9223.620378\tAverage nonzero triplets: 2727.8524590163934\n",
            "Train: [18750/50000 (38%)]\tLoss: 9332.013932\tAverage nonzero triplets: 2732.3289473684213\n",
            "Train: [22500/50000 (45%)]\tLoss: 8938.702441\tAverage nonzero triplets: 2722.989010989011\n",
            "Train: [26250/50000 (52%)]\tLoss: 9208.813281\tAverage nonzero triplets: 2727.688679245283\n",
            "Train: [30000/50000 (60%)]\tLoss: 9320.908398\tAverage nonzero triplets: 2728.818181818182\n",
            "Train: [33750/50000 (68%)]\tLoss: 8767.031836\tAverage nonzero triplets: 2719.4926470588234\n",
            "Train: [37500/50000 (75%)]\tLoss: 9259.928190\tAverage nonzero triplets: 2716.8675496688743\n",
            "Train: [41250/50000 (82%)]\tLoss: 9084.615560\tAverage nonzero triplets: 2712.277108433735\n",
            "Train: [45000/50000 (90%)]\tLoss: 8895.657682\tAverage nonzero triplets: 2709.8618784530386\n",
            "Train: [48750/50000 (98%)]\tLoss: 9382.621029\tAverage nonzero triplets: 2710.887755102041\n",
            "Epoch: 3/3. Train set: Average loss: 9171.8355\tAverage nonzero triplets: 2712.035175879397\n",
            "Epoch: 3/3. Validation set: Average loss: 9450.3161\tAverage nonzero triplets: 2820.230769230769\n",
            "Margin:  8\n",
            "Train: [0/50000 (0%)]\tLoss: 12641.617188\tAverage nonzero triplets: 2944.0\n",
            "Train: [3750/50000 (8%)]\tLoss: 16031.809440\tAverage nonzero triplets: 2882.125\n",
            "Train: [7500/50000 (15%)]\tLoss: 15480.748568\tAverage nonzero triplets: 2901.064516129032\n",
            "Train: [11250/50000 (22%)]\tLoss: 15797.705078\tAverage nonzero triplets: 2908.8695652173915\n",
            "Train: [15000/50000 (30%)]\tLoss: 16086.155859\tAverage nonzero triplets: 2914.6065573770493\n",
            "Train: [18750/50000 (38%)]\tLoss: 15210.707357\tAverage nonzero triplets: 2906.3026315789475\n",
            "Train: [22500/50000 (45%)]\tLoss: 16107.566016\tAverage nonzero triplets: 2905.087912087912\n",
            "Train: [26250/50000 (52%)]\tLoss: 15499.849544\tAverage nonzero triplets: 2902.4811320754716\n",
            "Train: [30000/50000 (60%)]\tLoss: 15824.926302\tAverage nonzero triplets: 2900.3884297520663\n",
            "Train: [33750/50000 (68%)]\tLoss: 15847.225000\tAverage nonzero triplets: 2900.8970588235293\n",
            "Train: [37500/50000 (75%)]\tLoss: 15777.072005\tAverage nonzero triplets: 2900.655629139073\n",
            "Train: [41250/50000 (82%)]\tLoss: 15183.951237\tAverage nonzero triplets: 2900.0060240963853\n",
            "Train: [45000/50000 (90%)]\tLoss: 15883.943815\tAverage nonzero triplets: 2901.8784530386743\n",
            "Train: [48750/50000 (98%)]\tLoss: 15692.719206\tAverage nonzero triplets: 2903.4030612244896\n",
            "Epoch: 1/3. Train set: Average loss: 15701.9943\tAverage nonzero triplets: 2902.8442211055276\n",
            "Epoch: 1/3. Validation set: Average loss: 15776.8375\tAverage nonzero triplets: 2969.5897435897436\n",
            "Train: [0/50000 (0%)]\tLoss: 13881.870117\tAverage nonzero triplets: 2987.0\n",
            "Train: [3750/50000 (8%)]\tLoss: 16119.317122\tAverage nonzero triplets: 2900.875\n",
            "Train: [7500/50000 (15%)]\tLoss: 15616.502474\tAverage nonzero triplets: 2909.7419354838707\n",
            "Train: [11250/50000 (22%)]\tLoss: 15510.938802\tAverage nonzero triplets: 2901.782608695652\n",
            "Train: [15000/50000 (30%)]\tLoss: 15432.881576\tAverage nonzero triplets: 2895.2295081967213\n",
            "Train: [18750/50000 (38%)]\tLoss: 15444.650651\tAverage nonzero triplets: 2898.5526315789475\n",
            "Train: [22500/50000 (45%)]\tLoss: 16144.811003\tAverage nonzero triplets: 2903.5604395604396\n",
            "Train: [26250/50000 (52%)]\tLoss: 15480.039128\tAverage nonzero triplets: 2900.235849056604\n",
            "Train: [30000/50000 (60%)]\tLoss: 15510.986458\tAverage nonzero triplets: 2898.190082644628\n",
            "Train: [33750/50000 (68%)]\tLoss: 15983.166927\tAverage nonzero triplets: 2897.4338235294117\n",
            "Train: [37500/50000 (75%)]\tLoss: 15171.266146\tAverage nonzero triplets: 2894.337748344371\n",
            "Train: [41250/50000 (82%)]\tLoss: 15690.913346\tAverage nonzero triplets: 2896.1626506024095\n",
            "Train: [45000/50000 (90%)]\tLoss: 15683.996354\tAverage nonzero triplets: 2896.657458563536\n",
            "Train: [48750/50000 (98%)]\tLoss: 15767.022070\tAverage nonzero triplets: 2898.714285714286\n",
            "Epoch: 2/3. Train set: Average loss: 15647.1655\tAverage nonzero triplets: 2898.859296482412\n",
            "Epoch: 2/3. Validation set: Average loss: 16218.4231\tAverage nonzero triplets: 2938.25641025641\n",
            "Train: [0/50000 (0%)]\tLoss: 16206.207031\tAverage nonzero triplets: 2848.0\n",
            "Train: [3750/50000 (8%)]\tLoss: 15621.009245\tAverage nonzero triplets: 2896.25\n",
            "Train: [7500/50000 (15%)]\tLoss: 15568.188151\tAverage nonzero triplets: 2901.1935483870966\n",
            "Train: [11250/50000 (22%)]\tLoss: 16135.830339\tAverage nonzero triplets: 2901.608695652174\n",
            "Train: [15000/50000 (30%)]\tLoss: 15459.139193\tAverage nonzero triplets: 2903.6721311475408\n",
            "Train: [18750/50000 (38%)]\tLoss: 15421.292643\tAverage nonzero triplets: 2896.2105263157896\n",
            "Train: [22500/50000 (45%)]\tLoss: 15427.403711\tAverage nonzero triplets: 2898.2087912087914\n",
            "Train: [26250/50000 (52%)]\tLoss: 15694.089388\tAverage nonzero triplets: 2896.0283018867926\n",
            "Train: [30000/50000 (60%)]\tLoss: 15349.601302\tAverage nonzero triplets: 2895.8429752066118\n",
            "Train: [33750/50000 (68%)]\tLoss: 15610.702669\tAverage nonzero triplets: 2898.220588235294\n",
            "Train: [37500/50000 (75%)]\tLoss: 15813.963672\tAverage nonzero triplets: 2901.5562913907283\n",
            "Train: [41250/50000 (82%)]\tLoss: 15137.995247\tAverage nonzero triplets: 2899.1626506024095\n",
            "Train: [45000/50000 (90%)]\tLoss: 15229.546940\tAverage nonzero triplets: 2896.8674033149173\n",
            "Train: [48750/50000 (98%)]\tLoss: 15724.739844\tAverage nonzero triplets: 2896.673469387755\n",
            "Epoch: 3/3. Train set: Average loss: 15565.7684\tAverage nonzero triplets: 2897.547738693467\n",
            "Epoch: 3/3. Validation set: Average loss: 15936.3270\tAverage nonzero triplets: 2923.4871794871797\n",
            "Margin:  16\n",
            "Train: [0/50000 (0%)]\tLoss: 26821.861328\tAverage nonzero triplets: 3000.0\n",
            "Train: [3750/50000 (8%)]\tLoss: 32838.766146\tAverage nonzero triplets: 2966.9375\n",
            "Train: [7500/50000 (15%)]\tLoss: 31846.440625\tAverage nonzero triplets: 2979.0967741935483\n",
            "Train: [11250/50000 (22%)]\tLoss: 31484.952995\tAverage nonzero triplets: 2979.0\n",
            "Train: [15000/50000 (30%)]\tLoss: 32118.449219\tAverage nonzero triplets: 2983.1475409836066\n",
            "Train: [18750/50000 (38%)]\tLoss: 31867.726562\tAverage nonzero triplets: 2981.5\n"
          ],
          "name": "stdout"
        }
      ]
    },
    {
      "cell_type": "code",
      "metadata": {
        "id": "AD21WqXCHlqc",
        "colab_type": "code",
        "colab": {}
      },
      "source": [
        "torch.save(model, './triplet_vgg20_2.mdl')"
      ],
      "execution_count": 0,
      "outputs": []
    },
    {
      "cell_type": "code",
      "metadata": {
        "id": "ddYXN5naIdXp",
        "colab_type": "code",
        "colab": {}
      },
      "source": [
        ""
      ],
      "execution_count": 0,
      "outputs": []
    },
    {
      "cell_type": "code",
      "metadata": {
        "id": "kodDsXoMwF6-",
        "colab_type": "code",
        "colab": {}
      },
      "source": [
        "# save to google drive \n",
        "\n",
        "from google.colab import drive\n",
        "drive.mount('/gdrive')\n",
        "\n",
        "!cp *.mdl /gdrive/My\\ Drive/tooploox"
      ],
      "execution_count": 0,
      "outputs": []
    },
    {
      "cell_type": "code",
      "metadata": {
        "id": "kP3tTynrwS_I",
        "colab_type": "code",
        "colab": {}
      },
      "source": [
        "# load data\n",
        "from google.colab import drive\n",
        "drive.mount('/gdrive')\n",
        "!cp /gdrive/My\\ Drive/tooploox/*.mdl ./ "
      ],
      "execution_count": 0,
      "outputs": []
    },
    {
      "cell_type": "code",
      "metadata": {
        "id": "Hj5dM0U2v4f9",
        "colab_type": "code",
        "colab": {}
      },
      "source": [
        "model_test = torch.load('./triplet_vgg19.mdl')\n",
        "model.eval()"
      ],
      "execution_count": 0,
      "outputs": []
    },
    {
      "cell_type": "code",
      "metadata": {
        "id": "YOw-fCVY_sGx",
        "colab_type": "code",
        "colab": {}
      },
      "source": [
        "# Freeze all the parameters in the model\n",
        "def freeze_model(model):\n",
        "  for params in model.parameters():\n",
        "    params.requires_grad=False\n",
        "\n",
        "def unfreeze_model(model):\n",
        "  for params in model.parameters():\n",
        "    params.requires_grad= True\n",
        "\n",
        "# check if all the parameters have been freezed\n",
        "def list_trainable(model):\n",
        "  for params in model.parameters():\n",
        "    print(params.requires_grad)\n",
        "  \n",
        "# delete the last layers\n",
        "def del_last_layers(model_class, num_layers):\n",
        "  model_class = nn.Sequential(*list(model_class.children())[:-num_layers])\n",
        "  return model_class"
      ],
      "execution_count": 0,
      "outputs": []
    },
    {
      "cell_type": "code",
      "metadata": {
        "id": "y6-64Pswx7GH",
        "colab_type": "code",
        "colab": {}
      },
      "source": [
        "def create_embeddings(model, embedding_size):\n",
        "  model.eval()\n",
        "  device = torch.device('cuda' if torch.cuda.is_available() else 'cpu')\n",
        "  print(device)\n",
        "\n",
        "  features = {}\n",
        "  targets = {}\n",
        "  model.to(device)\n",
        "  features['train'] = np.empty([0, embedding_size])\n",
        "  targets['train'] = np.empty([0, ])\n",
        "\n",
        "  features['test'] = np.empty([0, embedding_size])\n",
        "  targets['test'] = np.empty([0,])\n",
        "\n",
        "  for i, (images,target) in enumerate(data_loader['train']):\n",
        "    images = images.to(device)\n",
        "    target = target.to(device)\n",
        "    try:\n",
        "      output = model(images).cpu().detach().numpy()\n",
        "      features['train'] = np.append(features['train'],output, axis=0)\n",
        "      targets['train'] = np.append(targets['train'],target.cpu(), axis=0)\n",
        "    except:\n",
        "      print(output.shape)\n",
        "      print('error occured: ', e)\n",
        "      return (None, None)\n",
        "    \n",
        "    if i%100 == 0:\n",
        "      print(i)\n",
        "\n",
        "  for i, (images,target) in enumerate(data_loader['test']):\n",
        "    images = images.to(device)\n",
        "    target = target.to(device)\n",
        "\n",
        "    output = model(images).cpu().detach().numpy()\n",
        "    features['test'] = np.append(features['test'],output, axis=0)\n",
        "    targets['test'] = np.append(targets['test'],target.cpu(), axis=0)\n",
        "\n",
        "    if i%100 == 0:\n",
        "      print(i)\n",
        "  return (features, targets)"
      ],
      "execution_count": 0,
      "outputs": []
    },
    {
      "cell_type": "code",
      "metadata": {
        "id": "M8_GyOjMylBx",
        "colab_type": "code",
        "outputId": "42fcab0a-670c-467b-dd04-b06d8f797a56",
        "colab": {
          "base_uri": "https://localhost:8080/",
          "height": 217
        }
      },
      "source": [
        "features, targets = create_embeddings(model, 32)"
      ],
      "execution_count": 0,
      "outputs": [
        {
          "output_type": "stream",
          "text": [
            "cuda\n",
            "0\n",
            "100\n",
            "200\n",
            "300\n",
            "400\n",
            "500\n",
            "600\n",
            "700\n",
            "0\n",
            "100\n"
          ],
          "name": "stdout"
        }
      ]
    },
    {
      "cell_type": "code",
      "metadata": {
        "id": "Zp3_pLe6_aBk",
        "colab_type": "code",
        "outputId": "2fef9901-bf37-4793-aded-d2d708ed9270",
        "colab": {
          "base_uri": "https://localhost:8080/",
          "height": 72
        }
      },
      "source": [
        "features_sign = {}\n",
        "features_sign['train'] = np.sign(features['train'])\n",
        "features_sign['test'] = np.sign(features['test'])\n",
        "features_sign['test'][0]"
      ],
      "execution_count": 0,
      "outputs": [
        {
          "output_type": "execute_result",
          "data": {
            "text/plain": [
              "array([ 1.,  1.,  1., -1.,  1., -1., -1.,  1.,  1.,  1., -1., -1.,  1.,\n",
              "       -1.,  1.,  1., -1.,  1.,  1.,  1.,  1.,  1., -1., -1., -1.,  1.,\n",
              "        1.,  1., -1.,  1., -1., -1.])"
            ]
          },
          "metadata": {
            "tags": []
          },
          "execution_count": 17
        }
      ]
    },
    {
      "cell_type": "code",
      "metadata": {
        "id": "NGjNaMPZyvWA",
        "colab_type": "code",
        "outputId": "d7016e75-c42d-409e-822c-05dfbd1f4636",
        "colab": {
          "base_uri": "https://localhost:8080/",
          "height": 1000
        }
      },
      "source": [
        "model_emb = model\n",
        "freeze_model(model_emb)\n",
        "print(model_emb)"
      ],
      "execution_count": 0,
      "outputs": [
        {
          "output_type": "stream",
          "text": [
            "ResNet(\n",
            "  (conv1): Conv2d(3, 64, kernel_size=(7, 7), stride=(2, 2), padding=(3, 3), bias=False)\n",
            "  (bn1): BatchNorm2d(64, eps=1e-05, momentum=0.1, affine=True, track_running_stats=True)\n",
            "  (relu): ReLU(inplace=True)\n",
            "  (maxpool): MaxPool2d(kernel_size=3, stride=2, padding=1, dilation=1, ceil_mode=False)\n",
            "  (layer1): Sequential(\n",
            "    (0): BasicBlock(\n",
            "      (conv1): Conv2d(64, 64, kernel_size=(3, 3), stride=(1, 1), padding=(1, 1), bias=False)\n",
            "      (bn1): BatchNorm2d(64, eps=1e-05, momentum=0.1, affine=True, track_running_stats=True)\n",
            "      (relu): ReLU(inplace=True)\n",
            "      (conv2): Conv2d(64, 64, kernel_size=(3, 3), stride=(1, 1), padding=(1, 1), bias=False)\n",
            "      (bn2): BatchNorm2d(64, eps=1e-05, momentum=0.1, affine=True, track_running_stats=True)\n",
            "    )\n",
            "    (1): BasicBlock(\n",
            "      (conv1): Conv2d(64, 64, kernel_size=(3, 3), stride=(1, 1), padding=(1, 1), bias=False)\n",
            "      (bn1): BatchNorm2d(64, eps=1e-05, momentum=0.1, affine=True, track_running_stats=True)\n",
            "      (relu): ReLU(inplace=True)\n",
            "      (conv2): Conv2d(64, 64, kernel_size=(3, 3), stride=(1, 1), padding=(1, 1), bias=False)\n",
            "      (bn2): BatchNorm2d(64, eps=1e-05, momentum=0.1, affine=True, track_running_stats=True)\n",
            "    )\n",
            "  )\n",
            "  (layer2): Sequential(\n",
            "    (0): BasicBlock(\n",
            "      (conv1): Conv2d(64, 128, kernel_size=(3, 3), stride=(2, 2), padding=(1, 1), bias=False)\n",
            "      (bn1): BatchNorm2d(128, eps=1e-05, momentum=0.1, affine=True, track_running_stats=True)\n",
            "      (relu): ReLU(inplace=True)\n",
            "      (conv2): Conv2d(128, 128, kernel_size=(3, 3), stride=(1, 1), padding=(1, 1), bias=False)\n",
            "      (bn2): BatchNorm2d(128, eps=1e-05, momentum=0.1, affine=True, track_running_stats=True)\n",
            "      (downsample): Sequential(\n",
            "        (0): Conv2d(64, 128, kernel_size=(1, 1), stride=(2, 2), bias=False)\n",
            "        (1): BatchNorm2d(128, eps=1e-05, momentum=0.1, affine=True, track_running_stats=True)\n",
            "      )\n",
            "    )\n",
            "    (1): BasicBlock(\n",
            "      (conv1): Conv2d(128, 128, kernel_size=(3, 3), stride=(1, 1), padding=(1, 1), bias=False)\n",
            "      (bn1): BatchNorm2d(128, eps=1e-05, momentum=0.1, affine=True, track_running_stats=True)\n",
            "      (relu): ReLU(inplace=True)\n",
            "      (conv2): Conv2d(128, 128, kernel_size=(3, 3), stride=(1, 1), padding=(1, 1), bias=False)\n",
            "      (bn2): BatchNorm2d(128, eps=1e-05, momentum=0.1, affine=True, track_running_stats=True)\n",
            "    )\n",
            "  )\n",
            "  (layer3): Sequential(\n",
            "    (0): BasicBlock(\n",
            "      (conv1): Conv2d(128, 256, kernel_size=(3, 3), stride=(2, 2), padding=(1, 1), bias=False)\n",
            "      (bn1): BatchNorm2d(256, eps=1e-05, momentum=0.1, affine=True, track_running_stats=True)\n",
            "      (relu): ReLU(inplace=True)\n",
            "      (conv2): Conv2d(256, 256, kernel_size=(3, 3), stride=(1, 1), padding=(1, 1), bias=False)\n",
            "      (bn2): BatchNorm2d(256, eps=1e-05, momentum=0.1, affine=True, track_running_stats=True)\n",
            "      (downsample): Sequential(\n",
            "        (0): Conv2d(128, 256, kernel_size=(1, 1), stride=(2, 2), bias=False)\n",
            "        (1): BatchNorm2d(256, eps=1e-05, momentum=0.1, affine=True, track_running_stats=True)\n",
            "      )\n",
            "    )\n",
            "    (1): BasicBlock(\n",
            "      (conv1): Conv2d(256, 256, kernel_size=(3, 3), stride=(1, 1), padding=(1, 1), bias=False)\n",
            "      (bn1): BatchNorm2d(256, eps=1e-05, momentum=0.1, affine=True, track_running_stats=True)\n",
            "      (relu): ReLU(inplace=True)\n",
            "      (conv2): Conv2d(256, 256, kernel_size=(3, 3), stride=(1, 1), padding=(1, 1), bias=False)\n",
            "      (bn2): BatchNorm2d(256, eps=1e-05, momentum=0.1, affine=True, track_running_stats=True)\n",
            "    )\n",
            "  )\n",
            "  (layer4): Sequential(\n",
            "    (0): BasicBlock(\n",
            "      (conv1): Conv2d(256, 512, kernel_size=(3, 3), stride=(2, 2), padding=(1, 1), bias=False)\n",
            "      (bn1): BatchNorm2d(512, eps=1e-05, momentum=0.1, affine=True, track_running_stats=True)\n",
            "      (relu): ReLU(inplace=True)\n",
            "      (conv2): Conv2d(512, 512, kernel_size=(3, 3), stride=(1, 1), padding=(1, 1), bias=False)\n",
            "      (bn2): BatchNorm2d(512, eps=1e-05, momentum=0.1, affine=True, track_running_stats=True)\n",
            "      (downsample): Sequential(\n",
            "        (0): Conv2d(256, 512, kernel_size=(1, 1), stride=(2, 2), bias=False)\n",
            "        (1): BatchNorm2d(512, eps=1e-05, momentum=0.1, affine=True, track_running_stats=True)\n",
            "      )\n",
            "    )\n",
            "    (1): BasicBlock(\n",
            "      (conv1): Conv2d(512, 512, kernel_size=(3, 3), stride=(1, 1), padding=(1, 1), bias=False)\n",
            "      (bn1): BatchNorm2d(512, eps=1e-05, momentum=0.1, affine=True, track_running_stats=True)\n",
            "      (relu): ReLU(inplace=True)\n",
            "      (conv2): Conv2d(512, 512, kernel_size=(3, 3), stride=(1, 1), padding=(1, 1), bias=False)\n",
            "      (bn2): BatchNorm2d(512, eps=1e-05, momentum=0.1, affine=True, track_running_stats=True)\n",
            "    )\n",
            "  )\n",
            "  (avgpool): AdaptiveAvgPool2d(output_size=(1, 1))\n",
            "  (fc): BinaryLayer(\n",
            "    (binaryLayer): Sequential(\n",
            "      (0): Linear(in_features=512, out_features=256, bias=True)\n",
            "      (1): ReLU()\n",
            "      (2): Linear(in_features=256, out_features=128, bias=True)\n",
            "      (3): ReLU()\n",
            "      (4): Linear(in_features=128, out_features=32, bias=True)\n",
            "    )\n",
            "  )\n",
            ")\n"
          ],
          "name": "stdout"
        }
      ]
    },
    {
      "cell_type": "code",
      "metadata": {
        "id": "MgGvI0PR_hlm",
        "colab_type": "code",
        "colab": {}
      },
      "source": [
        "# Save and load\n",
        "import pickle\n",
        "\n",
        "def save(features, targets, model_name):\n",
        "  with open(model_name+'.embs', 'wb') as file:\n",
        "    pickle.dump((features,targets), file)\n",
        "    print('file saved in ', model_name)\n",
        "\n",
        "def load(model_name):\n",
        "  with open(model_name+'.embs', 'rb') as file:\n",
        "    features, targets = pickle.load(file)\n",
        "    return (features, targets)\n"
      ],
      "execution_count": 0,
      "outputs": []
    },
    {
      "cell_type": "code",
      "metadata": {
        "id": "Miqi61eqAIvx",
        "colab_type": "code",
        "colab": {}
      },
      "source": [
        "# save the computed embeddings\n",
        "save(features, targets, 'resnet18_semihardNegetive')"
      ],
      "execution_count": 0,
      "outputs": []
    },
    {
      "cell_type": "code",
      "metadata": {
        "id": "c6waqp5oATjE",
        "colab_type": "code",
        "colab": {}
      },
      "source": [
        "# save to google drive \n",
        "\n",
        "from google.colab import drive\n",
        "drive.mount('/gdrive')\n",
        "\n",
        "!cp *embs /gdrive/My\\ Drive/tooploox"
      ],
      "execution_count": 0,
      "outputs": []
    },
    {
      "cell_type": "code",
      "metadata": {
        "id": "UP891c-sYuQf",
        "colab_type": "code",
        "colab": {}
      },
      "source": [
        "!ls /gdrive/My\\ Drive/tooploox"
      ],
      "execution_count": 0,
      "outputs": []
    },
    {
      "cell_type": "code",
      "metadata": {
        "id": "lpDtuaMfAUms",
        "colab_type": "code",
        "outputId": "315f8c6d-003e-4a6a-c401-8d0675e0cbd1",
        "colab": {
          "base_uri": "https://localhost:8080/",
          "height": 126
        }
      },
      "source": [
        "from sklearn.neighbors import KNeighborsClassifier\n",
        "from sklearn import metrics\n",
        "\n",
        "k_range = range(25,30)\n",
        "\n",
        "def search_knn_accuracies(k_range, features, targets):\n",
        "  acc = []\n",
        "  for k in k_range:\n",
        "    knn = KNeighborsClassifier(n_neighbors=k)\n",
        "    knn.fit(features['train'], targets['train'])\n",
        "    #print('finished fitting')\n",
        "    predict = knn.predict(features['test'][:3000,:])\n",
        "    #print('predicted')\n",
        "    score = metrics.accuracy_score(targets['test'][:3000], predict)\n",
        "    print('K value: %d, accuracy: %0.7f' %(k, score))\n",
        "    acc.append(score)\n",
        "  print('Mean accuracy ',sum(acc)/len(acc))\n",
        "\n",
        "# the best score was obtained when k = 20:24\n",
        "search_knn_accuracies(k_range, features_sign, targets)"
      ],
      "execution_count": 0,
      "outputs": [
        {
          "output_type": "stream",
          "text": [
            "K value: 25, accuracy: 0.8166667\n",
            "K value: 26, accuracy: 0.8166667\n",
            "K value: 27, accuracy: 0.8166667\n",
            "K value: 28, accuracy: 0.8200000\n",
            "K value: 29, accuracy: 0.8266667\n",
            "Mean accuracy  0.8193333333333334\n"
          ],
          "name": "stdout"
        }
      ]
    },
    {
      "cell_type": "code",
      "metadata": {
        "id": "OFy1JSKSAZU8",
        "colab_type": "code",
        "outputId": "77106d04-956b-4f80-b2c6-b783ab1e6162",
        "colab": {
          "base_uri": "https://localhost:8080/",
          "height": 35
        }
      },
      "source": [
        "import time\n",
        "import pandas as pd\n",
        "import numpy as np\n",
        "import matplotlib.pyplot as plt\n",
        "import matplotlib.patheffects as PathEffects\n",
        "from sklearn.manifold import TSNE\n",
        "%matplotlib inline\n",
        "\n",
        "from sklearn.decomposition import PCA\n",
        "from sklearn.manifold import TSNE\n",
        "\n",
        "import seaborn as sns\n",
        "sns.set_style('darkgrid')\n",
        "sns.set_palette('muted')\n",
        "sns.set_context(\"notebook\", font_scale=1.5,\n",
        "                rc={\"lines.linewidth\": 2.5})\n",
        "RS = 123\n",
        "# need to create a subset of the data, too much time to process otherwise\n",
        "x_subset = features['train'][:5000]\n",
        "y_subset = targets['train'][:5000]\n",
        "\n",
        "print(np.unique(y_subset))\n",
        "labels = {\n",
        "     0: 'airplane',  \n",
        "     1: 'automobile',\n",
        "     2: 'bird',\n",
        "     3: 'cat',\n",
        "     4: 'deer',\n",
        "     5: 'dog',\n",
        "     6: 'frog',\n",
        "     7: 'horse',\n",
        "     8: 'ship',\n",
        "     9: 'truck',\n",
        "}\n",
        "# Utility function to visualize the outputs of PCA and t-SNE\n",
        "\n",
        "def fashion_scatter(x, colors):\n",
        "    # choose a color palette with seaborn.\n",
        "    num_classes = len(np.unique(colors))\n",
        "    palette = np.array(sns.color_palette(\"hls\", num_classes))\n",
        "\n",
        "    # create a scatter plot.\n",
        "    f = plt.figure(figsize=(8, 8))\n",
        "    ax = plt.subplot(aspect='equal')\n",
        "    sc = ax.scatter(x[:,0], x[:,1], lw=0, s=40, c=palette[colors.astype(np.int)])\n",
        "    plt.xlim(-25, 25)\n",
        "    plt.ylim(-25, 25)\n",
        "    ax.axis('off')\n",
        "    ax.axis('tight')\n",
        "\n",
        "    # add the labels for each digit corresponding to the label\n",
        "    txts = []\n",
        "\n",
        "    for i in range(num_classes):\n",
        "\n",
        "        # Position of each label at median of data points.\n",
        "\n",
        "        xtext, ytext = np.median(x[colors == i, :], axis=0)\n",
        "        txt = ax.text(xtext, ytext, str(labels[i]), fontsize=24)\n",
        "        txt.set_path_effects([\n",
        "            PathEffects.Stroke(linewidth=5, foreground=\"w\"),\n",
        "            PathEffects.Normal()])\n",
        "        txts.append(txt)\n",
        "\n",
        "    return f, ax, sc, txts"
      ],
      "execution_count": 0,
      "outputs": [
        {
          "output_type": "stream",
          "text": [
            "[0. 1. 2. 3. 4. 5. 6. 7. 8. 9.]\n"
          ],
          "name": "stdout"
        }
      ]
    },
    {
      "cell_type": "code",
      "metadata": {
        "id": "rD-BsELyA6BR",
        "colab_type": "code",
        "outputId": "6000fca0-8040-42b0-8552-675b4a97774a",
        "colab": {
          "base_uri": "https://localhost:8080/",
          "height": 72
        }
      },
      "source": [
        "# do pca before passing to tsne to reduce noice and fast performance\n",
        "time_start = time.time()\n",
        "\n",
        "pca_50 = PCA(n_components=32)\n",
        "pca_result_50 = pca_50.fit_transform(x_subset)\n",
        "\n",
        "print('PCA with 50 components done! Time elapsed: {} seconds'.format(time.time()-time_start))\n",
        "\n",
        "print('Cumulative variance explained by 50 principal components: {}'.format(np.sum(pca_50.explained_variance_ratio_)))\n",
        "# perform tsne on 50 components\n",
        "time_start = time.time()\n",
        "\n",
        "\n",
        "fashion_pca_tsne = TSNE(random_state=RS).fit_transform(pca_result_50)\n",
        "\n",
        "print('t-SNE done! Time elapsed: {} seconds'.format(time.time()-time_start))"
      ],
      "execution_count": 0,
      "outputs": [
        {
          "output_type": "stream",
          "text": [
            "PCA with 50 components done! Time elapsed: 0.013734579086303711 seconds\n",
            "Cumulative variance explained by 50 principal components: 0.9999999999999998\n",
            "t-SNE done! Time elapsed: 38.04813265800476 seconds\n"
          ],
          "name": "stdout"
        }
      ]
    },
    {
      "cell_type": "code",
      "metadata": {
        "id": "G2HvhLmEA-ah",
        "colab_type": "code",
        "outputId": "ca39d36f-cf8c-4819-f73e-c621d87ad295",
        "colab": {
          "base_uri": "https://localhost:8080/",
          "height": 703
        }
      },
      "source": [
        "fashion_scatter(fashion_pca_tsne, y_subset)"
      ],
      "execution_count": 0,
      "outputs": [
        {
          "output_type": "execute_result",
          "data": {
            "text/plain": [
              "(<Figure size 576x576 with 1 Axes>,\n",
              " <matplotlib.axes._subplots.AxesSubplot at 0x7ff6f28544e0>,\n",
              " <matplotlib.collections.PathCollection at 0x7ff6ce132630>,\n",
              " [Text(27.32955, 12.475764, 'airplane'),\n",
              "  Text(29.198328, -41.440365, 'automobile'),\n",
              "  Text(-5.070323, 23.804375, 'bird'),\n",
              "  Text(-20.183815, -21.368778, 'cat'),\n",
              "  Text(-21.842598, 4.1905127, 'deer'),\n",
              "  Text(-0.91563195, -18.443077, 'dog'),\n",
              "  Text(-25.16116, 35.953205, 'frog'),\n",
              "  Text(-47.06183, -11.363101, 'horse'),\n",
              "  Text(18.714464, 44.82725, 'ship'),\n",
              "  Text(53.469124, -9.025802, 'truck')])"
            ]
          },
          "metadata": {
            "tags": []
          },
          "execution_count": 22
        },
        {
          "output_type": "display_data",
          "data": {
            "image/png": "[encoded data removed]",
            "text/plain": [
              "<Figure size 576x576 with 1 Axes>"
            ]
          },
          "metadata": {
            "tags": []
          }
        }
      ]
    },
    {
      "cell_type": "code",
      "metadata": {
        "id": "fqfk3460dGYa",
        "colab_type": "code",
        "colab": {}
      },
      "source": [
        ""
      ],
      "execution_count": 0,
      "outputs": []
    },
    {
      "cell_type": "code",
      "metadata": {
        "id": "H3T9eTgFHje3",
        "colab_type": "code",
        "outputId": "0672acc2-36ef-4828-fc45-f82bc55ccfba",
        "colab": {
          "base_uri": "https://localhost:8080/",
          "height": 35
        }
      },
      "source": [
        "def average_precision(vector):\n",
        "  assert vector.ndim == 1\n",
        "  sum_precision = 0\n",
        "  num_true_values = 0\n",
        "  for i, value in enumerate(vector):\n",
        "    if value:\n",
        "      num_true_values += 1\n",
        "    sum_precision += value*num_true_values/(i+1)\n",
        "  return sum_precision/(sum(vector)+ 0.00000001)\n",
        "def mAP(features, targets):\n",
        "\n",
        "  num_elements_to_retrieve = 50\n",
        "  num_test_queries = 36\n",
        "\n",
        "  knn = KNeighborsClassifier(n_neighbors=29)\n",
        "  knn.fit(features['train'], targets['train'])\n",
        "  indexes = knn.kneighbors(features['test'][:num_test_queries],num_elements_to_retrieve, return_distance=False)\n",
        "  results = targets['train'][indexes] == targets['test'][:num_test_queries].reshape(-1, 1)\n",
        "  APs = []\n",
        "  for vector in results:\n",
        "    APs.append(average_precision(vector))\n",
        "  print('mAP is: ',sum(APs)/len(APs))\n",
        "mAP(features_sign, targets)"
      ],
      "execution_count": 0,
      "outputs": [
        {
          "output_type": "stream",
          "text": [
            "mAP is:  0.7955411307037716\n"
          ],
          "name": "stdout"
        }
      ]
    },
    {
      "cell_type": "code",
      "metadata": {
        "id": "UeO0qmFG_5im",
        "colab_type": "code",
        "colab": {}
      },
      "source": [
        ""
      ],
      "execution_count": 0,
      "outputs": []
    }
  ]
}