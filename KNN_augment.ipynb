{
 "cells": [
  {
   "cell_type": "markdown",
   "metadata": {},
   "source": [
    "# KNN\n",
    "\n",
    "This notebook aims to use a pre-trained network in order to train a KNN-algorithm to make the final predictions."
   ]
  },
  {
   "cell_type": "code",
   "execution_count": null,
   "metadata": {
    "id": "vcGRbzNS8fkY"
   },
   "outputs": [],
   "source": [
    "#Uncomment the line bellow only if it is necesssary\n",
    "#!unzip drive/MyDrive/hackathon-isae-2021-patch-retrieval.zip"
   ]
  },
  {
   "cell_type": "code",
   "execution_count": null,
   "metadata": {
    "id": "PAE0y0bx7yZV"
   },
   "outputs": [],
   "source": [
    "import numpy as np\n",
    "import torch\n",
    "import torch.nn as nn\n",
    "import torch.nn.functional as F\n",
    "from torchvision.transforms.functional import rotate\n",
    "from torchvision.models import resnet18\n",
    "from torch.utils.data import DataLoader\n",
    "from torch.utils.data import Dataset\n",
    "from glob import glob\n",
    "from typing import List,Optional,Callable\n",
    "import torchvision.transforms as transforms\n",
    "from PIL import Image\n",
    "from tqdm import tqdm_notebook\n",
    "from sklearn.neighbors import KNeighborsClassifier\n",
    "from sklearn.pipeline import make_pipeline\n",
    "from sklearn.preprocessing import StandardScaler\n",
    "from sklearn.naive_bayes import GaussianNB\n",
    "import sys\n",
    "import matplotlib.pyplot as plt"
   ]
  },
  {
   "cell_type": "markdown",
   "metadata": {},
   "source": [
    "## Preparation\n",
    "### Model loader"
   ]
  },
  {
   "cell_type": "code",
   "execution_count": null,
   "metadata": {
    "id": "rOjP9KEo8EVB"
   },
   "outputs": [],
   "source": [
    "class Identity(nn.Module):\n",
    "    def __init__(self):\n",
    "        super(Identity, self).__init__()\n",
    "        \n",
    "    def forward(self, x):\n",
    "        return x\n",
    "    \n",
    "class MetricResnet(nn.Module):\n",
    "    def __init__(self, backbone: nn.Module):\n",
    "        super().__init__()\n",
    "        self.backbone = backbone\n",
    "        self.flatten = nn.Flatten()\n",
    "        self.linear_1 = nn.Linear(512 * 7 * 7, 128)\n",
    "        self.activation = nn.ReLU()\n",
    "    def forward(self, x: torch.Tensor) -> torch.Tensor:\n",
    "        x = self.backbone(x)\n",
    "        x = self.flatten(x)\n",
    "        x = self.activation(x)\n",
    "        x = self.linear_1(x)\n",
    "        x = F.normalize(x, p=2, dim=1)\n",
    "        return x\n",
    "  "
   ]
  },
  {
   "cell_type": "code",
   "execution_count": null,
   "metadata": {
    "id": "nAdqgFqb7-B2"
   },
   "outputs": [],
   "source": [
    "def model_inference(model:nn.Module, loader, device='cuda',rot=False):\n",
    "    model.eval()\n",
    "    list_pred = []\n",
    "    list_path_name = []\n",
    "    with torch.no_grad():\n",
    "        for image,path in tqdm_notebook(loader):\n",
    "            if rot == True:\n",
    "                a = np.random.choice([90,180,-90],size=1)\n",
    "                image = rotate(image,angle=int(a))\n",
    "            image = image.to(device)\n",
    "            pred = model(image)\n",
    "            pred = pred.view(-1) # BATCH SIZE EQUAL TO 1\n",
    "            list_pred.append(pred.detach().cpu().numpy())\n",
    "            list_path_name.append(path)\n",
    "    return list_pred,list_path_name"
   ]
  },
  {
   "cell_type": "code",
   "execution_count": null,
   "metadata": {
    "id": "ToJImhHO8JkK"
   },
   "outputs": [],
   "source": [
    "path_model = \"drive/MyDrive/Hackathon/Models/noid_10ep_margin2_lr3-5_batch128_workers8.pt\"\n",
    "embedding_model = torch.load(path_model)#,map_location=torch.device('cpu'))"
   ]
  },
  {
   "cell_type": "markdown",
   "metadata": {},
   "source": [
    "### Data loader"
   ]
  },
  {
   "cell_type": "code",
   "execution_count": null,
   "metadata": {
    "id": "nAdqgFqb7-B2"
   },
   "outputs": [],
   "source": [
    "class ImageDataset(Dataset):\n",
    "    def __init__(self, list_path: List[int], transform: Optional[Callable]=None):\n",
    "        self.list_path = list_path\n",
    "        if transform is None:\n",
    "            self.transform = transforms.ToTensor()\n",
    "        else:\n",
    "            self.transform = transform\n",
    "    def __len__(self) -> int:\n",
    "        return len(self.list_path)\n",
    "    def __getitem__(self, index:int):\n",
    "        path = self.list_path[index]\n",
    "        image = Image.open(path)\n",
    "        image = self.transform(image)\n",
    "        final_path = path.split(\"/\")[-1]\n",
    "        return image,final_path"
   ]
  },
  {
   "cell_type": "code",
   "execution_count": null,
   "metadata": {
    "colab": {
     "base_uri": "https://localhost:8080/",
     "height": 103,
     "referenced_widgets": [
      "f31c09437c5a49fcbf5fe19f0dfaf50c",
      "a9324cdd81814fde8ccf587c4da10acf",
      "e2f9e258b91a47a0a557e2fde904f8b1",
      "7346f71ce83147718ed2675f2f9a67a4",
      "f2b45fbdeb614d2ea7a35da665afbedb",
      "a2c1879c03634426a6bc06b000bea643",
      "d4b518c79b5c4043a72b4d3628391c21",
      "d88ab24b809d49608c0ad4554adaba20"
     ]
    },
    "id": "_kt23jKA8W5a",
    "outputId": "7975b5b8-cacb-4aae-dae3-e7c59a7afd62"
   },
   "outputs": [],
   "source": [
    "path_train = sorted(glob(\"Train/Train/*.png\"))\n",
    "images_train = ImageDataset(path_train)\n",
    "loader_train = DataLoader(images_train,batch_size=1,num_workers = 2)\n",
    "list_pred_train, list_path_train = model_inference(embedding_model,loader_train)"
   ]
  },
  {
   "cell_type": "code",
   "execution_count": null,
   "metadata": {},
   "outputs": [],
   "source": [
    "contrast_transform = transforms.Compose([\n",
    "    transforms.ToTensor(),\n",
    "    transforms.ColorJitter(contrast=1),\n",
    "])\n",
    "transform = contrast_transform"
   ]
  },
  {
   "cell_type": "code",
   "execution_count": null,
   "metadata": {},
   "outputs": [],
   "source": [
    "images_train_trans = ImageDataset(path_train,transform=transform)\n",
    "loader_train_trans = DataLoader(images_train_trans,batch_size=1,num_workers = 2)\n",
    "list_pred_train_trans, list_path_train_trans = model_inference(embedding_model,loader_train_trans)"
   ]
  },
  {
   "cell_type": "code",
   "execution_count": null,
   "metadata": {},
   "outputs": [],
   "source": [
    "fig,ax = plt.subplots(1,2,figsize=(15,9))\n",
    "ax[0].imshow(images_train_trans[0][0].permute(1,2,0).numpy())\n",
    "ax[1].imshow(images_train[0][0].permute(1,2,0).numpy())"
   ]
  },
  {
   "cell_type": "code",
   "execution_count": null,
   "metadata": {
    "id": "G8heKE6Z8qNO"
   },
   "outputs": [],
   "source": [
    "path_test = sorted(glob(\"Test/Test/*.png\"))\n",
    "images_test = ImageDataset(path_test)\n",
    "loader_test = DataLoader(images_test,batch_size=1,num_workers = 2)\n",
    "list_pred_test, list_path_test = model_inference(embedding_model,loader_test)"
   ]
  },
  {
   "cell_type": "markdown",
   "metadata": {},
   "source": [
    "## KNN training"
   ]
  },
  {
   "cell_type": "code",
   "execution_count": null,
   "metadata": {},
   "outputs": [],
   "source": [
    "len(list_pred_train + list_pred_train_trans)"
   ]
  },
  {
   "cell_type": "code",
   "execution_count": null,
   "metadata": {
    "id": "mzuVxe058t7Z"
   },
   "outputs": [],
   "source": [
    "list_label_train = [int(path.split(\"_\")[-2]) for path in [p[0] for p in list_path_train]]\n",
    "X_train = np.stack(list_pred_train, axis=0)\n",
    "y_train = np.array(list_label_train)"
   ]
  },
  {
   "cell_type": "code",
   "execution_count": null,
   "metadata": {},
   "outputs": [],
   "source": [
    "list_label_train = [int(path.split(\"_\")[-2]) for path in [p[0] for p in list_path_train]]\n",
    "list_label_train_trans = [int(path.split(\"_\")[-2]) for path in [p[0] for p in list_path_train_trans]]\n",
    "X_train = np.stack(list_pred_train+list_pred_train_trans, axis=0)\n",
    "y_train = np.array(list_label_train+list_label_train_trans)"
   ]
  },
  {
   "cell_type": "code",
   "execution_count": null,
   "metadata": {},
   "outputs": [],
   "source": [
    "pipe = make_pipeline(StandardScaler(), KNeighborsClassifier(n_neighbors=500))\n",
    "pipe.fit(X_train, y_train)"
   ]
  },
  {
   "cell_type": "code",
   "execution_count": null,
   "metadata": {},
   "outputs": [],
   "source": [
    "pipe = make_pipeline(StandardScaler(), GaussianNB())\n",
    "pipe.fit(X_train, y_train)"
   ]
  },
  {
   "cell_type": "code",
   "execution_count": null,
   "metadata": {
    "id": "lFY3gbKY8wc9"
   },
   "outputs": [],
   "source": [
    "#Choose the cell above or this one. The cell above looks better\n",
    "#knn_model = KNeighborsClassifier(n_neighbors=500)\n",
    "#knn_model.fit(X_train, y_train)"
   ]
  },
  {
   "cell_type": "markdown",
   "metadata": {},
   "source": [
    "## Predictions"
   ]
  },
  {
   "cell_type": "code",
   "execution_count": null,
   "metadata": {
    "id": "QQezHVmX8zB_"
   },
   "outputs": [],
   "source": [
    "X_test = np.stack(list_pred_test, axis=0)\n",
    "pred_knn_proba = pipe.predict_proba(X_test)    "
   ]
  },
  {
   "cell_type": "code",
   "execution_count": null,
   "metadata": {
    "id": "YKqYJPIJ81RU"
   },
   "outputs": [],
   "source": [
    "top_k = np.argsort(pred_knn_proba.copy(), axis=1)[:, -20:]\n",
    "np.save(\"top_k.npy\",top_k)"
   ]
  },
  {
   "cell_type": "markdown",
   "metadata": {},
   "source": [
    "## Submission file"
   ]
  },
  {
   "cell_type": "code",
   "execution_count": null,
   "metadata": {},
   "outputs": [],
   "source": [
    "def submission(top_k,list_path_test):\n",
    "    import csv\n",
    "    with open('submission.csv', mode='w') as csv_file:\n",
    "        fieldnames = ['file_name', 'label']\n",
    "        writer = csv.DictWriter(csv_file, fieldnames=fieldnames)\n",
    "        writer.writeheader()\n",
    "        for (i,pred),path in zip(enumerate(top_k),list_path_test):\n",
    "            best_labels = \" \".join([str(a) for a in top_k[i][::-1]])\n",
    "            writer.writerow({'file_name': path[0], 'label':best_labels})\n",
    "\n",
    "submission(top_k,list_path_test)"
   ]
  },
  {
   "cell_type": "markdown",
   "metadata": {},
   "source": [
    "## Visualization"
   ]
  },
  {
   "cell_type": "code",
   "execution_count": null,
   "metadata": {},
   "outputs": [],
   "source": [
    "nb = 5\n",
    "nb_pred = 10\n",
    "fig,ax = plt.subplots(nb_pred,nb+1,figsize=(18,35))\n",
    "for i in range(nb_pred):\n",
    "    image_test_i = images_test[i][0].permute(1,2,0).numpy()\n",
    "    first_n_pred = top_k[i][-nb:][::-1]\n",
    "    ax[i,0].imshow(image_test_i)\n",
    "    ax[i,0].set_title(\"Test image n°{}\".format(i))\n",
    "    for j,n in enumerate(first_n_pred):\n",
    "        a = np.where(list_label_train==n)[0][0]\n",
    "        image_pred_i = images_train[a][0].permute(1,2,0).numpy()\n",
    "        ax[i,j+1].imshow(image_pred_i)\n",
    "        ax[i,j+1].set_title(\"Prediction n°{}, Time serie n° {}\".format(j,n))"
   ]
  }
 ],
 "metadata": {
  "accelerator": "GPU",
  "colab": {
   "collapsed_sections": [],
   "name": "Final_KNN.ipynb",
   "provenance": []
  },
  "kernelspec": {
   "display_name": "Python 3",
   "language": "python",
   "name": "python3"
  },
  "language_info": {
   "codemirror_mode": {
    "name": "ipython",
    "version": 3
   },
   "file_extension": ".py",
   "mimetype": "text/x-python",
   "name": "python",
   "nbconvert_exporter": "python",
   "pygments_lexer": "ipython3",
   "version": "3.8.5"
  },
  "widgets": {
   "application/vnd.jupyter.widget-state+json": {
    "7346f71ce83147718ed2675f2f9a67a4": {
     "model_module": "@jupyter-widgets/controls",
     "model_name": "HTMLModel",
     "state": {
      "_dom_classes": [],
      "_model_module": "@jupyter-widgets/controls",
      "_model_module_version": "1.5.0",
      "_model_name": "HTMLModel",
      "_view_count": null,
      "_view_module": "@jupyter-widgets/controls",
      "_view_module_version": "1.5.0",
      "_view_name": "HTMLView",
      "description": "",
      "description_tooltip": null,
      "layout": "IPY_MODEL_d88ab24b809d49608c0ad4554adaba20",
      "placeholder": "​",
      "style": "IPY_MODEL_d4b518c79b5c4043a72b4d3628391c21",
      "value": " 3611/40000 [00:38&lt;06:25, 94.43it/s]"
     }
    },
    "a2c1879c03634426a6bc06b000bea643": {
     "model_module": "@jupyter-widgets/base",
     "model_name": "LayoutModel",
     "state": {
      "_model_module": "@jupyter-widgets/base",
      "_model_module_version": "1.2.0",
      "_model_name": "LayoutModel",
      "_view_count": null,
      "_view_module": "@jupyter-widgets/base",
      "_view_module_version": "1.2.0",
      "_view_name": "LayoutView",
      "align_content": null,
      "align_items": null,
      "align_self": null,
      "border": null,
      "bottom": null,
      "display": null,
      "flex": null,
      "flex_flow": null,
      "grid_area": null,
      "grid_auto_columns": null,
      "grid_auto_flow": null,
      "grid_auto_rows": null,
      "grid_column": null,
      "grid_gap": null,
      "grid_row": null,
      "grid_template_areas": null,
      "grid_template_columns": null,
      "grid_template_rows": null,
      "height": null,
      "justify_content": null,
      "justify_items": null,
      "left": null,
      "margin": null,
      "max_height": null,
      "max_width": null,
      "min_height": null,
      "min_width": null,
      "object_fit": null,
      "object_position": null,
      "order": null,
      "overflow": null,
      "overflow_x": null,
      "overflow_y": null,
      "padding": null,
      "right": null,
      "top": null,
      "visibility": null,
      "width": null
     }
    },
    "a9324cdd81814fde8ccf587c4da10acf": {
     "model_module": "@jupyter-widgets/base",
     "model_name": "LayoutModel",
     "state": {
      "_model_module": "@jupyter-widgets/base",
      "_model_module_version": "1.2.0",
      "_model_name": "LayoutModel",
      "_view_count": null,
      "_view_module": "@jupyter-widgets/base",
      "_view_module_version": "1.2.0",
      "_view_name": "LayoutView",
      "align_content": null,
      "align_items": null,
      "align_self": null,
      "border": null,
      "bottom": null,
      "display": null,
      "flex": null,
      "flex_flow": null,
      "grid_area": null,
      "grid_auto_columns": null,
      "grid_auto_flow": null,
      "grid_auto_rows": null,
      "grid_column": null,
      "grid_gap": null,
      "grid_row": null,
      "grid_template_areas": null,
      "grid_template_columns": null,
      "grid_template_rows": null,
      "height": null,
      "justify_content": null,
      "justify_items": null,
      "left": null,
      "margin": null,
      "max_height": null,
      "max_width": null,
      "min_height": null,
      "min_width": null,
      "object_fit": null,
      "object_position": null,
      "order": null,
      "overflow": null,
      "overflow_x": null,
      "overflow_y": null,
      "padding": null,
      "right": null,
      "top": null,
      "visibility": null,
      "width": null
     }
    },
    "d4b518c79b5c4043a72b4d3628391c21": {
     "model_module": "@jupyter-widgets/controls",
     "model_name": "DescriptionStyleModel",
     "state": {
      "_model_module": "@jupyter-widgets/controls",
      "_model_module_version": "1.5.0",
      "_model_name": "DescriptionStyleModel",
      "_view_count": null,
      "_view_module": "@jupyter-widgets/base",
      "_view_module_version": "1.2.0",
      "_view_name": "StyleView",
      "description_width": ""
     }
    },
    "d88ab24b809d49608c0ad4554adaba20": {
     "model_module": "@jupyter-widgets/base",
     "model_name": "LayoutModel",
     "state": {
      "_model_module": "@jupyter-widgets/base",
      "_model_module_version": "1.2.0",
      "_model_name": "LayoutModel",
      "_view_count": null,
      "_view_module": "@jupyter-widgets/base",
      "_view_module_version": "1.2.0",
      "_view_name": "LayoutView",
      "align_content": null,
      "align_items": null,
      "align_self": null,
      "border": null,
      "bottom": null,
      "display": null,
      "flex": null,
      "flex_flow": null,
      "grid_area": null,
      "grid_auto_columns": null,
      "grid_auto_flow": null,
      "grid_auto_rows": null,
      "grid_column": null,
      "grid_gap": null,
      "grid_row": null,
      "grid_template_areas": null,
      "grid_template_columns": null,
      "grid_template_rows": null,
      "height": null,
      "justify_content": null,
      "justify_items": null,
      "left": null,
      "margin": null,
      "max_height": null,
      "max_width": null,
      "min_height": null,
      "min_width": null,
      "object_fit": null,
      "object_position": null,
      "order": null,
      "overflow": null,
      "overflow_x": null,
      "overflow_y": null,
      "padding": null,
      "right": null,
      "top": null,
      "visibility": null,
      "width": null
     }
    },
    "e2f9e258b91a47a0a557e2fde904f8b1": {
     "model_module": "@jupyter-widgets/controls",
     "model_name": "FloatProgressModel",
     "state": {
      "_dom_classes": [],
      "_model_module": "@jupyter-widgets/controls",
      "_model_module_version": "1.5.0",
      "_model_name": "FloatProgressModel",
      "_view_count": null,
      "_view_module": "@jupyter-widgets/controls",
      "_view_module_version": "1.5.0",
      "_view_name": "ProgressView",
      "bar_style": "",
      "description": "  9%",
      "description_tooltip": null,
      "layout": "IPY_MODEL_a2c1879c03634426a6bc06b000bea643",
      "max": 40000,
      "min": 0,
      "orientation": "horizontal",
      "style": "IPY_MODEL_f2b45fbdeb614d2ea7a35da665afbedb",
      "value": 3611
     }
    },
    "f2b45fbdeb614d2ea7a35da665afbedb": {
     "model_module": "@jupyter-widgets/controls",
     "model_name": "ProgressStyleModel",
     "state": {
      "_model_module": "@jupyter-widgets/controls",
      "_model_module_version": "1.5.0",
      "_model_name": "ProgressStyleModel",
      "_view_count": null,
      "_view_module": "@jupyter-widgets/base",
      "_view_module_version": "1.2.0",
      "_view_name": "StyleView",
      "bar_color": null,
      "description_width": "initial"
     }
    },
    "f31c09437c5a49fcbf5fe19f0dfaf50c": {
     "model_module": "@jupyter-widgets/controls",
     "model_name": "HBoxModel",
     "state": {
      "_dom_classes": [],
      "_model_module": "@jupyter-widgets/controls",
      "_model_module_version": "1.5.0",
      "_model_name": "HBoxModel",
      "_view_count": null,
      "_view_module": "@jupyter-widgets/controls",
      "_view_module_version": "1.5.0",
      "_view_name": "HBoxView",
      "box_style": "",
      "children": [
       "IPY_MODEL_e2f9e258b91a47a0a557e2fde904f8b1",
       "IPY_MODEL_7346f71ce83147718ed2675f2f9a67a4"
      ],
      "layout": "IPY_MODEL_a9324cdd81814fde8ccf587c4da10acf"
     }
    }
   }
  }
 },
 "nbformat": 4,
 "nbformat_minor": 1
}
